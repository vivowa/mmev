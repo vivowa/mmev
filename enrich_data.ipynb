{
 "cells": [
  {
   "cell_type": "code",
   "execution_count": null,
   "metadata": {},
   "outputs": [],
   "source": [
    "import requests\n",
    "import time\n",
    "import pandas as pd\n",
    "import numpy as np\n",
    "from web3 import Web3\n",
    "\n",
    "pd.options.mode.chained_assignment = None"
   ]
  },
  {
   "cell_type": "markdown",
   "metadata": {},
   "source": [
    "## Etherscan"
   ]
  },
  {
   "cell_type": "code",
   "execution_count": null,
   "metadata": {},
   "outputs": [],
   "source": [
    "FOLDER = './'\n",
    "\n",
    "with open(FOLDER + 'etherscan.txt', 'r') as file:\n",
    "    KEY = file.read()\n",
    "\n",
    "\n",
    "\n"
   ]
  },
  {
   "cell_type": "code",
   "execution_count": null,
   "metadata": {},
   "outputs": [],
   "source": [
    "df = pd.read_csv(FOLDER + 'blocks.csv')"
   ]
  },
  {
   "cell_type": "code",
   "execution_count": null,
   "metadata": {},
   "outputs": [],
   "source": [
    "def build_payload(block):\n",
    "    PAYLOAD = 'https://api.etherscan.io/api' \\\n",
    "             + '?module=block' \\\n",
    "             + '&action=getblockreward' \\\n",
    "             + f'&blockno={block}' \\\n",
    "             + f'&apikey={KEY}'\n",
    "    return PAYLOAD"
   ]
  },
  {
   "cell_type": "code",
   "execution_count": null,
   "metadata": {},
   "outputs": [],
   "source": [
    "def send_payload(payload):\n",
    "    try:\n",
    "        response = requests.get(payload)\n",
    "        raw = response.json()\n",
    "        raw = raw['result']\n",
    "    except:\n",
    "        time.sleep(5)\n",
    "        return send_payload(payload)\n",
    "\n",
    "    return raw\n"
   ]
  },
  {
   "cell_type": "code",
   "execution_count": null,
   "metadata": {},
   "outputs": [],
   "source": [
    "for i in range(0, len(df)):\n",
    "    block = df['block_number'].iloc[i]\n",
    "    payload = build_payload(block)\n",
    "    raw = send_payload(payload)\n",
    "    processed_df = process_payload(raw)\n",
    "    df = merge_tables(df, processed_df)\n",
    "\n",
    "\n"
   ]
  },
  {
   "cell_type": "code",
   "execution_count": null,
   "metadata": {},
   "outputs": [],
   "source": [
    "def process_payload(raw):\n",
    "    raw.pop('uncles', None)\n",
    "    raw.pop('uncleInclusionReward', None)\n",
    "    \n",
    "    processed_df = pd.DataFrame(raw, index=[0])\n",
    "    \n",
    "    processed_df['block_number'] = processed_df['block_number'].astype(int)\n",
    "    processed_df['timestamp'] = processed_df['timestamp'].astype(int)\n",
    "    processed_df['blockReward'] = processed_df['blockReward'].astype(int)\n",
    "    \n",
    "    raw_df.rename(columns={'blockNumber': 'block_number', 'timeStamp': 'timestamp'}, inplace=True)\n",
    "    \n",
    "    return processed_df"
   ]
  },
  {
   "cell_type": "code",
   "execution_count": null,
   "metadata": {},
   "outputs": [],
   "source": [
    "def merge_tables(df, processed_df):\n",
    "\n",
    "    df = df.merge(raw_df, how='left', on='block_number')\n",
    "    \n",
    "    return df\n"
   ]
  },
  {
   "cell_type": "code",
   "execution_count": null,
   "metadata": {},
   "outputs": [],
   "source": [
    "df.to_csv(FOLDER + 'blocks.csv', index=False)"
   ]
  },
  {
   "cell_type": "markdown",
   "metadata": {},
   "source": [
    "## Infura"
   ]
  },
  {
   "cell_type": "code",
   "execution_count": null,
   "metadata": {},
   "outputs": [],
   "source": [
    "FOLDER = './'\n",
    "\n",
    "with open(FOLDER + 'infura.txt', 'r') as file:\n",
    "    RPC_ENDPOINT = file.read()"
   ]
  },
  {
   "cell_type": "code",
   "execution_count": null,
   "metadata": {},
   "outputs": [],
   "source": [
    "w3 = Web3(Web3.HTTPProvider(RPC_ENDPOINT))\n",
    "assert w3.isConnected()\n",
    "\n",
    "for i in range(0, len(df)):\n",
    "    block = df['block_number'].iloc[i]\n",
    "\n",
    "    block_dct = send_request(block)\n",
    "    block_df = process_block(block_dct)\n",
    "    df = merge_tables(df, block_df)"
   ]
  },
  {
   "cell_type": "code",
   "execution_count": null,
   "metadata": {},
   "outputs": [],
   "source": [
    "def send_request(block):\n",
    "    try:\n",
    "        block_dct = w3.eth.getBlock(block)\n",
    "    except:\n",
    "        time.sleep(5)\n",
    "        return send_request(block)\n",
    "    \n",
    "    return block_dct"
   ]
  },
  {
   "cell_type": "code",
   "execution_count": null,
   "metadata": {},
   "outputs": [],
   "source": [
    "def process_block(block_dct):\n",
    "\n",
    "    block_df = pd.DataFrame(columns = ['block_number', 'block_hash', 'txn_hashes', 'txn_count'], index=[0])\n",
    "    block_df['block_number'] = block_dct['number']\n",
    "    block_df['block_hash'] = block_dct['hash'].hex()\n",
    "\n",
    "    txn_hashes = [tx.hex() for tx in block_dct['transactions']]\n",
    "    block_df['txn_hashes'][0] = list(txn_hashes)\n",
    "    block_df['txn_count'] = len(txn_hashes)\n",
    "\n",
    "    return block_df\n"
   ]
  },
  {
   "cell_type": "code",
   "execution_count": null,
   "metadata": {},
   "outputs": [],
   "source": [
    "def merge_tables(df, block_df):\n",
    "\n",
    "    df = df.merge(block_df, how='left', on='block_number')\n",
    "    \n",
    "    return df\n"
   ]
  },
  {
   "cell_type": "code",
   "execution_count": null,
   "metadata": {},
   "outputs": [],
   "source": [
    "df.to_csv(FOLDER + 'blocks.csv', index=False)"
   ]
  }
 ],
 "metadata": {
  "kernelspec": {
   "display_name": "Python 3 (ipykernel)",
   "language": "python",
   "name": "python3"
  },
  "language_info": {
   "codemirror_mode": {
    "name": "ipython",
    "version": 3
   },
   "file_extension": ".py",
   "mimetype": "text/x-python",
   "name": "python",
   "nbconvert_exporter": "python",
   "pygments_lexer": "ipython3",
   "version": "3.8.3"
  }
 },
 "nbformat": 4,
 "nbformat_minor": 4
}
