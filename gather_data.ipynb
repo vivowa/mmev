{
 "cells": [
  {
   "cell_type": "code",
   "execution_count": 2,
   "metadata": {},
   "outputs": [],
   "source": [
    "import requests\n",
    "import time\n",
    "import pandas as pd\n",
    "import numpy as np\n",
    "import uuid\n",
    "\n",
    "pd.options.mode.chained_assignment = None"
   ]
  },
  {
   "cell_type": "code",
   "execution_count": 3,
   "metadata": {},
   "outputs": [],
   "source": [
    "FOLDER = './'\n",
    "\n",
    "def build_payload(limit):\n",
    "    PAYLOAD = 'https://blocks.flashbots.net/v1/blocks' \\\n",
    "             + f'?limit={limit}'\n",
    "    return PAYLOAD\n",
    "\n",
    "def send_payload(payload):\n",
    "    try:\n",
    "        response = requests.get(payload)\n",
    "\n",
    "        raw = response.json()\n",
    "        raw = raw['blocks']\n",
    "\n",
    "    except:\n",
    "        time.sleep(59)\n",
    "        return send_payload(payload)\n",
    "\n",
    "    return raw"
   ]
  },
  {
   "cell_type": "code",
   "execution_count": 4,
   "metadata": {},
   "outputs": [],
   "source": [
    "payload = build_payload(5)\n",
    "\n",
    "raw = send_payload(payload)\n",
    "\n",
    "df_block = pd.DataFrame.from_dict(raw)\n",
    "\n",
    "df_block.drop(columns=['transactions'], inplace=True)\n",
    "df_block.sort_values(by='block_number', ascending=True, inplace=True)\n",
    "df_block.reset_index(drop=True, inplace=True)\n",
    "#df_raw.to_csv('blocks.csv', mode='a', index=False)\n",
    "\n",
    "\n",
    "def create_transactions(raw):\n",
    "    txn = []\n",
    "    for i in range(0, len(raw)):\n",
    "        txn.append(raw[i]['transactions'])\n",
    "    \n",
    "    txn = [item for sublist in txn for item in sublist]\n",
    "    return txn\n",
    "\n",
    "txn = create_transactions(raw)\n",
    "df_txn = pd.DataFrame.from_dict(txn)\n",
    "\n",
    "#df_txn.to_csv('txn.csv', mode='a', index=False)\n",
    "\n",
    "\n",
    "\n",
    "\n",
    "\n",
    "\n"
   ]
  },
  {
   "cell_type": "code",
   "execution_count": null,
   "metadata": {},
   "outputs": [],
   "source": [
    "def create_bundles(df_txn):\n",
    "    blocks = np.unique(df_txn['block_number'])\n",
    "    bdl = []\n",
    "    for i in range(0, len(blocks)):\n",
    "        bundles = np.unique(df_txn[df_txn['block_number'] == blocks[i]]['bundle_index'])\n",
    "        for j in range(0, len(bundles)):\n",
    "            temp = df_txn[(df_txn['block_number'] == blocks[i]) & (df_txn['bundle_index'] == bundles[j])]\n",
    "            temp['id'] = uuid.uuid4()\n",
    "            temp.reset_index(drop=True, inplace=True)\n",
    "            bdl.append(temp.to_dict())\n",
    "\n",
    "    return bdl\n",
    "\n",
    "bdl = create_bundles(df_txn)\n",
    "bdl_df = pd.DataFrame.from_dict(bdl)"
   ]
  }
 ],
 "metadata": {
  "kernelspec": {
   "display_name": "Python 3 (ipykernel)",
   "language": "python",
   "name": "python3"
  },
  "language_info": {
   "codemirror_mode": {
    "name": "ipython",
    "version": 3
   },
   "file_extension": ".py",
   "mimetype": "text/x-python",
   "name": "python",
   "nbconvert_exporter": "python",
   "pygments_lexer": "ipython3",
   "version": "3.8.3"
  }
 },
 "nbformat": 4,
 "nbformat_minor": 4
}
