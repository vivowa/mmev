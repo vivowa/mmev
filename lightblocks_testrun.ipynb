{
 "cells": [
  {
   "cell_type": "code",
   "execution_count": 1,
   "id": "0b5d2c21",
   "metadata": {},
   "outputs": [],
   "source": [
    "import pandas as pd\n",
    "import numpy as np\n",
    "import matplotlib.pyplot as plt\n",
    "\n",
    "from sympy import *"
   ]
  },
  {
   "cell_type": "markdown",
   "id": "300e9a50",
   "metadata": {},
   "source": [
    "### cleaning"
   ]
  },
  {
   "cell_type": "code",
   "execution_count": 2,
   "id": "2424bbea",
   "metadata": {},
   "outputs": [
    {
     "data": {
      "text/html": [
       "<div>\n",
       "<style scoped>\n",
       "    .dataframe tbody tr th:only-of-type {\n",
       "        vertical-align: middle;\n",
       "    }\n",
       "\n",
       "    .dataframe tbody tr th {\n",
       "        vertical-align: top;\n",
       "    }\n",
       "\n",
       "    .dataframe thead th {\n",
       "        text-align: right;\n",
       "    }\n",
       "</style>\n",
       "<table border=\"1\" class=\"dataframe\">\n",
       "  <thead>\n",
       "    <tr style=\"text-align: right;\">\n",
       "      <th></th>\n",
       "      <th>slot</th>\n",
       "      <th>block_hash</th>\n",
       "      <th>block_reward</th>\n",
       "      <th>gas_used</th>\n",
       "      <th>validator_pubkey</th>\n",
       "      <th>operator_name</th>\n",
       "      <th>pool_name</th>\n",
       "      <th>buidler_pubkey</th>\n",
       "      <th>buidler_name</th>\n",
       "      <th>relay_name</th>\n",
       "      <th>relay_url</th>\n",
       "    </tr>\n",
       "  </thead>\n",
       "  <tbody>\n",
       "    <tr>\n",
       "      <th>0</th>\n",
       "      <td>4700567</td>\n",
       "      <td>0x7d57a1d26f71724737f5dc780ca2dfb778c2fc5be29b...</td>\n",
       "      <td>0.283204</td>\n",
       "      <td>27657346</td>\n",
       "      <td>0xa606aca2180226fc69e0652134eca4c7f4a428585c11...</td>\n",
       "      <td>NaN</td>\n",
       "      <td>NaN</td>\n",
       "      <td>0xa1dead01e65f0a0eee7b5170223f20c8f0cbf122eac3...</td>\n",
       "      <td>flashbots</td>\n",
       "      <td>Flashbots</td>\n",
       "      <td>https://0xac6e77dfe25ecd6110b8e780608cce0dab71...</td>\n",
       "    </tr>\n",
       "    <tr>\n",
       "      <th>1</th>\n",
       "      <td>4700575</td>\n",
       "      <td>0xc923337f63a0ed51288b1468064085679383d41ebee7...</td>\n",
       "      <td>0.845802</td>\n",
       "      <td>27535785</td>\n",
       "      <td>0x9489e9354f515580f6a949f69eed311eeb26b268b744...</td>\n",
       "      <td>NaN</td>\n",
       "      <td>NaN</td>\n",
       "      <td>0xa1dead01e65f0a0eee7b5170223f20c8f0cbf122eac3...</td>\n",
       "      <td>flashbots</td>\n",
       "      <td>Flashbots</td>\n",
       "      <td>https://0xac6e77dfe25ecd6110b8e780608cce0dab71...</td>\n",
       "    </tr>\n",
       "    <tr>\n",
       "      <th>2</th>\n",
       "      <td>4700606</td>\n",
       "      <td>0x804f376a4e15f62a75f26828b8866a0db1cfb2bf9235...</td>\n",
       "      <td>0.213524</td>\n",
       "      <td>24830670</td>\n",
       "      <td>0x82d5ebc6c3ef5eda41dcbb1cbdfd5863ab6e4d16b137...</td>\n",
       "      <td>CryptoManufaktur</td>\n",
       "      <td>StakeWise</td>\n",
       "      <td>0x81beef03aafd3dd33ffd7deb337407142c80fea2690e...</td>\n",
       "      <td>flashbots</td>\n",
       "      <td>Flashbots</td>\n",
       "      <td>https://0xac6e77dfe25ecd6110b8e780608cce0dab71...</td>\n",
       "    </tr>\n",
       "    <tr>\n",
       "      <th>3</th>\n",
       "      <td>4700694</td>\n",
       "      <td>0x4ac8e0a2c04382ed4cdafd44e8f45b77a071a5974d78...</td>\n",
       "      <td>0.113136</td>\n",
       "      <td>23574818</td>\n",
       "      <td>0x8e7d5eed0f72cd56e547e2fabea19a65668577fd2d64...</td>\n",
       "      <td>NaN</td>\n",
       "      <td>NaN</td>\n",
       "      <td>0xa1dead01e65f0a0eee7b5170223f20c8f0cbf122eac3...</td>\n",
       "      <td>flashbots</td>\n",
       "      <td>Flashbots</td>\n",
       "      <td>https://0xac6e77dfe25ecd6110b8e780608cce0dab71...</td>\n",
       "    </tr>\n",
       "    <tr>\n",
       "      <th>4</th>\n",
       "      <td>4700724</td>\n",
       "      <td>0x43a4d4a888f1d2626a4c18f13ed0701f057606396a40...</td>\n",
       "      <td>0.637987</td>\n",
       "      <td>22578328</td>\n",
       "      <td>0xae1426c22c5c0d91d62c5a224759f44569a0a52e6cb8...</td>\n",
       "      <td>NaN</td>\n",
       "      <td>Rocketpool</td>\n",
       "      <td>0xa1dead01e65f0a0eee7b5170223f20c8f0cbf122eac3...</td>\n",
       "      <td>flashbots</td>\n",
       "      <td>Flashbots</td>\n",
       "      <td>https://0xac6e77dfe25ecd6110b8e780608cce0dab71...</td>\n",
       "    </tr>\n",
       "    <tr>\n",
       "      <th>...</th>\n",
       "      <td>...</td>\n",
       "      <td>...</td>\n",
       "      <td>...</td>\n",
       "      <td>...</td>\n",
       "      <td>...</td>\n",
       "      <td>...</td>\n",
       "      <td>...</td>\n",
       "      <td>...</td>\n",
       "      <td>...</td>\n",
       "      <td>...</td>\n",
       "      <td>...</td>\n",
       "    </tr>\n",
       "    <tr>\n",
       "      <th>749164</th>\n",
       "      <td>5694474</td>\n",
       "      <td>0x5d7275cf6b1416187f01863863f436534a532a22b874...</td>\n",
       "      <td>0.041200</td>\n",
       "      <td>16462587</td>\n",
       "      <td>0x93a7627c19128e53e502bb1695216d43c107e6b0d735...</td>\n",
       "      <td>Staked.us</td>\n",
       "      <td>NaN</td>\n",
       "      <td>0x81beef03aafd3dd33ffd7deb337407142c80fea2690e...</td>\n",
       "      <td>flashbots</td>\n",
       "      <td>Ultra Sound Relay</td>\n",
       "      <td>https://0xa1559ace749633b997cb3fdacffb890aeebd...</td>\n",
       "    </tr>\n",
       "    <tr>\n",
       "      <th>749165</th>\n",
       "      <td>5694475</td>\n",
       "      <td>0x14bce20a9a0da7882585e8f9a76a97a04eec7f28f37b...</td>\n",
       "      <td>0.020666</td>\n",
       "      <td>12956177</td>\n",
       "      <td>0x81f9ce11de952c4cfcc3b9ad46dae61aa29a388e7050...</td>\n",
       "      <td>NaN</td>\n",
       "      <td>Celsius Network</td>\n",
       "      <td>0x81babeec8c9f2bb9c329fd8a3b176032fe0ab5f3b92a...</td>\n",
       "      <td>flashbots</td>\n",
       "      <td>Flashbots</td>\n",
       "      <td>https://0xac6e77dfe25ecd6110b8e780608cce0dab71...</td>\n",
       "    </tr>\n",
       "    <tr>\n",
       "      <th>749166</th>\n",
       "      <td>5694476</td>\n",
       "      <td>0xde34a2c9b4e25b0b704fc73dd27978968af150cc71c9...</td>\n",
       "      <td>0.021962</td>\n",
       "      <td>12312887</td>\n",
       "      <td>0x8146d34e1eeb71636a55db301149f9221f454d844d66...</td>\n",
       "      <td>Staked.us</td>\n",
       "      <td>NaN</td>\n",
       "      <td>0x8000008a03ebae7d8ab2f66659bd719a698b2e74097d...</td>\n",
       "      <td>blocknative</td>\n",
       "      <td>Blocknative</td>\n",
       "      <td>https://0x9000009807ed12c1f08bf4e81c6da3ba8e3f...</td>\n",
       "    </tr>\n",
       "    <tr>\n",
       "      <th>749167</th>\n",
       "      <td>5694477</td>\n",
       "      <td>0xd1528589d94f505694481e41eeff54905e1e43d9f688...</td>\n",
       "      <td>0.019041</td>\n",
       "      <td>13282800</td>\n",
       "      <td>0x99fdae8f44eec993f4b907b9d53a6a9a75209dd98076...</td>\n",
       "      <td>NaN</td>\n",
       "      <td>NaN</td>\n",
       "      <td>0x81babeec8c9f2bb9c329fd8a3b176032fe0ab5f3b92a...</td>\n",
       "      <td>flashbots</td>\n",
       "      <td>Flashbots</td>\n",
       "      <td>https://0xac6e77dfe25ecd6110b8e780608cce0dab71...</td>\n",
       "    </tr>\n",
       "    <tr>\n",
       "      <th>749168</th>\n",
       "      <td>5694478</td>\n",
       "      <td>0x5815bae03d75d94007a4d15d35c1c0d6e28155ed8334...</td>\n",
       "      <td>0.028789</td>\n",
       "      <td>20210369</td>\n",
       "      <td>0xa575e41fb10eaa34b253cc1effb0de2b7b633002490e...</td>\n",
       "      <td>NaN</td>\n",
       "      <td>Kraken</td>\n",
       "      <td>0x96a59d355b1f65e270b29981dd113625732539e955a1...</td>\n",
       "      <td>beaverbuild.org</td>\n",
       "      <td>Agnostic Boost Relay</td>\n",
       "      <td>https://0xa7ab7a996c8584251c8f925da3170bdfd6eb...</td>\n",
       "    </tr>\n",
       "  </tbody>\n",
       "</table>\n",
       "<p>749169 rows × 11 columns</p>\n",
       "</div>"
      ],
      "text/plain": [
       "           slot                                         block_hash  \\\n",
       "0       4700567  0x7d57a1d26f71724737f5dc780ca2dfb778c2fc5be29b...   \n",
       "1       4700575  0xc923337f63a0ed51288b1468064085679383d41ebee7...   \n",
       "2       4700606  0x804f376a4e15f62a75f26828b8866a0db1cfb2bf9235...   \n",
       "3       4700694  0x4ac8e0a2c04382ed4cdafd44e8f45b77a071a5974d78...   \n",
       "4       4700724  0x43a4d4a888f1d2626a4c18f13ed0701f057606396a40...   \n",
       "...         ...                                                ...   \n",
       "749164  5694474  0x5d7275cf6b1416187f01863863f436534a532a22b874...   \n",
       "749165  5694475  0x14bce20a9a0da7882585e8f9a76a97a04eec7f28f37b...   \n",
       "749166  5694476  0xde34a2c9b4e25b0b704fc73dd27978968af150cc71c9...   \n",
       "749167  5694477  0xd1528589d94f505694481e41eeff54905e1e43d9f688...   \n",
       "749168  5694478  0x5815bae03d75d94007a4d15d35c1c0d6e28155ed8334...   \n",
       "\n",
       "        block_reward  gas_used  \\\n",
       "0           0.283204  27657346   \n",
       "1           0.845802  27535785   \n",
       "2           0.213524  24830670   \n",
       "3           0.113136  23574818   \n",
       "4           0.637987  22578328   \n",
       "...              ...       ...   \n",
       "749164      0.041200  16462587   \n",
       "749165      0.020666  12956177   \n",
       "749166      0.021962  12312887   \n",
       "749167      0.019041  13282800   \n",
       "749168      0.028789  20210369   \n",
       "\n",
       "                                         validator_pubkey     operator_name  \\\n",
       "0       0xa606aca2180226fc69e0652134eca4c7f4a428585c11...               NaN   \n",
       "1       0x9489e9354f515580f6a949f69eed311eeb26b268b744...               NaN   \n",
       "2       0x82d5ebc6c3ef5eda41dcbb1cbdfd5863ab6e4d16b137...  CryptoManufaktur   \n",
       "3       0x8e7d5eed0f72cd56e547e2fabea19a65668577fd2d64...               NaN   \n",
       "4       0xae1426c22c5c0d91d62c5a224759f44569a0a52e6cb8...               NaN   \n",
       "...                                                   ...               ...   \n",
       "749164  0x93a7627c19128e53e502bb1695216d43c107e6b0d735...         Staked.us   \n",
       "749165  0x81f9ce11de952c4cfcc3b9ad46dae61aa29a388e7050...               NaN   \n",
       "749166  0x8146d34e1eeb71636a55db301149f9221f454d844d66...         Staked.us   \n",
       "749167  0x99fdae8f44eec993f4b907b9d53a6a9a75209dd98076...               NaN   \n",
       "749168  0xa575e41fb10eaa34b253cc1effb0de2b7b633002490e...               NaN   \n",
       "\n",
       "              pool_name                                     buidler_pubkey  \\\n",
       "0                   NaN  0xa1dead01e65f0a0eee7b5170223f20c8f0cbf122eac3...   \n",
       "1                   NaN  0xa1dead01e65f0a0eee7b5170223f20c8f0cbf122eac3...   \n",
       "2             StakeWise  0x81beef03aafd3dd33ffd7deb337407142c80fea2690e...   \n",
       "3                   NaN  0xa1dead01e65f0a0eee7b5170223f20c8f0cbf122eac3...   \n",
       "4            Rocketpool  0xa1dead01e65f0a0eee7b5170223f20c8f0cbf122eac3...   \n",
       "...                 ...                                                ...   \n",
       "749164              NaN  0x81beef03aafd3dd33ffd7deb337407142c80fea2690e...   \n",
       "749165  Celsius Network  0x81babeec8c9f2bb9c329fd8a3b176032fe0ab5f3b92a...   \n",
       "749166              NaN  0x8000008a03ebae7d8ab2f66659bd719a698b2e74097d...   \n",
       "749167              NaN  0x81babeec8c9f2bb9c329fd8a3b176032fe0ab5f3b92a...   \n",
       "749168           Kraken  0x96a59d355b1f65e270b29981dd113625732539e955a1...   \n",
       "\n",
       "           buidler_name            relay_name  \\\n",
       "0             flashbots             Flashbots   \n",
       "1             flashbots             Flashbots   \n",
       "2             flashbots             Flashbots   \n",
       "3             flashbots             Flashbots   \n",
       "4             flashbots             Flashbots   \n",
       "...                 ...                   ...   \n",
       "749164        flashbots     Ultra Sound Relay   \n",
       "749165        flashbots             Flashbots   \n",
       "749166      blocknative           Blocknative   \n",
       "749167        flashbots             Flashbots   \n",
       "749168  beaverbuild.org  Agnostic Boost Relay   \n",
       "\n",
       "                                                relay_url  \n",
       "0       https://0xac6e77dfe25ecd6110b8e780608cce0dab71...  \n",
       "1       https://0xac6e77dfe25ecd6110b8e780608cce0dab71...  \n",
       "2       https://0xac6e77dfe25ecd6110b8e780608cce0dab71...  \n",
       "3       https://0xac6e77dfe25ecd6110b8e780608cce0dab71...  \n",
       "4       https://0xac6e77dfe25ecd6110b8e780608cce0dab71...  \n",
       "...                                                   ...  \n",
       "749164  https://0xa1559ace749633b997cb3fdacffb890aeebd...  \n",
       "749165  https://0xac6e77dfe25ecd6110b8e780608cce0dab71...  \n",
       "749166  https://0x9000009807ed12c1f08bf4e81c6da3ba8e3f...  \n",
       "749167  https://0xac6e77dfe25ecd6110b8e780608cce0dab71...  \n",
       "749168  https://0xa7ab7a996c8584251c8f925da3170bdfd6eb...  \n",
       "\n",
       "[749169 rows x 11 columns]"
      ]
     },
     "execution_count": 2,
     "metadata": {},
     "output_type": "execute_result"
    }
   ],
   "source": [
    "df_p = pd.read_csv('data/custom_ppds_output_2023-01-31.csv')\n",
    "df_p"
   ]
  },
  {
   "cell_type": "code",
   "execution_count": 3,
   "id": "18f5f6a5",
   "metadata": {},
   "outputs": [],
   "source": [
    "df_p.sort_values(by='slot', ascending=True, inplace=True)"
   ]
  },
  {
   "cell_type": "code",
   "execution_count": 4,
   "id": "82a43702",
   "metadata": {},
   "outputs": [],
   "source": [
    "df_p.drop_duplicates(subset=['slot'], keep='first', inplace=True)"
   ]
  },
  {
   "cell_type": "code",
   "execution_count": 5,
   "id": "613efcc1",
   "metadata": {},
   "outputs": [],
   "source": [
    "df_p.reset_index(drop=True, inplace=True)"
   ]
  },
  {
   "cell_type": "code",
   "execution_count": 6,
   "id": "8407c055",
   "metadata": {},
   "outputs": [],
   "source": [
    "df_p.rename(columns={'buidler_pubkey': 'builder_pubkey'}, inplace=True)\n",
    "df_p.rename(columns={'buidler_name': 'builder_name'}, inplace=True)\n"
   ]
  },
  {
   "cell_type": "code",
   "execution_count": 7,
   "id": "c4e1ba03",
   "metadata": {},
   "outputs": [
    {
     "name": "stdout",
     "output_type": "stream",
     "text": [
      "<class 'pandas.core.frame.DataFrame'>\n",
      "RangeIndex: 736738 entries, 0 to 736737\n",
      "Data columns (total 11 columns):\n",
      " #   Column            Non-Null Count   Dtype  \n",
      "---  ------            --------------   -----  \n",
      " 0   slot              736738 non-null  int64  \n",
      " 1   block_hash        736738 non-null  object \n",
      " 2   block_reward      736738 non-null  float64\n",
      " 3   gas_used          736738 non-null  int64  \n",
      " 4   validator_pubkey  736738 non-null  object \n",
      " 5   operator_name     292138 non-null  object \n",
      " 6   pool_name         492282 non-null  object \n",
      " 7   builder_pubkey    736738 non-null  object \n",
      " 8   builder_name      736738 non-null  object \n",
      " 9   relay_name        736738 non-null  object \n",
      " 10  relay_url         736738 non-null  object \n",
      "dtypes: float64(1), int64(2), object(8)\n",
      "memory usage: 61.8+ MB\n"
     ]
    }
   ],
   "source": [
    "df_p.info()"
   ]
  },
  {
   "cell_type": "code",
   "execution_count": 8,
   "id": "85694c73",
   "metadata": {},
   "outputs": [
    {
     "name": "stdout",
     "output_type": "stream",
     "text": [
      "['flashbots' 'eden' 'bloxroute' 'Unknown' 'blocknative' 'manifold'\n",
      " 'builder0x69' 'Ø\\x83\\x01\\x0b\\x84geth\\x88go1.19.1\\x85linux'\n",
      " 'https://eth-builder.com' 'beaverbuild.org']\n"
     ]
    }
   ],
   "source": [
    "print(df_p['builder_name'].unique())\n",
    "df_p = df_p[['slot', 'block_hash', 'block_reward', 'gas_used', 'validator_pubkey', 'builder_pubkey', 'builder_name', 'relay_name']]\n"
   ]
  },
  {
   "cell_type": "code",
   "execution_count": 9,
   "id": "acae263c",
   "metadata": {},
   "outputs": [
    {
     "name": "stderr",
     "output_type": "stream",
     "text": [
      "/var/folders/1l/dlmzk3fn30g9wwk6y58j36c00000gn/T/ipykernel_20784/3279590111.py:1: SettingWithCopyWarning: \n",
      "A value is trying to be set on a copy of a slice from a DataFrame.\n",
      "Try using .loc[row_indexer,col_indexer] = value instead\n",
      "\n",
      "See the caveats in the documentation: https://pandas.pydata.org/pandas-docs/stable/user_guide/indexing.html#returning-a-view-versus-a-copy\n",
      "  df_p['boosted'] = True\n"
     ]
    }
   ],
   "source": [
    "df_p['boosted'] = True"
   ]
  },
  {
   "cell_type": "code",
   "execution_count": 10,
   "id": "c5457055",
   "metadata": {},
   "outputs": [],
   "source": [
    "slot = np.arange(4700013, df_p['slot'].max())\n",
    "# first slot after Ethereum merge https://etherscan.io/block/15537394\n",
    "df = pd.DataFrame(slot, columns = ['slot'])\n",
    "\n"
   ]
  },
  {
   "cell_type": "code",
   "execution_count": 11,
   "id": "4d6d8a71",
   "metadata": {},
   "outputs": [],
   "source": [
    "df = df.merge(df_p, how='left', on='slot')\n",
    "#df['builder_name'].fillna('No builder', inplace=True)\n",
    "#df['builder_pubkey'].fillna('No builder', inplace=True)\n",
    "df['builder_name'].replace('Ø\\x83\\x01\\x0b\\x84geth\\x88go1.19.1\\x85linux', 'coda_geth_linux', inplace=True)\n"
   ]
  },
  {
   "cell_type": "code",
   "execution_count": 12,
   "id": "b5a40ee6",
   "metadata": {},
   "outputs": [],
   "source": [
    "df['boosted'].fillna(False, inplace=True)"
   ]
  },
  {
   "cell_type": "code",
   "execution_count": 13,
   "id": "0a9287f5",
   "metadata": {},
   "outputs": [
    {
     "data": {
      "text/html": [
       "<div>\n",
       "<style scoped>\n",
       "    .dataframe tbody tr th:only-of-type {\n",
       "        vertical-align: middle;\n",
       "    }\n",
       "\n",
       "    .dataframe tbody tr th {\n",
       "        vertical-align: top;\n",
       "    }\n",
       "\n",
       "    .dataframe thead th {\n",
       "        text-align: right;\n",
       "    }\n",
       "</style>\n",
       "<table border=\"1\" class=\"dataframe\">\n",
       "  <thead>\n",
       "    <tr style=\"text-align: right;\">\n",
       "      <th></th>\n",
       "      <th>slot</th>\n",
       "      <th>block_hash</th>\n",
       "      <th>block_reward</th>\n",
       "      <th>gas_used</th>\n",
       "      <th>validator_pubkey</th>\n",
       "      <th>builder_pubkey</th>\n",
       "      <th>builder_name</th>\n",
       "      <th>relay_name</th>\n",
       "      <th>boosted</th>\n",
       "    </tr>\n",
       "  </thead>\n",
       "  <tbody>\n",
       "    <tr>\n",
       "      <th>0</th>\n",
       "      <td>4700013</td>\n",
       "      <td>NaN</td>\n",
       "      <td>NaN</td>\n",
       "      <td>NaN</td>\n",
       "      <td>NaN</td>\n",
       "      <td>NaN</td>\n",
       "      <td>NaN</td>\n",
       "      <td>NaN</td>\n",
       "      <td>False</td>\n",
       "    </tr>\n",
       "    <tr>\n",
       "      <th>1</th>\n",
       "      <td>4700014</td>\n",
       "      <td>NaN</td>\n",
       "      <td>NaN</td>\n",
       "      <td>NaN</td>\n",
       "      <td>NaN</td>\n",
       "      <td>NaN</td>\n",
       "      <td>NaN</td>\n",
       "      <td>NaN</td>\n",
       "      <td>False</td>\n",
       "    </tr>\n",
       "    <tr>\n",
       "      <th>2</th>\n",
       "      <td>4700015</td>\n",
       "      <td>NaN</td>\n",
       "      <td>NaN</td>\n",
       "      <td>NaN</td>\n",
       "      <td>NaN</td>\n",
       "      <td>NaN</td>\n",
       "      <td>NaN</td>\n",
       "      <td>NaN</td>\n",
       "      <td>False</td>\n",
       "    </tr>\n",
       "    <tr>\n",
       "      <th>3</th>\n",
       "      <td>4700016</td>\n",
       "      <td>NaN</td>\n",
       "      <td>NaN</td>\n",
       "      <td>NaN</td>\n",
       "      <td>NaN</td>\n",
       "      <td>NaN</td>\n",
       "      <td>NaN</td>\n",
       "      <td>NaN</td>\n",
       "      <td>False</td>\n",
       "    </tr>\n",
       "    <tr>\n",
       "      <th>4</th>\n",
       "      <td>4700017</td>\n",
       "      <td>NaN</td>\n",
       "      <td>NaN</td>\n",
       "      <td>NaN</td>\n",
       "      <td>NaN</td>\n",
       "      <td>NaN</td>\n",
       "      <td>NaN</td>\n",
       "      <td>NaN</td>\n",
       "      <td>False</td>\n",
       "    </tr>\n",
       "    <tr>\n",
       "      <th>...</th>\n",
       "      <td>...</td>\n",
       "      <td>...</td>\n",
       "      <td>...</td>\n",
       "      <td>...</td>\n",
       "      <td>...</td>\n",
       "      <td>...</td>\n",
       "      <td>...</td>\n",
       "      <td>...</td>\n",
       "      <td>...</td>\n",
       "    </tr>\n",
       "    <tr>\n",
       "      <th>994460</th>\n",
       "      <td>5694473</td>\n",
       "      <td>0xad81e34010f45e3fbad96b7f50871c46fdda9ad4a737...</td>\n",
       "      <td>0.025343</td>\n",
       "      <td>8691857.0</td>\n",
       "      <td>0xa038b46079253f1c8f102952eff570c56ebeff654cdc...</td>\n",
       "      <td>0xb5d883565500910f3f10f0a2e3a031139d972117a3b6...</td>\n",
       "      <td>Unknown</td>\n",
       "      <td>Flashbots</td>\n",
       "      <td>True</td>\n",
       "    </tr>\n",
       "    <tr>\n",
       "      <th>994461</th>\n",
       "      <td>5694474</td>\n",
       "      <td>0x5d7275cf6b1416187f01863863f436534a532a22b874...</td>\n",
       "      <td>0.041200</td>\n",
       "      <td>16462587.0</td>\n",
       "      <td>0x93a7627c19128e53e502bb1695216d43c107e6b0d735...</td>\n",
       "      <td>0x81beef03aafd3dd33ffd7deb337407142c80fea2690e...</td>\n",
       "      <td>flashbots</td>\n",
       "      <td>Ultra Sound Relay</td>\n",
       "      <td>True</td>\n",
       "    </tr>\n",
       "    <tr>\n",
       "      <th>994462</th>\n",
       "      <td>5694475</td>\n",
       "      <td>0x14bce20a9a0da7882585e8f9a76a97a04eec7f28f37b...</td>\n",
       "      <td>0.020666</td>\n",
       "      <td>12956177.0</td>\n",
       "      <td>0x81f9ce11de952c4cfcc3b9ad46dae61aa29a388e7050...</td>\n",
       "      <td>0x81babeec8c9f2bb9c329fd8a3b176032fe0ab5f3b92a...</td>\n",
       "      <td>flashbots</td>\n",
       "      <td>Flashbots</td>\n",
       "      <td>True</td>\n",
       "    </tr>\n",
       "    <tr>\n",
       "      <th>994463</th>\n",
       "      <td>5694476</td>\n",
       "      <td>0xde34a2c9b4e25b0b704fc73dd27978968af150cc71c9...</td>\n",
       "      <td>0.021962</td>\n",
       "      <td>12312887.0</td>\n",
       "      <td>0x8146d34e1eeb71636a55db301149f9221f454d844d66...</td>\n",
       "      <td>0x8000008a03ebae7d8ab2f66659bd719a698b2e74097d...</td>\n",
       "      <td>blocknative</td>\n",
       "      <td>Blocknative</td>\n",
       "      <td>True</td>\n",
       "    </tr>\n",
       "    <tr>\n",
       "      <th>994464</th>\n",
       "      <td>5694477</td>\n",
       "      <td>0xd1528589d94f505694481e41eeff54905e1e43d9f688...</td>\n",
       "      <td>0.019041</td>\n",
       "      <td>13282800.0</td>\n",
       "      <td>0x99fdae8f44eec993f4b907b9d53a6a9a75209dd98076...</td>\n",
       "      <td>0x81babeec8c9f2bb9c329fd8a3b176032fe0ab5f3b92a...</td>\n",
       "      <td>flashbots</td>\n",
       "      <td>Flashbots</td>\n",
       "      <td>True</td>\n",
       "    </tr>\n",
       "  </tbody>\n",
       "</table>\n",
       "<p>994465 rows × 9 columns</p>\n",
       "</div>"
      ],
      "text/plain": [
       "           slot                                         block_hash  \\\n",
       "0       4700013                                                NaN   \n",
       "1       4700014                                                NaN   \n",
       "2       4700015                                                NaN   \n",
       "3       4700016                                                NaN   \n",
       "4       4700017                                                NaN   \n",
       "...         ...                                                ...   \n",
       "994460  5694473  0xad81e34010f45e3fbad96b7f50871c46fdda9ad4a737...   \n",
       "994461  5694474  0x5d7275cf6b1416187f01863863f436534a532a22b874...   \n",
       "994462  5694475  0x14bce20a9a0da7882585e8f9a76a97a04eec7f28f37b...   \n",
       "994463  5694476  0xde34a2c9b4e25b0b704fc73dd27978968af150cc71c9...   \n",
       "994464  5694477  0xd1528589d94f505694481e41eeff54905e1e43d9f688...   \n",
       "\n",
       "        block_reward    gas_used  \\\n",
       "0                NaN         NaN   \n",
       "1                NaN         NaN   \n",
       "2                NaN         NaN   \n",
       "3                NaN         NaN   \n",
       "4                NaN         NaN   \n",
       "...              ...         ...   \n",
       "994460      0.025343   8691857.0   \n",
       "994461      0.041200  16462587.0   \n",
       "994462      0.020666  12956177.0   \n",
       "994463      0.021962  12312887.0   \n",
       "994464      0.019041  13282800.0   \n",
       "\n",
       "                                         validator_pubkey  \\\n",
       "0                                                     NaN   \n",
       "1                                                     NaN   \n",
       "2                                                     NaN   \n",
       "3                                                     NaN   \n",
       "4                                                     NaN   \n",
       "...                                                   ...   \n",
       "994460  0xa038b46079253f1c8f102952eff570c56ebeff654cdc...   \n",
       "994461  0x93a7627c19128e53e502bb1695216d43c107e6b0d735...   \n",
       "994462  0x81f9ce11de952c4cfcc3b9ad46dae61aa29a388e7050...   \n",
       "994463  0x8146d34e1eeb71636a55db301149f9221f454d844d66...   \n",
       "994464  0x99fdae8f44eec993f4b907b9d53a6a9a75209dd98076...   \n",
       "\n",
       "                                           builder_pubkey builder_name  \\\n",
       "0                                                     NaN          NaN   \n",
       "1                                                     NaN          NaN   \n",
       "2                                                     NaN          NaN   \n",
       "3                                                     NaN          NaN   \n",
       "4                                                     NaN          NaN   \n",
       "...                                                   ...          ...   \n",
       "994460  0xb5d883565500910f3f10f0a2e3a031139d972117a3b6...      Unknown   \n",
       "994461  0x81beef03aafd3dd33ffd7deb337407142c80fea2690e...    flashbots   \n",
       "994462  0x81babeec8c9f2bb9c329fd8a3b176032fe0ab5f3b92a...    flashbots   \n",
       "994463  0x8000008a03ebae7d8ab2f66659bd719a698b2e74097d...  blocknative   \n",
       "994464  0x81babeec8c9f2bb9c329fd8a3b176032fe0ab5f3b92a...    flashbots   \n",
       "\n",
       "               relay_name  boosted  \n",
       "0                     NaN    False  \n",
       "1                     NaN    False  \n",
       "2                     NaN    False  \n",
       "3                     NaN    False  \n",
       "4                     NaN    False  \n",
       "...                   ...      ...  \n",
       "994460          Flashbots     True  \n",
       "994461  Ultra Sound Relay     True  \n",
       "994462          Flashbots     True  \n",
       "994463        Blocknative     True  \n",
       "994464          Flashbots     True  \n",
       "\n",
       "[994465 rows x 9 columns]"
      ]
     },
     "execution_count": 13,
     "metadata": {},
     "output_type": "execute_result"
    }
   ],
   "source": [
    "df"
   ]
  },
  {
   "cell_type": "markdown",
   "id": "c9ff51f3",
   "metadata": {},
   "source": [
    "### descriptive statistics"
   ]
  },
  {
   "cell_type": "code",
   "execution_count": 14,
   "id": "ccda7a98",
   "metadata": {},
   "outputs": [],
   "source": [
    "slots_per_hour = 5*60\n",
    "slots_per_day = 5*60*24\n",
    "\n",
    "total_slots = len(df)\n",
    "total_epochs = int(len(df)/32)\n",
    "total_days = total_slots / slots_per_day"
   ]
  },
  {
   "cell_type": "code",
   "execution_count": 15,
   "id": "dc2a7221",
   "metadata": {},
   "outputs": [
    {
     "name": "stderr",
     "output_type": "stream",
     "text": [
      "/var/folders/1l/dlmzk3fn30g9wwk6y58j36c00000gn/T/ipykernel_20784/3369397790.py:21: SettingWithCopyWarning: \n",
      "A value is trying to be set on a copy of a slice from a DataFrame\n",
      "\n",
      "See the caveats in the documentation: https://pandas.pydata.org/pandas-docs/stable/user_guide/indexing.html#returning-a-view-versus-a-copy\n",
      "  df['count'].iloc[i-j] = count\n",
      "/var/folders/1l/dlmzk3fn30g9wwk6y58j36c00000gn/T/ipykernel_20784/3369397790.py:22: SettingWithCopyWarning: \n",
      "A value is trying to be set on a copy of a slice from a DataFrame\n",
      "\n",
      "See the caveats in the documentation: https://pandas.pydata.org/pandas-docs/stable/user_guide/indexing.html#returning-a-view-versus-a-copy\n",
      "  df['position'].iloc[i-j] = count+1-j\n"
     ]
    }
   ],
   "source": [
    "#fltr = 'builder_name'\n",
    "fltr = 'builder_pubkey'\n",
    "\n",
    "df['count'] = 1\n",
    "df['position'] = 1\n",
    "count = 0\n",
    "for i in range(0, len(df)):\n",
    "    check = (df[fltr].iloc[i] == df[fltr].iloc[i-1]) & (df[fltr].iloc[i] != 'Unknown') & (df[fltr].iloc[i] != 'No builder')\n",
    "    \n",
    "    if check == True:\n",
    "        if count == 0:\n",
    "            count = 2\n",
    "        else:\n",
    "            count += 1\n",
    "\n",
    "    elif (check == False) & (count == 0):\n",
    "            continue\n",
    "\n",
    "    elif (check == False) & (count != 0):\n",
    "        for j in range(1, count+1):\n",
    "            df['count'].iloc[i-j] = count\n",
    "            df['position'].iloc[i-j] = count+1-j\n",
    "\n",
    "        count = 0\n",
    "\n",
    "\n"
   ]
  },
  {
   "cell_type": "code",
   "execution_count": null,
   "id": "f3825056",
   "metadata": {
    "scrolled": true
   },
   "outputs": [],
   "source": [
    "#df['block_reward'].fillna((df[df['count'] == 1]['block_reward'].mean()), inplace=True)"
   ]
  },
  {
   "cell_type": "code",
   "execution_count": null,
   "id": "ad5fa4cd",
   "metadata": {},
   "outputs": [],
   "source": [
    "df_backup = df.copy()"
   ]
  },
  {
   "cell_type": "code",
   "execution_count": null,
   "id": "0a2fee58",
   "metadata": {},
   "outputs": [],
   "source": [
    "df.groupby(df['count']).size()"
   ]
  },
  {
   "cell_type": "code",
   "execution_count": 64,
   "id": "61621f0b",
   "metadata": {},
   "outputs": [
    {
     "name": "stdout",
     "output_type": "stream",
     "text": [
      "In a dataset of 994465 blocks 138 days we find:\n",
      "789448 instances of 1 consecutive blocks\n",
      "70953 instances of 2 consecutive blocks\n",
      "14358 instances of 3 consecutive blocks\n",
      "3284 instances of 4 consecutive blocks\n",
      "853 instances of 5 consecutive blocks\n",
      "251 instances of 6 consecutive blocks\n",
      "92 instances of 7 consecutive blocks\n",
      "30 instances of 8 consecutive blocks\n",
      "16 instances of 9 consecutive blocks\n",
      "5 instances of 10 consecutive blocks\n",
      "2 instances of 11 consecutive blocks\n",
      "1 instances of 13 consecutive blocks\n",
      "1 instances of 17 consecutive blocks\n",
      "proposed by the same builder\n"
     ]
    }
   ],
   "source": [
    "stat = df.groupby(df['count']).size().values\n",
    "\n",
    "temp = df['count'].unique()\n",
    "temp.sort()\n",
    "\n",
    "print('In a dataset of', len(df), 'blocks', int(len(df)*12/60/60/24), 'days we find:')\n",
    "\n",
    "for i, x in enumerate(temp):\n",
    "    stat[i] = stat[i]/x\n",
    "    \n",
    "    print(stat[i], 'instances of', x, 'consecutive blocks')\n",
    "\n",
    "print('proposed by the same builder')"
   ]
  },
  {
   "cell_type": "code",
   "execution_count": 65,
   "id": "926f37f1",
   "metadata": {},
   "outputs": [
    {
     "name": "stdout",
     "output_type": "stream",
     "text": [
      "0.7938419149995224 % normal blocks\n",
      "0.14269582137129008 % k=2 blocks\n",
      "0.04331374155953201 % k=3 blocks\n",
      "0.013209112437340681 % k=4 blocks\n",
      "0.006939409632314838 % k>= 5 blocks\n"
     ]
    }
   ],
   "source": [
    "print(stat[0]/len(df), '% normal blocks')\n",
    "print(stat[1]*2/len(df), '% k=2 blocks')\n",
    "print(stat[2]*3/len(df), '% k=3 blocks')\n",
    "print(stat[3]*4/len(df), '% k=4 blocks')\n",
    "print(1-stat[0]/len(df)-stat[1]*2/len(df)-stat[2]*3/len(df)-stat[3]*4/len(df), '% k>= 5 blocks')"
   ]
  },
  {
   "cell_type": "code",
   "execution_count": 18,
   "id": "f7a632f1",
   "metadata": {},
   "outputs": [
    {
     "data": {
      "text/plain": [
       "301.9110778157099"
      ]
     },
     "execution_count": 18,
     "metadata": {},
     "output_type": "execute_result"
    }
   ],
   "source": [
    "slots_per_day*(stat[1]/len(df))"
   ]
  },
  {
   "cell_type": "code",
   "execution_count": null,
   "id": "8d7199a0",
   "metadata": {
    "scrolled": true
   },
   "outputs": [],
   "source": [
    "print(df['builder_name'].unique())\n",
    "print(df.groupby(df['builder_name']).size().sort_values(ascending=False))"
   ]
  },
  {
   "cell_type": "code",
   "execution_count": 19,
   "id": "21a646e7",
   "metadata": {},
   "outputs": [
    {
     "data": {
      "text/plain": [
       "[nan,\n",
       " 'flashbots',\n",
       " 'eden',\n",
       " 'bloxroute',\n",
       " 'Unknown',\n",
       " 'blocknative',\n",
       " 'manifold',\n",
       " 'builder0x69',\n",
       " 'coda_geth_linux',\n",
       " 'https://eth-builder.com',\n",
       " 'beaverbuild.org']"
      ]
     },
     "execution_count": 19,
     "metadata": {},
     "output_type": "execute_result"
    }
   ],
   "source": [
    "lst = list(df['builder_name'].unique())\n",
    "lst"
   ]
  },
  {
   "cell_type": "code",
   "execution_count": 77,
   "id": "3efc3f5a",
   "metadata": {},
   "outputs": [],
   "source": [
    "lst = lst[1:]\n",
    "\n",
    "calc = pd.DataFrame(lst, columns = ['builder_name'])\n",
    "\n",
    "temp_lst = []\n",
    "for x in lst:\n",
    "    temp_lst.append(len(df[df['builder_name'] == x]))\n",
    "\n",
    "calc['slots'] = temp_lst\n",
    "\n",
    "calc['share'] = np.round(calc['slots']/len(df),4)\n",
    "\n",
    "for i in range(1,20+1):\n",
    "    temp_lst = []\n",
    "    \n",
    "    for x in lst:\n",
    "        temp_lst.append(int(len(df[(df['builder_name'] == x) & (df['count'] == i)])/i))\n",
    "    \n",
    "    name = f'k_{i}'\n",
    "    calc[name] = temp_lst\n"
   ]
  },
  {
   "cell_type": "code",
   "execution_count": 86,
   "id": "ff319419",
   "metadata": {},
   "outputs": [
    {
     "data": {
      "text/plain": [
       "Int64Index([2], dtype='int64')"
      ]
     },
     "execution_count": 86,
     "metadata": {},
     "output_type": "execute_result"
    }
   ],
   "source": [
    "calc[calc['builder_name'] == 'Unknown'].index"
   ]
  },
  {
   "cell_type": "code",
   "execution_count": 87,
   "id": "21d64445",
   "metadata": {},
   "outputs": [],
   "source": [
    "calc.sort_values(by=['share'], ascending=False, inplace=True)\n",
    "calc = calc.drop(calc[calc['builder_name'] == 'Unknown'].index)\n",
    "calc.reset_index(drop=True, inplace=True)\n",
    "calc = calc.iloc[:,0:13]"
   ]
  },
  {
   "cell_type": "code",
   "execution_count": 91,
   "id": "b0a5d1d4",
   "metadata": {},
   "outputs": [],
   "source": [
    "calc.to_csv('result_tables/leaderboard_entity.csv', index=False)"
   ]
  },
  {
   "cell_type": "code",
   "execution_count": null,
   "id": "72acfc9c",
   "metadata": {},
   "outputs": [],
   "source": [
    "test = pd.DataFrame(lst, columns = ['builder_name'])\n",
    "\n",
    "for i in range(1, 10+1):\n",
    "    data_temp = []\n",
    "    \n",
    "    for x in lst:\n",
    "        data_temp.append(df[(df['builder_name'] == x) & (df['count'] == i)]['block_reward'].mean())\n",
    "    \n",
    "    name = f'k_{i}'\n",
    "    test[name] = data_temp"
   ]
  },
  {
   "cell_type": "code",
   "execution_count": null,
   "id": "e64472af",
   "metadata": {},
   "outputs": [],
   "source": [
    "totals = test.mean()"
   ]
  },
  {
   "cell_type": "code",
   "execution_count": null,
   "id": "1da10e72",
   "metadata": {},
   "outputs": [],
   "source": [
    "test = test.append(totals, ignore_index=True)\n",
    "test.rename(index={10: 'Mean'}, inplace=True)"
   ]
  },
  {
   "cell_type": "code",
   "execution_count": null,
   "id": "98428590",
   "metadata": {},
   "outputs": [],
   "source": [
    "test = test.iloc[:,1:11]"
   ]
  },
  {
   "cell_type": "code",
   "execution_count": null,
   "id": "981c9b2d",
   "metadata": {},
   "outputs": [],
   "source": [
    "test.fillna('', inplace = True)\n",
    "test"
   ]
  },
  {
   "cell_type": "code",
   "execution_count": null,
   "id": "c41f614e",
   "metadata": {},
   "outputs": [],
   "source": [
    "test = test.drop(3)\n",
    "test.reset_index(drop=True, inplace=True)"
   ]
  },
  {
   "cell_type": "code",
   "execution_count": null,
   "id": "116c2592",
   "metadata": {},
   "outputs": [],
   "source": []
  },
  {
   "cell_type": "code",
   "execution_count": 26,
   "id": "734969f5",
   "metadata": {},
   "outputs": [],
   "source": [
    "df['epoch'] = 1663224179"
   ]
  },
  {
   "cell_type": "code",
   "execution_count": 27,
   "id": "ccb5bf90",
   "metadata": {},
   "outputs": [],
   "source": [
    "def multiply_row_index(df, column_name):\n",
    "    for index, row in df.iterrows():\n",
    "        df.at[index, column_name] = row[column_name] + index*12\n",
    "    return df\n",
    "\n",
    "df = multiply_row_index(df, 'epoch')"
   ]
  },
  {
   "cell_type": "code",
   "execution_count": 28,
   "id": "2b2189dd",
   "metadata": {},
   "outputs": [],
   "source": [
    "df['date'] = pd.to_datetime(df['epoch'],  unit='s', utc=True)\n",
    "#df['date'] = df['date'].dt.strftime('%d-%m-%Y %H:%M:%S')"
   ]
  },
  {
   "cell_type": "code",
   "execution_count": 29,
   "id": "0e97041f",
   "metadata": {},
   "outputs": [],
   "source": [
    "df.to_csv('data/df_pubkey.csv', index=False)"
   ]
  },
  {
   "cell_type": "code",
   "execution_count": null,
   "id": "ddf42bfb",
   "metadata": {},
   "outputs": [],
   "source": []
  },
  {
   "cell_type": "code",
   "execution_count": 31,
   "id": "92c07803",
   "metadata": {},
   "outputs": [],
   "source": [
    "df = pd.read_csv('data/df_entity.csv')\n",
    "df['date'] = pd.to_datetime(df['epoch'],  unit='s', utc=True)\n",
    "#df['date'] = df['date'].dt.strftime('%d-%m-%Y %H:%M:%S')"
   ]
  },
  {
   "cell_type": "code",
   "execution_count": 32,
   "id": "afec02dd",
   "metadata": {},
   "outputs": [
    {
     "data": {
      "text/html": [
       "<div>\n",
       "<style scoped>\n",
       "    .dataframe tbody tr th:only-of-type {\n",
       "        vertical-align: middle;\n",
       "    }\n",
       "\n",
       "    .dataframe tbody tr th {\n",
       "        vertical-align: top;\n",
       "    }\n",
       "\n",
       "    .dataframe thead th {\n",
       "        text-align: right;\n",
       "    }\n",
       "</style>\n",
       "<table border=\"1\" class=\"dataframe\">\n",
       "  <thead>\n",
       "    <tr style=\"text-align: right;\">\n",
       "      <th></th>\n",
       "      <th>slot</th>\n",
       "      <th>block_hash</th>\n",
       "      <th>block_reward</th>\n",
       "      <th>gas_used</th>\n",
       "      <th>validator_pubkey</th>\n",
       "      <th>builder_pubkey</th>\n",
       "      <th>builder_name</th>\n",
       "      <th>relay_name</th>\n",
       "      <th>boosted</th>\n",
       "      <th>count</th>\n",
       "      <th>position</th>\n",
       "      <th>epoch</th>\n",
       "      <th>date</th>\n",
       "    </tr>\n",
       "  </thead>\n",
       "  <tbody>\n",
       "    <tr>\n",
       "      <th>0</th>\n",
       "      <td>4700013</td>\n",
       "      <td>NaN</td>\n",
       "      <td>NaN</td>\n",
       "      <td>NaN</td>\n",
       "      <td>NaN</td>\n",
       "      <td>NaN</td>\n",
       "      <td>NaN</td>\n",
       "      <td>NaN</td>\n",
       "      <td>False</td>\n",
       "      <td>1</td>\n",
       "      <td>1</td>\n",
       "      <td>1663224179</td>\n",
       "      <td>2022-09-15 06:42:59+00:00</td>\n",
       "    </tr>\n",
       "    <tr>\n",
       "      <th>1</th>\n",
       "      <td>4700014</td>\n",
       "      <td>NaN</td>\n",
       "      <td>NaN</td>\n",
       "      <td>NaN</td>\n",
       "      <td>NaN</td>\n",
       "      <td>NaN</td>\n",
       "      <td>NaN</td>\n",
       "      <td>NaN</td>\n",
       "      <td>False</td>\n",
       "      <td>1</td>\n",
       "      <td>1</td>\n",
       "      <td>1663224191</td>\n",
       "      <td>2022-09-15 06:43:11+00:00</td>\n",
       "    </tr>\n",
       "    <tr>\n",
       "      <th>2</th>\n",
       "      <td>4700015</td>\n",
       "      <td>NaN</td>\n",
       "      <td>NaN</td>\n",
       "      <td>NaN</td>\n",
       "      <td>NaN</td>\n",
       "      <td>NaN</td>\n",
       "      <td>NaN</td>\n",
       "      <td>NaN</td>\n",
       "      <td>False</td>\n",
       "      <td>1</td>\n",
       "      <td>1</td>\n",
       "      <td>1663224203</td>\n",
       "      <td>2022-09-15 06:43:23+00:00</td>\n",
       "    </tr>\n",
       "    <tr>\n",
       "      <th>3</th>\n",
       "      <td>4700016</td>\n",
       "      <td>NaN</td>\n",
       "      <td>NaN</td>\n",
       "      <td>NaN</td>\n",
       "      <td>NaN</td>\n",
       "      <td>NaN</td>\n",
       "      <td>NaN</td>\n",
       "      <td>NaN</td>\n",
       "      <td>False</td>\n",
       "      <td>1</td>\n",
       "      <td>1</td>\n",
       "      <td>1663224215</td>\n",
       "      <td>2022-09-15 06:43:35+00:00</td>\n",
       "    </tr>\n",
       "    <tr>\n",
       "      <th>4</th>\n",
       "      <td>4700017</td>\n",
       "      <td>NaN</td>\n",
       "      <td>NaN</td>\n",
       "      <td>NaN</td>\n",
       "      <td>NaN</td>\n",
       "      <td>NaN</td>\n",
       "      <td>NaN</td>\n",
       "      <td>NaN</td>\n",
       "      <td>False</td>\n",
       "      <td>1</td>\n",
       "      <td>1</td>\n",
       "      <td>1663224227</td>\n",
       "      <td>2022-09-15 06:43:47+00:00</td>\n",
       "    </tr>\n",
       "    <tr>\n",
       "      <th>...</th>\n",
       "      <td>...</td>\n",
       "      <td>...</td>\n",
       "      <td>...</td>\n",
       "      <td>...</td>\n",
       "      <td>...</td>\n",
       "      <td>...</td>\n",
       "      <td>...</td>\n",
       "      <td>...</td>\n",
       "      <td>...</td>\n",
       "      <td>...</td>\n",
       "      <td>...</td>\n",
       "      <td>...</td>\n",
       "      <td>...</td>\n",
       "    </tr>\n",
       "    <tr>\n",
       "      <th>994460</th>\n",
       "      <td>5694473</td>\n",
       "      <td>0xad81e34010f45e3fbad96b7f50871c46fdda9ad4a737...</td>\n",
       "      <td>0.025343</td>\n",
       "      <td>8691857.0</td>\n",
       "      <td>0xa038b46079253f1c8f102952eff570c56ebeff654cdc...</td>\n",
       "      <td>0xb5d883565500910f3f10f0a2e3a031139d972117a3b6...</td>\n",
       "      <td>Unknown</td>\n",
       "      <td>Flashbots</td>\n",
       "      <td>True</td>\n",
       "      <td>1</td>\n",
       "      <td>1</td>\n",
       "      <td>1675157699</td>\n",
       "      <td>2023-01-31 09:34:59+00:00</td>\n",
       "    </tr>\n",
       "    <tr>\n",
       "      <th>994461</th>\n",
       "      <td>5694474</td>\n",
       "      <td>0x5d7275cf6b1416187f01863863f436534a532a22b874...</td>\n",
       "      <td>0.041200</td>\n",
       "      <td>16462587.0</td>\n",
       "      <td>0x93a7627c19128e53e502bb1695216d43c107e6b0d735...</td>\n",
       "      <td>0x81beef03aafd3dd33ffd7deb337407142c80fea2690e...</td>\n",
       "      <td>flashbots</td>\n",
       "      <td>Ultra Sound Relay</td>\n",
       "      <td>True</td>\n",
       "      <td>2</td>\n",
       "      <td>1</td>\n",
       "      <td>1675157711</td>\n",
       "      <td>2023-01-31 09:35:11+00:00</td>\n",
       "    </tr>\n",
       "    <tr>\n",
       "      <th>994462</th>\n",
       "      <td>5694475</td>\n",
       "      <td>0x14bce20a9a0da7882585e8f9a76a97a04eec7f28f37b...</td>\n",
       "      <td>0.020666</td>\n",
       "      <td>12956177.0</td>\n",
       "      <td>0x81f9ce11de952c4cfcc3b9ad46dae61aa29a388e7050...</td>\n",
       "      <td>0x81babeec8c9f2bb9c329fd8a3b176032fe0ab5f3b92a...</td>\n",
       "      <td>flashbots</td>\n",
       "      <td>Flashbots</td>\n",
       "      <td>True</td>\n",
       "      <td>2</td>\n",
       "      <td>2</td>\n",
       "      <td>1675157723</td>\n",
       "      <td>2023-01-31 09:35:23+00:00</td>\n",
       "    </tr>\n",
       "    <tr>\n",
       "      <th>994463</th>\n",
       "      <td>5694476</td>\n",
       "      <td>0xde34a2c9b4e25b0b704fc73dd27978968af150cc71c9...</td>\n",
       "      <td>0.021962</td>\n",
       "      <td>12312887.0</td>\n",
       "      <td>0x8146d34e1eeb71636a55db301149f9221f454d844d66...</td>\n",
       "      <td>0x8000008a03ebae7d8ab2f66659bd719a698b2e74097d...</td>\n",
       "      <td>blocknative</td>\n",
       "      <td>Blocknative</td>\n",
       "      <td>True</td>\n",
       "      <td>1</td>\n",
       "      <td>1</td>\n",
       "      <td>1675157735</td>\n",
       "      <td>2023-01-31 09:35:35+00:00</td>\n",
       "    </tr>\n",
       "    <tr>\n",
       "      <th>994464</th>\n",
       "      <td>5694477</td>\n",
       "      <td>0xd1528589d94f505694481e41eeff54905e1e43d9f688...</td>\n",
       "      <td>0.019041</td>\n",
       "      <td>13282800.0</td>\n",
       "      <td>0x99fdae8f44eec993f4b907b9d53a6a9a75209dd98076...</td>\n",
       "      <td>0x81babeec8c9f2bb9c329fd8a3b176032fe0ab5f3b92a...</td>\n",
       "      <td>flashbots</td>\n",
       "      <td>Flashbots</td>\n",
       "      <td>True</td>\n",
       "      <td>1</td>\n",
       "      <td>1</td>\n",
       "      <td>1675157747</td>\n",
       "      <td>2023-01-31 09:35:47+00:00</td>\n",
       "    </tr>\n",
       "  </tbody>\n",
       "</table>\n",
       "<p>994465 rows × 13 columns</p>\n",
       "</div>"
      ],
      "text/plain": [
       "           slot                                         block_hash  \\\n",
       "0       4700013                                                NaN   \n",
       "1       4700014                                                NaN   \n",
       "2       4700015                                                NaN   \n",
       "3       4700016                                                NaN   \n",
       "4       4700017                                                NaN   \n",
       "...         ...                                                ...   \n",
       "994460  5694473  0xad81e34010f45e3fbad96b7f50871c46fdda9ad4a737...   \n",
       "994461  5694474  0x5d7275cf6b1416187f01863863f436534a532a22b874...   \n",
       "994462  5694475  0x14bce20a9a0da7882585e8f9a76a97a04eec7f28f37b...   \n",
       "994463  5694476  0xde34a2c9b4e25b0b704fc73dd27978968af150cc71c9...   \n",
       "994464  5694477  0xd1528589d94f505694481e41eeff54905e1e43d9f688...   \n",
       "\n",
       "        block_reward    gas_used  \\\n",
       "0                NaN         NaN   \n",
       "1                NaN         NaN   \n",
       "2                NaN         NaN   \n",
       "3                NaN         NaN   \n",
       "4                NaN         NaN   \n",
       "...              ...         ...   \n",
       "994460      0.025343   8691857.0   \n",
       "994461      0.041200  16462587.0   \n",
       "994462      0.020666  12956177.0   \n",
       "994463      0.021962  12312887.0   \n",
       "994464      0.019041  13282800.0   \n",
       "\n",
       "                                         validator_pubkey  \\\n",
       "0                                                     NaN   \n",
       "1                                                     NaN   \n",
       "2                                                     NaN   \n",
       "3                                                     NaN   \n",
       "4                                                     NaN   \n",
       "...                                                   ...   \n",
       "994460  0xa038b46079253f1c8f102952eff570c56ebeff654cdc...   \n",
       "994461  0x93a7627c19128e53e502bb1695216d43c107e6b0d735...   \n",
       "994462  0x81f9ce11de952c4cfcc3b9ad46dae61aa29a388e7050...   \n",
       "994463  0x8146d34e1eeb71636a55db301149f9221f454d844d66...   \n",
       "994464  0x99fdae8f44eec993f4b907b9d53a6a9a75209dd98076...   \n",
       "\n",
       "                                           builder_pubkey builder_name  \\\n",
       "0                                                     NaN          NaN   \n",
       "1                                                     NaN          NaN   \n",
       "2                                                     NaN          NaN   \n",
       "3                                                     NaN          NaN   \n",
       "4                                                     NaN          NaN   \n",
       "...                                                   ...          ...   \n",
       "994460  0xb5d883565500910f3f10f0a2e3a031139d972117a3b6...      Unknown   \n",
       "994461  0x81beef03aafd3dd33ffd7deb337407142c80fea2690e...    flashbots   \n",
       "994462  0x81babeec8c9f2bb9c329fd8a3b176032fe0ab5f3b92a...    flashbots   \n",
       "994463  0x8000008a03ebae7d8ab2f66659bd719a698b2e74097d...  blocknative   \n",
       "994464  0x81babeec8c9f2bb9c329fd8a3b176032fe0ab5f3b92a...    flashbots   \n",
       "\n",
       "               relay_name  boosted  count  position       epoch  \\\n",
       "0                     NaN    False      1         1  1663224179   \n",
       "1                     NaN    False      1         1  1663224191   \n",
       "2                     NaN    False      1         1  1663224203   \n",
       "3                     NaN    False      1         1  1663224215   \n",
       "4                     NaN    False      1         1  1663224227   \n",
       "...                   ...      ...    ...       ...         ...   \n",
       "994460          Flashbots     True      1         1  1675157699   \n",
       "994461  Ultra Sound Relay     True      2         1  1675157711   \n",
       "994462          Flashbots     True      2         2  1675157723   \n",
       "994463        Blocknative     True      1         1  1675157735   \n",
       "994464          Flashbots     True      1         1  1675157747   \n",
       "\n",
       "                            date  \n",
       "0      2022-09-15 06:42:59+00:00  \n",
       "1      2022-09-15 06:43:11+00:00  \n",
       "2      2022-09-15 06:43:23+00:00  \n",
       "3      2022-09-15 06:43:35+00:00  \n",
       "4      2022-09-15 06:43:47+00:00  \n",
       "...                          ...  \n",
       "994460 2023-01-31 09:34:59+00:00  \n",
       "994461 2023-01-31 09:35:11+00:00  \n",
       "994462 2023-01-31 09:35:23+00:00  \n",
       "994463 2023-01-31 09:35:35+00:00  \n",
       "994464 2023-01-31 09:35:47+00:00  \n",
       "\n",
       "[994465 rows x 13 columns]"
      ]
     },
     "execution_count": 32,
     "metadata": {},
     "output_type": "execute_result"
    }
   ],
   "source": []
  },
  {
   "cell_type": "code",
   "execution_count": null,
   "id": "b75df75b",
   "metadata": {},
   "outputs": [],
   "source": []
  },
  {
   "cell_type": "markdown",
   "id": "6592410e",
   "metadata": {},
   "source": [
    "### plotting descriptive"
   ]
  },
  {
   "cell_type": "markdown",
   "id": "17127197",
   "metadata": {},
   "source": [
    "#plot distribution over builder"
   ]
  },
  {
   "cell_type": "code",
   "execution_count": 33,
   "id": "93d736e7",
   "metadata": {},
   "outputs": [
    {
     "name": "stdout",
     "output_type": "stream",
     "text": [
      "257728 blocks without PBS\n",
      "736737 blocks with PBS\n",
      "74.08375357604339 %\n"
     ]
    }
   ],
   "source": [
    "print(len(df[df['boosted'] != True]), 'blocks without PBS') \n",
    "print(len(df[df['boosted'] == True]), 'blocks with PBS')\n",
    "print(len(df[df['boosted'] == True])/len(df)*100, '%')\n"
   ]
  },
  {
   "cell_type": "code",
   "execution_count": 34,
   "id": "eba54e4f",
   "metadata": {},
   "outputs": [
    {
     "data": {
      "text/plain": [
       "5694477"
      ]
     },
     "execution_count": 34,
     "metadata": {},
     "output_type": "execute_result"
    }
   ],
   "source": [
    "df['slot'].iloc[-1]"
   ]
  },
  {
   "cell_type": "code",
   "execution_count": 35,
   "id": "c05a17e8",
   "metadata": {},
   "outputs": [
    {
     "data": {
      "text/plain": [
       "0         0.000000\n",
       "1         0.000000\n",
       "2         0.000000\n",
       "3         0.000000\n",
       "4         0.000000\n",
       "            ...   \n",
       "994460    0.785139\n",
       "994461    0.785139\n",
       "994462    0.785139\n",
       "994463    0.785139\n",
       "994464    0.785139\n",
       "Name: boosted, Length: 994465, dtype: float64"
      ]
     },
     "execution_count": 35,
     "metadata": {},
     "output_type": "execute_result"
    }
   ],
   "source": [
    "df['boosted'].rolling(slots_per_day, min_periods=1).sum()/slots_per_day"
   ]
  },
  {
   "cell_type": "code",
   "execution_count": 59,
   "id": "6b37b740",
   "metadata": {},
   "outputs": [
    {
     "name": "stderr",
     "output_type": "stream",
     "text": [
      "/var/folders/1l/dlmzk3fn30g9wwk6y58j36c00000gn/T/ipykernel_20784/3480636048.py:23: UserWarning: FixedFormatter should only be used together with FixedLocator\n",
      "  ax.set_yticklabels(['{:,.0%}'.format(x) for x in vals])\n"
     ]
    },
    {
     "data": {
      "image/png": "[encoded data removed]",
      "text/plain": [
       "<Figure size 1000x500 with 1 Axes>"
      ]
     },
     "metadata": {},
     "output_type": "display_data"
    }
   ],
   "source": [
    "fig, ax = plt.subplots(figsize =(10, 5))\n",
    "\n",
    "ax.plot(df['slot'], df['boosted'].rolling(slots_per_day*7, min_periods=1).sum()/(slots_per_day*7))\n",
    "\n",
    "# ax.ticklabel_format(style='plain')\n",
    "\n",
    "ax.grid(axis='y', linestyle='--', linewidth=.5)\n",
    "\n",
    "s = df['slot'].iloc[0]\n",
    "o = df[df['date'] >= '2022-10-01 00:00:00']['slot'].values[0]\n",
    "n = df[df['date'] >= '2022-11-01 00:00:00']['slot'].values[0]\n",
    "d = df[df['date'] >= '2022-12-01 00:00:00']['slot'].values[0]\n",
    "j = df[df['date'] >= '2023-01-01 00:00:00']['slot'].values[0]\n",
    "f = df['slot'].iloc[-1]\n",
    "\n",
    "\n",
    "plt.xticks([s, o, n, d, j, f], ['15 Sep 22', 'Oct 22', 'Nov 22', 'Dec 22', 'Jan 23', 'Feb 23'])\n",
    "       \n",
    "left, right = plt.xlim()\n",
    "ax.set_xlim(left+1, right-0)\n",
    "\n",
    "vals = ax.get_yticks()\n",
    "ax.set_yticklabels(['{:,.0%}'.format(x) for x in vals])\n",
    "\n",
    "plt.savefig(f'figures/mev_boost.png')\n",
    "\n",
    "plt.show()"
   ]
  },
  {
   "cell_type": "code",
   "execution_count": 60,
   "id": "cd1f661a",
   "metadata": {},
   "outputs": [],
   "source": [
    "bins = np.arange(df['slot'].min(), df['slot'].max(), slots_per_day)\n",
    "data = []\n",
    "for i in range(0, len(bins)-1):\n",
    "        data.append(df[(df['slot'] >= bins[i]) & (df['slot'] < bins[i+1])]['block_reward'].mean())"
   ]
  },
  {
   "cell_type": "code",
   "execution_count": 61,
   "id": "0ca4c789",
   "metadata": {},
   "outputs": [
    {
     "name": "stderr",
     "output_type": "stream",
     "text": [
      "/var/folders/1l/dlmzk3fn30g9wwk6y58j36c00000gn/T/ipykernel_20784/117954857.py:13: UserWarning: FixedFormatter should only be used together with FixedLocator\n",
      "  ax.set_yticklabels(['{:,.2f}'.format(x)+' ETH' for x in vals])\n"
     ]
    },
    {
     "data": {
      "image/png": "[encoded data removed]",
      "text/plain": [
       "<Figure size 1200x600 with 1 Axes>"
      ]
     },
     "metadata": {},
     "output_type": "display_data"
    }
   ],
   "source": [
    "fig, ax = plt.subplots(figsize =(12, 6))\n",
    "\n",
    "ax.bar(np.arange(1,len(data)+1), data, width = 0.5)\n",
    "ax.grid(axis='y', linestyle='--', linewidth=.5)\n",
    "\n",
    "left, right = plt.xlim()\n",
    "ax.set_xlim(left+5, right-5)\n",
    "\n",
    "ax.set_ylabel('Builder payment')\n",
    "ax.set_xlabel('Day')\n",
    "\n",
    "vals = ax.get_yticks()\n",
    "ax.set_yticklabels(['{:,.2f}'.format(x)+' ETH' for x in vals])\n",
    "\n",
    "# show plot\n",
    "plt.show()"
   ]
  },
  {
   "cell_type": "markdown",
   "id": "9608536b",
   "metadata": {},
   "source": [
    "ToDo add percentage; trend line; rate of increase.."
   ]
  },
  {
   "cell_type": "markdown",
   "id": "6f0cc1ca",
   "metadata": {},
   "source": [
    "### plotting analysis"
   ]
  },
  {
   "cell_type": "code",
   "execution_count": 63,
   "id": "ef1a52b9",
   "metadata": {},
   "outputs": [
    {
     "name": "stderr",
     "output_type": "stream",
     "text": [
      "/var/folders/1l/dlmzk3fn30g9wwk6y58j36c00000gn/T/ipykernel_20784/2811811310.py:2: SettingWithCopyWarning: \n",
      "A value is trying to be set on a copy of a slice from a DataFrame\n",
      "\n",
      "See the caveats in the documentation: https://pandas.pydata.org/pandas-docs/stable/user_guide/indexing.html#returning-a-view-versus-a-copy\n",
      "  slc.dropna(subset=['block_reward'], inplace=True)\n",
      "/var/folders/1l/dlmzk3fn30g9wwk6y58j36c00000gn/T/ipykernel_20784/2811811310.py:20: UserWarning: FixedFormatter should only be used together with FixedLocator\n",
      "  ax.set_yticklabels(['{:,.2f}'.format(x)+' ETH' for x in vals])\n"
     ]
    },
    {
     "data": {
      "image/png": "[encoded data removed]",
      "text/plain": [
       "<Figure size 800x800 with 1 Axes>"
      ]
     },
     "metadata": {},
     "output_type": "display_data"
    }
   ],
   "source": [
    "\n",
    "\n",
    "slc = df[df['count'] <= 10]\n",
    "slc.dropna(subset=['block_reward'], inplace=True)\n",
    "\n",
    "temp = slc['count'].unique()\n",
    "temp.sort()\n",
    "\n",
    "data = []\n",
    "for x in temp:\n",
    "    data.append(list(slc[slc['count']==x]['block_reward']))\n",
    "\n",
    "fig, ax = plt.subplots(figsize =(8, 8))\n",
    "\n",
    "ax.boxplot(data, showfliers=False)\n",
    "ax.grid(axis='y', linestyle='--', linewidth=.5)\n",
    "\n",
    "ax.set_ylabel('Builder payment')\n",
    "ax.set_xlabel('Consecutive blocks')\n",
    "\n",
    "vals = ax.get_yticks()\n",
    "ax.set_yticklabels(['{:,.2f}'.format(x)+' ETH' for x in vals])\n",
    "\n",
    "plt.xticks(temp)\n",
    "\n",
    "plt.savefig(f'figures/payment_entity.png')\n",
    "plt.show()\n"
   ]
  },
  {
   "cell_type": "code",
   "execution_count": 93,
   "id": "c194e362",
   "metadata": {},
   "outputs": [
    {
     "name": "stderr",
     "output_type": "stream",
     "text": [
      "/var/folders/1l/dlmzk3fn30g9wwk6y58j36c00000gn/T/ipykernel_20784/3124406037.py:2: SettingWithCopyWarning: \n",
      "A value is trying to be set on a copy of a slice from a DataFrame\n",
      "\n",
      "See the caveats in the documentation: https://pandas.pydata.org/pandas-docs/stable/user_guide/indexing.html#returning-a-view-versus-a-copy\n",
      "  slc.dropna(subset=['block_reward'], inplace=True)\n",
      "/var/folders/1l/dlmzk3fn30g9wwk6y58j36c00000gn/T/ipykernel_20784/3124406037.py:25: UserWarning: FixedFormatter should only be used together with FixedLocator\n",
      "  ax.set_yticklabels(['{:,.2f}'.format(x)+' ETH' for x in vals])\n"
     ]
    },
    {
     "data": {
      "image/png": "[encoded data removed]",
      "text/plain": [
       "<Figure size 800x800 with 1 Axes>"
      ]
     },
     "metadata": {},
     "output_type": "display_data"
    }
   ],
   "source": [
    "\n",
    "\n",
    "slc = df[df['count'] <= 10]\n",
    "slc.dropna(subset=['block_reward'], inplace=True)\n",
    "\n",
    "temp = slc['count'].unique()\n",
    "temp.sort()\n",
    "\n",
    "data = []\n",
    "for x in temp:\n",
    "    data.append(list(slc[slc['count']==x]['block_reward']))\n",
    "\n",
    "fig, ax = plt.subplots(figsize =(8, 8))\n",
    "\n",
    "\n",
    "ax.scatter(temp, slc['block_reward'].groupby(slc['count']).median())\n",
    "\n",
    "#cumsum\n",
    "ax.scatter(temp, slc['block_reward'].groupby(slc['count']).median().cumsum())\n",
    "ax.plot([1, 10], [list(slc['block_reward'].groupby(slc['count']).median())[0], list(slc['block_reward'].groupby(slc['count']).median())[0]*len(list(slc['block_reward'].groupby(slc['count']).median()))], color='blue') #x, y\n",
    "ax.grid(axis='y', linestyle='--', linewidth=.5)\n",
    "\n",
    "ax.set_ylabel('Total builder payment')\n",
    "ax.set_xlabel('Consecutive blocks')\n",
    "\n",
    "vals = ax.get_yticks()\n",
    "ax.set_yticklabels(['{:,.2f}'.format(x)+' ETH' for x in vals])\n",
    "\n",
    "plt.xticks(temp)\n",
    "\n",
    "ax.legend(['empirical bids', 'linear bids'])\n",
    "\n",
    "plt.savefig(f'figures/payment_pubkey.png')\n",
    "plt.show()\n"
   ]
  },
  {
   "cell_type": "code",
   "execution_count": 238,
   "id": "531e5aad",
   "metadata": {},
   "outputs": [
    {
     "name": "stderr",
     "output_type": "stream",
     "text": [
      "/var/folders/1l/dlmzk3fn30g9wwk6y58j36c00000gn/T/ipykernel_20784/610934767.py:2: SettingWithCopyWarning: \n",
      "A value is trying to be set on a copy of a slice from a DataFrame\n",
      "\n",
      "See the caveats in the documentation: https://pandas.pydata.org/pandas-docs/stable/user_guide/indexing.html#returning-a-view-versus-a-copy\n",
      "  slc.dropna(subset=['block_reward'], inplace=True)\n"
     ]
    }
   ],
   "source": [
    "slc = df[df['count'] <= 10]\n",
    "slc.dropna(subset=['block_reward'], inplace=True)\n",
    "\n",
    "temp = slc['count'].unique()\n",
    "temp.sort()\n",
    "\n",
    "data = []\n",
    "for x in temp:\n",
    "    data.append(list(slc[slc['count']==x]['block_reward']))"
   ]
  },
  {
   "cell_type": "code",
   "execution_count": 239,
   "id": "6221853b",
   "metadata": {},
   "outputs": [
    {
     "data": {
      "text/plain": [
       "count\n",
       "1     0.046362\n",
       "2     0.047343\n",
       "3     0.049108\n",
       "4     0.051887\n",
       "5     0.050844\n",
       "6     0.055378\n",
       "7     0.057038\n",
       "8     0.061515\n",
       "9     0.052860\n",
       "10    0.057217\n",
       "Name: block_reward, dtype: float64"
      ]
     },
     "execution_count": 239,
     "metadata": {},
     "output_type": "execute_result"
    }
   ],
   "source": [
    "distance = slc['block_reward'].groupby(slc['count']).median()\n",
    "distance = distance/distance[1]-1\n",
    "distance = distance*100\n",
    "distance = list(distance)\n",
    "distance = np.round(distance, 2)\n",
    "distance = [str(x) + '%' for x in distance]\n",
    "distance"
   ]
  },
  {
   "cell_type": "code",
   "execution_count": 249,
   "id": "cd7df41f",
   "metadata": {},
   "outputs": [
    {
     "name": "stderr",
     "output_type": "stream",
     "text": [
      "/var/folders/1l/dlmzk3fn30g9wwk6y58j36c00000gn/T/ipykernel_20784/4176385214.py:12: FutureWarning: DataFrame.mean and DataFrame.median with numeric_only=None will include datetime64 and datetime64tz columns in a future version.\n",
      "  axs[1].plot([1, 10], [slc[slc['count']==1].median(), slc[slc['count']==1].median()], color='blue')\n",
      "/var/folders/1l/dlmzk3fn30g9wwk6y58j36c00000gn/T/ipykernel_20784/4176385214.py:12: FutureWarning: Dropping of nuisance columns in DataFrame reductions (with 'numeric_only=None') is deprecated; in a future version this will raise TypeError.  Select only valid columns before calling the reduction.\n",
      "  axs[1].plot([1, 10], [slc[slc['count']==1].median(), slc[slc['count']==1].median()], color='blue')\n",
      "/var/folders/1l/dlmzk3fn30g9wwk6y58j36c00000gn/T/ipykernel_20784/4176385214.py:12: FutureWarning: DataFrame.mean and DataFrame.median with numeric_only=None will include datetime64 and datetime64tz columns in a future version.\n",
      "  axs[1].plot([1, 10], [slc[slc['count']==1].median(), slc[slc['count']==1].median()], color='blue')\n",
      "/var/folders/1l/dlmzk3fn30g9wwk6y58j36c00000gn/T/ipykernel_20784/4176385214.py:12: FutureWarning: Dropping of nuisance columns in DataFrame reductions (with 'numeric_only=None') is deprecated; in a future version this will raise TypeError.  Select only valid columns before calling the reduction.\n",
      "  axs[1].plot([1, 10], [slc[slc['count']==1].median(), slc[slc['count']==1].median()], color='blue')\n",
      "/var/folders/1l/dlmzk3fn30g9wwk6y58j36c00000gn/T/ipykernel_20784/4176385214.py:24: UserWarning: FixedFormatter should only be used together with FixedLocator\n",
      "  axs[0].set_yticklabels(['{:,.2f}'.format(x) for x in vals])\n",
      "/var/folders/1l/dlmzk3fn30g9wwk6y58j36c00000gn/T/ipykernel_20784/4176385214.py:26: UserWarning: FixedFormatter should only be used together with FixedLocator\n",
      "  axs[1].set_yticklabels(['{:,.2f}'.format(x) for x in vals])\n"
     ]
    },
    {
     "data": {
      "image/png": "[encoded data removed]",
      "text/plain": [
       "<Figure size 800x800 with 2 Axes>"
      ]
     },
     "metadata": {},
     "output_type": "display_data"
    }
   ],
   "source": [
    "fig = plt.figure(figsize=(8,8))\n",
    "gs = fig.add_gridspec(2, hspace=0, height_ratios=[4, 1])\n",
    "axs = gs.subplots(sharex=True)\n",
    "\n",
    "axs[0].scatter(temp, slc['block_reward'].groupby(slc['count']).median().cumsum())\n",
    "axs[0].plot([1, 10], [list(slc['block_reward'].groupby(slc['count']).median())[0], list(slc['block_reward'].groupby(slc['count']).median())[0]*len(list(slc['block_reward'].groupby(slc['count']).median()))], color='blue')\n",
    "axs[0].grid(axis='y', linestyle='--', linewidth=.25)\n",
    "\n",
    "\n",
    "axs[1].scatter(temp, slc['block_reward'].groupby(slc['count']).median())\n",
    "axs[1].set_ylim(0.045, 0.065)\n",
    "axs[1].plot([1, 10], [slc[slc['count']==1].median(), slc[slc['count']==1].median()], color='blue')\n",
    "axs[1].grid(axis='y', linestyle='--', linewidth=.25)\n",
    "\n",
    "for i in range(1,len(temp)):\n",
    "    axs[1].text(temp[i]-.35, list(slc['block_reward'].groupby(slc['count']).median())[i]+.0015, s=f'{distance[i]}', fontdict=dict(fontsize=8))\n",
    "\n",
    "axs[0].legend(['empirical bids', 'naive bids'])\n",
    "\n",
    "axs[0].set_ylabel('Builder payment (in ETH)')\n",
    "axs[0].yaxis.set_label_coords(-0.075, .35)\n",
    "plt.xlabel('Consecutive blocks')\n",
    "vals = axs[0].get_yticks()\n",
    "axs[0].set_yticklabels(['{:,.2f}'.format(x) for x in vals])\n",
    "vals = axs[1].get_yticks()\n",
    "axs[1].set_yticklabels(['{:,.2f}'.format(x) for x in vals])\n",
    "plt.xticks(temp)\n",
    "\n",
    "# Hide x labels and tick labels for all but bottom plot.\n",
    "for ax in axs:\n",
    "    ax.label_outer()\n",
    "    \n",
    "plt.savefig(f'figures/payment_entity.png')\n",
    "plt.show()"
   ]
  },
  {
   "cell_type": "code",
   "execution_count": null,
   "id": "50ad172a",
   "metadata": {},
   "outputs": [],
   "source": [
    "def q25(x):\n",
    "    return x.quantile(0.25)\n",
    "\n",
    "def q75(x):\n",
    "    return x.quantile(0.75)"
   ]
  },
  {
   "cell_type": "code",
   "execution_count": null,
   "id": "66b3ae22",
   "metadata": {},
   "outputs": [],
   "source": [
    "#exclude without significant data\n",
    "lst = df[df['count'] >= 9].index\n",
    "\n",
    "df.drop(lst, inplace=True)"
   ]
  },
  {
   "cell_type": "code",
   "execution_count": null,
   "id": "3406c942",
   "metadata": {},
   "outputs": [],
   "source": [
    "#how much do builder pay on average for consecutive blocks\n",
    "\n",
    "#add cumulative payment\n",
    "\n",
    "slc = df[df['count'] <= 10]\n",
    "\n",
    "\n",
    "fig, ax = plt.subplots(figsize =(8, 8))\n",
    "\n",
    "x = list(slc['position'].unique())\n",
    "\n",
    "ax.plot(x, slc['block_reward'].groupby(slc['position']).median())\n",
    "ax.grid(axis='y', linestyle='--', linewidth=.5)\n",
    "\n",
    "\n",
    "y1 = slc.groupby(['position']).agg({'block_reward': [q25]})\n",
    "y2 = slc.groupby(['position']).agg({'block_reward': [q75]})\n",
    "ax.plot(x, y1, x, y2, color='grey', linewidth=.5)\n",
    "\n",
    "ax.fill_between(x, list(y1.iloc[:, 0]), list(y2.iloc[:, 0]), facecolor='lightgrey', alpha=.75)\n",
    "\n",
    "\n",
    "#data = slc[df['count'] >= 2]\n",
    "#ax.scatter(data['position'], data['block_reward'], s = .05, alpha = .75)\n",
    "\n",
    "ax.set_ylabel('Builder payment')\n",
    "ax.set_xlabel('n position in consecutive blocks')\n",
    "\n",
    "plt.ylim(0, .15)\n",
    "\n",
    "vals = ax.get_yticks()\n",
    "ax.set_yticklabels(['{:,.2f}'.format(x)+' ETH' for x in vals])\n",
    "\n",
    "plt.xticks(list(slc['position'].unique()))\n",
    "\n",
    "plt.savefig(f'figures/payment_position_pubkey.png')\n",
    "\n",
    "plt.show()\n"
   ]
  },
  {
   "cell_type": "code",
   "execution_count": null,
   "id": "43739a44",
   "metadata": {},
   "outputs": [],
   "source": [
    "df"
   ]
  },
  {
   "cell_type": "code",
   "execution_count": null,
   "id": "0f891c0a",
   "metadata": {},
   "outputs": [],
   "source": [
    "#how much do builder pay on average for consecutive blocks\n",
    "\n",
    "#add cumulative payment\n",
    "\n",
    "slc = df[(df['count'] <11) & (df['count'] >= 5)]\n",
    "\n",
    "fig, ax = plt.subplots(figsize =(8, 8))\n",
    "\n",
    "ax.scatter(slc['slot'], slc['count'], s=.25)\n",
    "\n",
    "ax.set_ylabel('consecutive blocks')\n",
    "ax.set_xlabel('date')\n",
    "\n",
    "s = df['slot'].iloc[0]\n",
    "o = df[df['date'] >= '2022-10-01 00:00:00']['slot'].values[0]\n",
    "n = df[df['date'] >= '2022-11-01 00:00:00']['slot'].values[0]\n",
    "d = df[df['date'] >= '2022-12-01 00:00:00']['slot'].values[0]\n",
    "j = df[df['date'] >= '2023-01-01 00:00:00']['slot'].values[0]\n",
    "f = df['slot'].iloc[-1]+1e5\n",
    "\n",
    "\n",
    "plt.xticks([s, o, n, d, j, f], ['15 Sep 22', 'Oct 22', 'Nov 22', 'Dec 22', 'Jan 23', 'Feb 23'])\n",
    "       \n",
    "\n",
    "\n",
    "plt.savefig(f'figures/scatter_slots.png')\n",
    "\n",
    "plt.show()\n"
   ]
  },
  {
   "cell_type": "code",
   "execution_count": null,
   "id": "83b39056",
   "metadata": {},
   "outputs": [],
   "source": [
    "stat"
   ]
  },
  {
   "cell_type": "code",
   "execution_count": null,
   "id": "eac2e3f3",
   "metadata": {},
   "outputs": [],
   "source": [
    "stat = df.groupby(df['count']).size().values\n",
    "\n"
   ]
  },
  {
   "cell_type": "code",
   "execution_count": null,
   "id": "7c81513b",
   "metadata": {},
   "outputs": [],
   "source": []
  },
  {
   "cell_type": "code",
   "execution_count": null,
   "id": "3b46b125",
   "metadata": {},
   "outputs": [],
   "source": [
    "slc = df[(df['count'] >= 2) & (df['count'] <= 10)]\n",
    "\n",
    "temp = slc['count'].unique()\n",
    "temp.sort()\n",
    "\n",
    "stat = slc.groupby(slc['count']).size().values\n",
    "\n",
    "for i, x in enumerate(temp):\n",
    "    stat[i] = stat[i]/x\n",
    "\n",
    "fig, ax = plt.subplots(figsize =(12, 6))\n",
    "\n",
    "ax.bar(temp, stat, width = 0.5)\n",
    "ax.grid(axis='y', linestyle='--', linewidth=.5)\n",
    "\n",
    "\n",
    "for i in range(0,len(temp)):\n",
    "    plt.text(temp[i]-.15, stat[i]+1e3, s=f'{stat[i]}', fontdict=dict(fontsize=8))\n",
    "    print(temp[i], stat[i])\n",
    "\n",
    "\n",
    "ax.set_ylabel('occurences')\n",
    "ax.set_xlabel('consecutive blocks')\n",
    "\n",
    "plt.xticks(temp)\n",
    "\n",
    "plt.savefig(f'figures/occurences.png')\n",
    "# show plot\n",
    "plt.show()"
   ]
  },
  {
   "cell_type": "code",
   "execution_count": null,
   "id": "3d7df8f8",
   "metadata": {},
   "outputs": [],
   "source": [
    "# Is there a pattern, to propose low gas blocks?\n",
    "# \"VALIDATOR for slot k+1 is buying the slot in order to submit an empty block just before the slot they are elected for\"\n",
    "# > Validators could be \"unknown\"\n",
    "\n",
    "n, bins, patches = plt.hist(df[df['boosted']==True]['gas_used'], 50, density=True, facecolor='g', alpha=0.75)\n",
    "\n",
    "temp = df[(df['boosted']==True) & (df['gas_used'] < 0.75e7)]"
   ]
  },
  {
   "cell_type": "code",
   "execution_count": null,
   "id": "e59fe94c",
   "metadata": {},
   "outputs": [],
   "source": [
    "temp"
   ]
  },
  {
   "cell_type": "code",
   "execution_count": null,
   "id": "a2441f4a",
   "metadata": {},
   "outputs": [],
   "source": [
    "print(temp.groupby(['builder_name']).size())"
   ]
  },
  {
   "cell_type": "code",
   "execution_count": null,
   "id": "53e3079b",
   "metadata": {},
   "outputs": [],
   "source": [
    "pd.set_option(\"display.max_rows\", None)\n",
    "temp.groupby(['builder_name', 'count', 'position']).size().to_frame(name='vals')"
   ]
  },
  {
   "cell_type": "code",
   "execution_count": null,
   "id": "08295e9c",
   "metadata": {},
   "outputs": [],
   "source": []
  },
  {
   "cell_type": "code",
   "execution_count": null,
   "id": "bfe71982",
   "metadata": {},
   "outputs": [],
   "source": [
    "example: big shift in coingecko price, k=2"
   ]
  },
  {
   "cell_type": "markdown",
   "id": "6ea2e520",
   "metadata": {},
   "source": [
    "### math"
   ]
  },
  {
   "cell_type": "code",
   "execution_count": null,
   "id": "28cbeacf",
   "metadata": {},
   "outputs": [],
   "source": [
    "n = 3\n",
    "k = 1\n",
    "p = .5\n"
   ]
  },
  {
   "cell_type": "code",
   "execution_count": null,
   "id": "4c0ee11f",
   "metadata": {},
   "outputs": [],
   "source": [
    "n = 3\n",
    "k = 1\n",
    "p = .5\n",
    "1*(n-k+1)*(p**k)-2*((n-(k+1)+1)*(p**(k+1))-2*(n-(k+2)+1)*(p**(k+2)))-3*(n-(k+2)+1)*(p**(k+2))"
   ]
  },
  {
   "cell_type": "code",
   "execution_count": null,
   "id": "a770332e",
   "metadata": {},
   "outputs": [],
   "source": [
    "n = 3\n",
    "k = 2\n",
    "p = .5\n",
    "(n-k+1)*(p**k)-2*(n-(k+1)+1)*(p**(k+1))"
   ]
  },
  {
   "cell_type": "code",
   "execution_count": null,
   "id": "02a6dfde",
   "metadata": {},
   "outputs": [],
   "source": [
    "-2*(n-(k+1)+1)*(p**(k+1))-2*(n-(k+2)+1)*(p**(k+2))"
   ]
  },
  {
   "cell_type": "code",
   "execution_count": null,
   "id": "c6386d3b",
   "metadata": {},
   "outputs": [],
   "source": [
    "n = 3\n",
    "k = 3\n",
    "p = .5\n",
    "(n-k+1)*(p**k)"
   ]
  },
  {
   "cell_type": "code",
   "execution_count": null,
   "id": "777b4507",
   "metadata": {},
   "outputs": [],
   "source": []
  },
  {
   "cell_type": "code",
   "execution_count": null,
   "id": "35fd639a",
   "metadata": {},
   "outputs": [],
   "source": [
    "write down cases n<k n=k n>k and if k = 0\n",
    "Bernouli (1 or 2)"
   ]
  },
  {
   "cell_type": "markdown",
   "id": "c02dc3ed",
   "metadata": {},
   "source": [
    "p = .5\n",
    "n = 3\n",
    "k = 2\n",
    "\n",
    "HHH  no !\n",
    "HHT  yes\n",
    "HTH  no\n",
    "THH  yes\n",
    "HTT  no\n",
    "THT  no\n",
    "TTH  no\n",
    "TTT  yes\n",
    "-> 2/8"
   ]
  },
  {
   "cell_type": "code",
   "execution_count": null,
   "id": "5100bba7",
   "metadata": {},
   "outputs": [],
   "source": [
    "from IPython.display import display, Math, Latex\n",
    "display(Math(r'p^{k}*(1-p)^{2}*(n-k-1)+2*p^{k}*(1-p)'))"
   ]
  },
  {
   "cell_type": "code",
   "execution_count": null,
   "id": "44079797",
   "metadata": {},
   "outputs": [],
   "source": [
    "#What is the expected of exactly k consecutive heads in n tosses?\n",
    "\n",
    "p = 50/100 #probability\n",
    "n = 3 #tosses\n",
    "k = 0 #k consecutive tosses\n",
    "\n",
    "\n",
    "print('gesamt', p**k*(1-p)**2*(n-k-1)+2*p**k*(1-p))\n",
    "\n",
    "print('term a', p**k*(1-p)**2*(n-k-1))\n",
    "print('term b', 2*p**k*(1-p))\n",
    "\n",
    "print('equation', f'{p}**{k}*(1-{p})**2*{(n-k-1)}+2*{p}**{k}*(1-{p})')"
   ]
  },
  {
   "cell_type": "code",
   "execution_count": null,
   "id": "e450d6ec",
   "metadata": {},
   "outputs": [],
   "source": []
  },
  {
   "cell_type": "code",
   "execution_count": null,
   "id": "99aed6a6",
   "metadata": {},
   "outputs": [],
   "source": [
    "display(Math(r'p^{k}*(1-p)^{2}*max(0,(n-k-1))+2*p^{k}*(1-p)'))"
   ]
  },
  {
   "cell_type": "code",
   "execution_count": null,
   "id": "0afc80ce",
   "metadata": {},
   "outputs": [],
   "source": [
    "#What is the probability of exactly k consecutive heads in n tosses?\n",
    "\n",
    "p = 99/100 #probability\n",
    "n = 3 #tosses\n",
    "k = 1 #k consecutive tosses\n",
    "\n",
    "\n",
    "print('gesamt', p**k*(1-p)**2*max(0,(n-k-1))+2*p**k*(1-p))\n",
    "\n",
    "print('term a', p**k*(1-p)**2*max(0,(n-k-1)))\n",
    "print('term b', p**k*(1-p)*2)\n",
    "\n",
    "print('equation', f'{p}**{k}*(1-{p})**2*{max(0, n-k-1)}+2*{p}**{k}*(1-{p})')"
   ]
  },
  {
   "cell_type": "code",
   "execution_count": null,
   "id": "280d130c",
   "metadata": {},
   "outputs": [],
   "source": []
  },
  {
   "cell_type": "code",
   "execution_count": null,
   "id": "d36a3099",
   "metadata": {},
   "outputs": [],
   "source": [
    "p = .99\n",
    "n = 3"
   ]
  },
  {
   "cell_type": "code",
   "execution_count": null,
   "id": "ed553597",
   "metadata": {},
   "outputs": [],
   "source": [
    "# HHH\n",
    "\n",
    "k = 3\n",
    "a = p**k\n",
    "a"
   ]
  },
  {
   "cell_type": "code",
   "execution_count": null,
   "id": "814bd5b8",
   "metadata": {},
   "outputs": [],
   "source": [
    "## HHT\n",
    "## THH\n",
    "\n",
    "k = 2\n",
    "b = p**k*(1-p)**2*(n-k-1)+2*p**k*(1-p)\n",
    "b"
   ]
  },
  {
   "cell_type": "code",
   "execution_count": null,
   "id": "048cba8b",
   "metadata": {},
   "outputs": [],
   "source": [
    "# HTT\n",
    "# THT\n",
    "# TTH\n",
    "\n",
    "# HTH \n",
    "\n",
    "k = 1\n",
    "c = p**k*(1-p)**2*(n-k-1)+2*p**k*(1-p)\n",
    "c"
   ]
  },
  {
   "cell_type": "code",
   "execution_count": null,
   "id": "ab109fec",
   "metadata": {},
   "outputs": [],
   "source": [
    "# TTT\n",
    "\n",
    "k = 3\n",
    "d = (1-p)**k\n",
    "d"
   ]
  },
  {
   "cell_type": "code",
   "execution_count": null,
   "id": "158b9802",
   "metadata": {},
   "outputs": [],
   "source": [
    "a+b+c"
   ]
  },
  {
   "cell_type": "code",
   "execution_count": null,
   "id": "8dd7e803",
   "metadata": {},
   "outputs": [],
   "source": [
    "##do u need 0 blocks?\n"
   ]
  },
  {
   "cell_type": "code",
   "execution_count": null,
   "id": "ff245b94",
   "metadata": {},
   "outputs": [],
   "source": []
  },
  {
   "cell_type": "code",
   "execution_count": null,
   "id": "326ac0f3",
   "metadata": {},
   "outputs": [],
   "source": []
  },
  {
   "cell_type": "code",
   "execution_count": null,
   "id": "89c01984",
   "metadata": {},
   "outputs": [],
   "source": []
  },
  {
   "cell_type": "code",
   "execution_count": null,
   "id": "6efb8489",
   "metadata": {},
   "outputs": [],
   "source": []
  },
  {
   "cell_type": "code",
   "execution_count": null,
   "id": "0222f640",
   "metadata": {},
   "outputs": [],
   "source": [
    "n = 3\n",
    "k = 2\n",
    "(n-k+1)/(2**k)-(n-k)/(2**(k+1))*2"
   ]
  },
  {
   "cell_type": "code",
   "execution_count": null,
   "id": "fc1b8f7e",
   "metadata": {},
   "outputs": [],
   "source": [
    "n = 3\n",
    "k = 3\n",
    "(n-k+1)/(2**k)"
   ]
  },
  {
   "cell_type": "code",
   "execution_count": null,
   "id": "5070b60b",
   "metadata": {},
   "outputs": [],
   "source": [
    "def prob(c, p):\n",
    "    # c = consecutive blocks\n",
    "    # n = slots\n",
    "    # p = share MEV boost\n",
    "    \n",
    "    x = symbols('x', real=True)\n",
    "\n",
    "    c = c; n = 32; p = p\n",
    "\n",
    "    xx = min(i for i in solve(1-x+(1-p)*p**c*x**(c+1)) if i > 1)\n",
    "    qn = ((1 - p*xx) / ((c + 1 - c*xx)*(1-p))) * (1/(xx**(n+1)))\n",
    "    \n",
    "    return qn*100, (1-qn)*100\n",
    "\n",
    "    "
   ]
  },
  {
   "cell_type": "code",
   "execution_count": null,
   "id": "a52d41ed",
   "metadata": {},
   "outputs": [],
   "source": [
    "calc"
   ]
  },
  {
   "cell_type": "code",
   "execution_count": null,
   "id": "cee8b1b3",
   "metadata": {},
   "outputs": [],
   "source": [
    "calc[:,0:13]"
   ]
  },
  {
   "cell_type": "code",
   "execution_count": null,
   "id": "027ac2d1",
   "metadata": {},
   "outputs": [],
   "source": [
    "lst = list(df['builder_name'].unique())\n",
    "expt = calc[['builder_name', 'slots', 'share']]\n"
   ]
  },
  {
   "cell_type": "code",
   "execution_count": null,
   "id": "8d059490",
   "metadata": {},
   "outputs": [],
   "source": [
    "lst"
   ]
  },
  {
   "cell_type": "code",
   "execution_count": null,
   "id": "67736f66",
   "metadata": {},
   "outputs": [],
   "source": [
    "expt"
   ]
  },
  {
   "cell_type": "code",
   "execution_count": null,
   "id": "d2a571e7",
   "metadata": {},
   "outputs": [],
   "source": [
    "lst"
   ]
  },
  {
   "cell_type": "code",
   "execution_count": null,
   "id": "98666113",
   "metadata": {},
   "outputs": [],
   "source": [
    "\n",
    "temp_lst = [0,1,2,3,4,5,6,7,8,9]\n",
    "temp_lst.append(temp_lst)\n",
    "\n",
    "expt['e_1'] = temp_lst\n",
    "\n",
    "for c in range(2,5+1):\n",
    "    temp_lst = []\n",
    "    \n",
    "    for x in lst:\n",
    "        p = float(expt[expt['builder_name'] == x]['share'].values)\n",
    "        no_success, success = prob(c, p)\n",
    "        temp_lst.append(int(np.round(float(success)/100*total_epochs,0)))\n",
    "    \n",
    "    name = f'e_{c}'\n",
    "    expt[name] = temp_lst\n",
    "    "
   ]
  },
  {
   "cell_type": "code",
   "execution_count": null,
   "id": "dc50f59f",
   "metadata": {},
   "outputs": [],
   "source": [
    "expt"
   ]
  },
  {
   "cell_type": "code",
   "execution_count": null,
   "id": "cf86211a",
   "metadata": {},
   "outputs": [],
   "source": [
    "calc"
   ]
  },
  {
   "cell_type": "code",
   "execution_count": null,
   "id": "402ab17f",
   "metadata": {},
   "outputs": [],
   "source": [
    "p = np.round(len(df[df['builder_name'] == 'beaverbuild.org'])/1500,4)\n",
    "\n",
    "print('In a dataset of', len(df), 'blocks', int(len(df)*12/60/60), 'hours we expect ..')\n",
    "for i in [1,2,3,4,5]:\n",
    "    c = i\n",
    "    no_success, success = prob(c, p)\n",
    "    print(i, 'consecutive blocks: Probability', np.round(float(success),2), '% - Instances:', np.round(float(success)/100*47,0))\n",
    "\n",
    "print('.. proposed by the same builder')\n"
   ]
  },
  {
   "cell_type": "code",
   "execution_count": null,
   "id": "4dea4582",
   "metadata": {},
   "outputs": [],
   "source": [
    "stat = df[df['builder_name'] == 'beaverbuild.org'].groupby(['count']).size().values\n",
    "\n",
    "print('In a dataset of', len(df), 'blocks', int(len(df)*12/60/60), 'hours we find ..')\n",
    "\n",
    "for i, x in enumerate(np.sort(df[df['builder_name'] == 'beaverbuild.org']['count'].unique())):\n",
    "    stat[i] = stat[i]/x\n",
    "    \n",
    "    print(stat[i], 'instances of', i+1, 'consecutive blocks')\n",
    "    \n",
    "print('.. proposed by the same builder')"
   ]
  },
  {
   "cell_type": "code",
   "execution_count": null,
   "id": "84750791",
   "metadata": {},
   "outputs": [],
   "source": [
    "## MATRIX\n",
    "cons_blocks = np.arange(2,5+1) #cons_blocks\n",
    "prob = np.arange(.1,.9+.05,.05)"
   ]
  },
  {
   "cell_type": "code",
   "execution_count": null,
   "id": "6176ab5f",
   "metadata": {},
   "outputs": [],
   "source": [
    "lst = []\n",
    "for p in prob:\n",
    "    lst_temp = []\n",
    "    lst_temp.append(x)\n",
    "    for c in cons_blocks:\n",
    "        no_success, success = prob(c, p)\n",
    "        lst_temp.append(success)\n",
    "    \n",
    "    for z in range(0, len(lst_temp)):\n",
    "        try: \n",
    "            lst_temp[z] = np.round(float(lst_temp[z]), 2)\n",
    "        except TypeError:\n",
    "            lst_temp[z] = 100\n",
    "        \n",
    "    lst.append(lst_temp)\n",
    "        "
   ]
  },
  {
   "cell_type": "code",
   "execution_count": null,
   "id": "dacae7a3",
   "metadata": {},
   "outputs": [],
   "source": [
    "df = pd.DataFrame(lst, columns =['probability', 'k=2', 'k=3', 'k=4', 'k=5', 'k=6', 'k=7', 'k=8', 'k=9', 'k=10'])\n",
    "df = df.set_index('probability')\n",
    "df"
   ]
  },
  {
   "cell_type": "code",
   "execution_count": null,
   "id": "dc044bb6",
   "metadata": {},
   "outputs": [],
   "source": [
    "print('If the market share of MEV boost is p=0.5, then we derive', (38.96/100)*225, 'k=5 consecutive blocks a day.')\n",
    "print('If the market share of MEV boost is p=0.5, then we derive', (38.96/100)*6759, 'k=5 consecutive blocks a month.')\n"
   ]
  }
 ],
 "metadata": {
  "kernelspec": {
   "display_name": "Python 3 (ipykernel)",
   "language": "python",
   "name": "python3"
  },
  "language_info": {
   "codemirror_mode": {
    "name": "ipython",
    "version": 3
   },
   "file_extension": ".py",
   "mimetype": "text/x-python",
   "name": "python",
   "nbconvert_exporter": "python",
   "pygments_lexer": "ipython3",
   "version": "3.8.3"
  }
 },
 "nbformat": 4,
 "nbformat_minor": 5
}
