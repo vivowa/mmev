{
 "cells": [
  {
   "cell_type": "code",
   "execution_count": 1,
   "id": "0b5d2c21",
   "metadata": {},
   "outputs": [],
   "source": [
    "import pandas as pd\n",
    "import numpy as np\n",
    "import matplotlib.pyplot as plt\n",
    "\n",
    "from sympy import *"
   ]
  },
  {
   "cell_type": "markdown",
   "id": "300e9a50",
   "metadata": {},
   "source": [
    "### cleaning"
   ]
  },
  {
   "cell_type": "code",
   "execution_count": null,
   "id": "2424bbea",
   "metadata": {},
   "outputs": [],
   "source": [
    "df_p = pd.read_csv('data/custom_ppds_output_2023-01-31.csv')\n",
    "df_p"
   ]
  },
  {
   "cell_type": "code",
   "execution_count": null,
   "id": "18f5f6a5",
   "metadata": {},
   "outputs": [],
   "source": [
    "df_p.sort_values(by='slot', ascending=True, inplace=True)"
   ]
  },
  {
   "cell_type": "code",
   "execution_count": null,
   "id": "82a43702",
   "metadata": {},
   "outputs": [],
   "source": [
    "df_p.drop_duplicates(subset=['slot'], keep='first', inplace=True)"
   ]
  },
  {
   "cell_type": "code",
   "execution_count": null,
   "id": "613efcc1",
   "metadata": {},
   "outputs": [],
   "source": [
    "df_p.reset_index(drop=True, inplace=True)"
   ]
  },
  {
   "cell_type": "code",
   "execution_count": null,
   "id": "8407c055",
   "metadata": {},
   "outputs": [],
   "source": [
    "df_p.rename(columns={'buidler_pubkey': 'builder_pubkey'}, inplace=True)\n",
    "df_p.rename(columns={'buidler_name': 'builder_name'}, inplace=True)\n"
   ]
  },
  {
   "cell_type": "code",
   "execution_count": null,
   "id": "c4e1ba03",
   "metadata": {},
   "outputs": [],
   "source": [
    "df_p.info()"
   ]
  },
  {
   "cell_type": "code",
   "execution_count": null,
   "id": "85694c73",
   "metadata": {},
   "outputs": [],
   "source": [
    "print(df_p['builder_name'].unique())\n",
    "df_p = df_p[['slot', 'block_hash', 'block_reward', 'gas_used', 'validator_pubkey', 'builder_pubkey', 'builder_name', 'relay_name']]\n"
   ]
  },
  {
   "cell_type": "code",
   "execution_count": null,
   "id": "acae263c",
   "metadata": {},
   "outputs": [],
   "source": [
    "df_p['boosted'] = True"
   ]
  },
  {
   "cell_type": "code",
   "execution_count": null,
   "id": "c5457055",
   "metadata": {},
   "outputs": [],
   "source": [
    "slot = np.arange(4700013, df_p['slot'].max())\n",
    "# first slot after Ethereum merge https://etherscan.io/block/15537394\n",
    "df = pd.DataFrame(slot, columns = ['slot'])\n",
    "\n"
   ]
  },
  {
   "cell_type": "code",
   "execution_count": null,
   "id": "4d6d8a71",
   "metadata": {},
   "outputs": [],
   "source": [
    "df = df.merge(df_p, how='left', on='slot')\n",
    "#df['builder_name'].fillna('No builder', inplace=True)\n",
    "#df['builder_pubkey'].fillna('No builder', inplace=True)\n",
    "df['builder_name'].replace('Ø\\x83\\x01\\x0b\\x84geth\\x88go1.19.1\\x85linux', 'coda_geth_linux', inplace=True)\n"
   ]
  },
  {
   "cell_type": "code",
   "execution_count": null,
   "id": "3fbc0765",
   "metadata": {},
   "outputs": [],
   "source": [
    "df['boosted'].fillna(False, inplace=True)"
   ]
  },
  {
   "cell_type": "code",
   "execution_count": null,
   "id": "8ba451ff",
   "metadata": {},
   "outputs": [],
   "source": [
    "df"
   ]
  },
  {
   "cell_type": "markdown",
   "id": "c9ff51f3",
   "metadata": {},
   "source": [
    "### descriptive statistics"
   ]
  },
  {
   "cell_type": "code",
   "execution_count": null,
   "id": "ccda7a98",
   "metadata": {},
   "outputs": [],
   "source": [
    "slots_per_hour = 5*60\n",
    "slots_per_day = 5*60*24\n",
    "\n",
    "total_slots = len(df)\n",
    "total_epochs = int(len(df)/32)\n",
    "total_days = total_slots / slots_per_day"
   ]
  },
  {
   "cell_type": "code",
   "execution_count": null,
   "id": "dc2a7221",
   "metadata": {},
   "outputs": [],
   "source": [
    "#fltr = 'builder_name'\n",
    "#fltr_name = 'entity'\n",
    "\n",
    "fltr = 'builder_pubkey'\n",
    "fltr_name = 'pubkey'\n",
    "\n",
    "df['count'] = 1\n",
    "df['position'] = 1\n",
    "count = 0\n",
    "for i in range(0, len(df)):\n",
    "    check = (df[fltr].iloc[i] == df[fltr].iloc[i-1]) & (df[fltr].iloc[i] != 'Unknown') & (df[fltr].iloc[i] != 'No builder')\n",
    "    \n",
    "    if check == True:\n",
    "        if count == 0:\n",
    "            count = 2\n",
    "        else:\n",
    "            count += 1\n",
    "\n",
    "    elif (check == False) & (count == 0):\n",
    "            continue\n",
    "\n",
    "    elif (check == False) & (count != 0):\n",
    "        for j in range(1, count+1):\n",
    "            df['count'].iloc[i-j] = count\n",
    "            df['position'].iloc[i-j] = count+1-j\n",
    "\n",
    "        count = 0\n",
    "\n",
    "\n"
   ]
  },
  {
   "cell_type": "code",
   "execution_count": null,
   "id": "f3825056",
   "metadata": {
    "scrolled": true
   },
   "outputs": [],
   "source": [
    "#df['block_reward'].fillna((df[df['count'] == 1]['block_reward'].mean()), inplace=True)"
   ]
  },
  {
   "cell_type": "code",
   "execution_count": null,
   "id": "ad5fa4cd",
   "metadata": {},
   "outputs": [],
   "source": [
    "df_backup = df.copy()"
   ]
  },
  {
   "cell_type": "code",
   "execution_count": null,
   "id": "0a2fee58",
   "metadata": {},
   "outputs": [],
   "source": [
    "df.groupby(df['count']).size()"
   ]
  },
  {
   "cell_type": "code",
   "execution_count": null,
   "id": "61621f0b",
   "metadata": {},
   "outputs": [],
   "source": [
    "stat = df.groupby(df['count']).size().values\n",
    "\n",
    "temp = df['count'].unique()\n",
    "temp.sort()\n",
    "\n",
    "print('In a dataset of', len(df), 'blocks', int(len(df)*12/60/60/24), 'days we find:')\n",
    "\n",
    "for i, x in enumerate(temp):\n",
    "    stat[i] = stat[i]/x\n",
    "    \n",
    "    print(stat[i], 'instances of', x, 'consecutive blocks')\n",
    "\n",
    "print('proposed by the same builder')"
   ]
  },
  {
   "cell_type": "code",
   "execution_count": null,
   "id": "926f37f1",
   "metadata": {},
   "outputs": [],
   "source": [
    "print(stat[0]/len(df), '% normal blocks')\n",
    "print(stat[1]*2/len(df), '% k=2 blocks')\n",
    "print(stat[2]*3/len(df), '% k=3 blocks')\n",
    "print(stat[3]*4/len(df), '% k=4 blocks')\n",
    "print(1-stat[0]/len(df)-stat[1]*2/len(df)-stat[2]*3/len(df)-stat[3]*4/len(df), '% k>= 5 blocks')"
   ]
  },
  {
   "cell_type": "code",
   "execution_count": null,
   "id": "f7a632f1",
   "metadata": {},
   "outputs": [],
   "source": [
    "slots_per_day*(stat[1]/len(df))"
   ]
  },
  {
   "cell_type": "code",
   "execution_count": null,
   "id": "8d7199a0",
   "metadata": {
    "scrolled": true
   },
   "outputs": [],
   "source": [
    "print(df['builder_name'].unique())\n",
    "print(df.groupby(df['builder_name']).size().sort_values(ascending=False))"
   ]
  },
  {
   "cell_type": "code",
   "execution_count": null,
   "id": "754878d2",
   "metadata": {},
   "outputs": [],
   "source": [
    "df.groupby(df['builder_pubkey']).size()"
   ]
  },
  {
   "cell_type": "code",
   "execution_count": null,
   "id": "e5df0329",
   "metadata": {},
   "outputs": [],
   "source": [
    "df.groupby(df['builder_name']).size()"
   ]
  },
  {
   "cell_type": "code",
   "execution_count": null,
   "id": "87de5f75",
   "metadata": {},
   "outputs": [],
   "source": [
    "#cannot match\n",
    "len(df[df['builder_name'] == 'Unknown'])/len(df[df['boosted'] == True])"
   ]
  },
  {
   "cell_type": "code",
   "execution_count": null,
   "id": "85ad97a3",
   "metadata": {},
   "outputs": [],
   "source": [
    "df.tail(10)"
   ]
  },
  {
   "cell_type": "code",
   "execution_count": null,
   "id": "5fab959c",
   "metadata": {},
   "outputs": [],
   "source": [
    "df['block_reward'].sum()"
   ]
  },
  {
   "cell_type": "code",
   "execution_count": null,
   "id": "3efc3f5a",
   "metadata": {},
   "outputs": [],
   "source": [
    "lst = list(df['builder_name'].unique()) #drop na\n",
    "lst = lst[1:]\n",
    "\n",
    "calc = pd.DataFrame(lst, columns = ['builder_name'])\n",
    "\n",
    "temp_lst = []\n",
    "for x in lst:\n",
    "    temp_lst.append(len(df[df['builder_name'] == x]))\n",
    "\n",
    "calc['slots'] = temp_lst\n",
    "\n",
    "calc['share'] = np.round(calc['slots']/len(df),4)\n",
    "\n",
    "for i in range(1,20+1):\n",
    "    temp_lst = []\n",
    "    \n",
    "    for x in lst:\n",
    "        temp_lst.append(int(len(df[(df['builder_name'] == x) & (df['count'] == i)])/i))\n",
    "    \n",
    "    name = f'k_{i}'\n",
    "    calc[name] = temp_lst\n"
   ]
  },
  {
   "cell_type": "code",
   "execution_count": null,
   "id": "ab79de44",
   "metadata": {},
   "outputs": [],
   "source": [
    "calc.sort_values(by=['share'], ascending=False, inplace=True)\n",
    "calc = calc.drop(calc[calc['builder_name'] == 'Unknown'].index)\n",
    "calc.reset_index(drop=True, inplace=True)\n",
    "calc = calc.iloc[:,0:13]"
   ]
  },
  {
   "cell_type": "code",
   "execution_count": null,
   "id": "d35c4b78",
   "metadata": {},
   "outputs": [],
   "source": [
    "totals = calc.sum()\n",
    "calc = calc.append(totals, ignore_index=True)\n",
    "calc.rename(index={9: 'Total'}, inplace=True)\n",
    "calc['builder_name'].iloc[9] = ''"
   ]
  },
  {
   "cell_type": "code",
   "execution_count": null,
   "id": "1dfc79fe",
   "metadata": {},
   "outputs": [],
   "source": [
    "calc"
   ]
  },
  {
   "cell_type": "code",
   "execution_count": null,
   "id": "b10d5212",
   "metadata": {},
   "outputs": [],
   "source": [
    "calc.rename(columns={'builder_name': 'builder entity'}, inplace=True)\n",
    "calc.rename(columns={'slots': 'blocks'}, inplace=True)\n",
    "calc.rename(columns={'k_1': 'k=1'}, inplace=True)\n",
    "calc.rename(columns={'k_2': 'k=2'}, inplace=True)\n",
    "calc.rename(columns={'k_3': 'k=3'}, inplace=True)\n",
    "calc.rename(columns={'k_4': 'k=4'}, inplace=True)\n",
    "calc.rename(columns={'k_5': 'k=5'}, inplace=True)\n",
    "calc.rename(columns={'k_6': 'k=6'}, inplace=True)\n",
    "calc.rename(columns={'k_7': 'k=7'}, inplace=True)\n",
    "calc.rename(columns={'k_8': 'k=8'}, inplace=True)\n",
    "calc.rename(columns={'k_9': 'k=9'}, inplace=True)\n",
    "calc.rename(columns={'k_10': 'k=10'}, inplace=True)\n",
    "\n",
    "calc['builder entity'].replace('coda_geth_linux', 'x85linux', inplace=True)\n",
    "calc['builder entity'].replace('https://eth-builder.com', 'eth-builder.com', inplace=True)\n",
    "calc['builder entity'].replace('', 'Total', inplace=True)"
   ]
  },
  {
   "cell_type": "code",
   "execution_count": null,
   "id": "2e72f043",
   "metadata": {},
   "outputs": [],
   "source": []
  },
  {
   "cell_type": "code",
   "execution_count": null,
   "id": "11b9d774",
   "metadata": {},
   "outputs": [],
   "source": [
    "calc.to_csv('result_tables/leaderboard_entity.csv', index=False)"
   ]
  },
  {
   "cell_type": "code",
   "execution_count": null,
   "id": "697f5d19",
   "metadata": {},
   "outputs": [],
   "source": [
    "calc"
   ]
  },
  {
   "cell_type": "code",
   "execution_count": null,
   "id": "72acfc9c",
   "metadata": {},
   "outputs": [],
   "source": [
    "test = pd.DataFrame(lst, columns = ['builder_name'])\n",
    "\n",
    "for i in range(1, 10+1):\n",
    "    data_temp = []\n",
    "    \n",
    "    for x in lst:\n",
    "        data_temp.append(df[(df['builder_name'] == x) & (df['count'] == i)]['block_reward'].mean())\n",
    "    \n",
    "    name = f'k_{i}'\n",
    "    test[name] = data_temp"
   ]
  },
  {
   "cell_type": "code",
   "execution_count": null,
   "id": "994657ba",
   "metadata": {},
   "outputs": [],
   "source": [
    "totals = test.mean()"
   ]
  },
  {
   "cell_type": "code",
   "execution_count": null,
   "id": "ecb82124",
   "metadata": {},
   "outputs": [],
   "source": [
    "test = test.append(totals, ignore_index=True)\n",
    "test.rename(index={10: 'Mean'}, inplace=True)"
   ]
  },
  {
   "cell_type": "code",
   "execution_count": null,
   "id": "ce83bc30",
   "metadata": {},
   "outputs": [],
   "source": [
    "test = test.iloc[:,1:11]"
   ]
  },
  {
   "cell_type": "code",
   "execution_count": null,
   "id": "67152a25",
   "metadata": {},
   "outputs": [],
   "source": [
    "test.fillna('', inplace = True)\n",
    "test"
   ]
  },
  {
   "cell_type": "code",
   "execution_count": null,
   "id": "f56129f8",
   "metadata": {},
   "outputs": [],
   "source": [
    "test = test.drop(3)\n",
    "test.reset_index(drop=True, inplace=True)"
   ]
  },
  {
   "cell_type": "code",
   "execution_count": null,
   "id": "a0c1e256",
   "metadata": {},
   "outputs": [],
   "source": []
  },
  {
   "cell_type": "code",
   "execution_count": null,
   "id": "734969f5",
   "metadata": {},
   "outputs": [],
   "source": [
    "df['epoch'] = 1663224179"
   ]
  },
  {
   "cell_type": "code",
   "execution_count": null,
   "id": "ccb5bf90",
   "metadata": {},
   "outputs": [],
   "source": [
    "def multiply_row_index(df, column_name):\n",
    "    for index, row in df.iterrows():\n",
    "        df.at[index, column_name] = row[column_name] + index*12\n",
    "    return df\n",
    "\n",
    "df = multiply_row_index(df, 'epoch')"
   ]
  },
  {
   "cell_type": "code",
   "execution_count": null,
   "id": "2b2189dd",
   "metadata": {},
   "outputs": [],
   "source": [
    "df['date'] = pd.to_datetime(df['epoch'],  unit='s', utc=True)\n",
    "#df['date'] = df['date'].dt.strftime('%d-%m-%Y %H:%M:%S')"
   ]
  },
  {
   "cell_type": "code",
   "execution_count": null,
   "id": "0e97041f",
   "metadata": {},
   "outputs": [],
   "source": [
    "df.to_csv(f'data/df_{fltr_name}.csv', index=False)"
   ]
  },
  {
   "cell_type": "code",
   "execution_count": null,
   "id": "4b2e1fb3",
   "metadata": {},
   "outputs": [],
   "source": []
  },
  {
   "cell_type": "code",
   "execution_count": 2,
   "id": "92c07803",
   "metadata": {},
   "outputs": [],
   "source": [
    "df = pd.read_csv('data/df_entity.csv')\n",
    "df['date'] = pd.to_datetime(df['epoch'],  unit='s', utc=True)\n",
    "fltr_name = 'entity'\n",
    "#df['date'] = df['date'].dt.strftime('%d-%m-%Y %H:%M:%S')"
   ]
  },
  {
   "cell_type": "code",
   "execution_count": null,
   "id": "f0ef68c8",
   "metadata": {},
   "outputs": [],
   "source": [
    "fltr_name = 'entity'"
   ]
  },
  {
   "cell_type": "code",
   "execution_count": null,
   "id": "4b41998e",
   "metadata": {},
   "outputs": [],
   "source": []
  },
  {
   "cell_type": "markdown",
   "id": "6592410e",
   "metadata": {},
   "source": [
    "### plotting descriptive"
   ]
  },
  {
   "cell_type": "code",
   "execution_count": null,
   "id": "c05a17e8",
   "metadata": {},
   "outputs": [],
   "source": [
    "df['boosted'].rolling(slots_per_day, min_periods=1).sum()/slots_per_day"
   ]
  },
  {
   "cell_type": "code",
   "execution_count": null,
   "id": "6b37b740",
   "metadata": {},
   "outputs": [],
   "source": [
    "fig, ax = plt.subplots(figsize =(10, 5))\n",
    "\n",
    "ax.plot(df['slot'], df['boosted'].rolling(slots_per_day*7, min_periods=1).sum()/(slots_per_day*7))\n",
    "\n",
    "# ax.ticklabel_format(style='plain')\n",
    "\n",
    "ax.grid(axis='y', linestyle='--', linewidth=.5)\n",
    "\n",
    "s = df['slot'].iloc[0]\n",
    "o = df[df['date'] >= '2022-10-01 00:00:00']['slot'].values[0]\n",
    "n = df[df['date'] >= '2022-11-01 00:00:00']['slot'].values[0]\n",
    "d = df[df['date'] >= '2022-12-01 00:00:00']['slot'].values[0]\n",
    "j = df[df['date'] >= '2023-01-01 00:00:00']['slot'].values[0]\n",
    "f = df['slot'].iloc[-1]\n",
    "\n",
    "\n",
    "plt.xticks([s, o, n, d, j, f], ['15 Sep 22', 'Oct 22', 'Nov 22', 'Dec 22', 'Jan 23', 'Feb 23'])\n",
    "       \n",
    "left, right = plt.xlim()\n",
    "ax.set_xlim(left+1, right-0)\n",
    "\n",
    "vals = ax.get_yticks()\n",
    "ax.set_yticklabels(['{:,.0%}'.format(x) for x in vals])\n",
    "\n",
    "plt.savefig(f'figures/mev_boost.png')\n",
    "\n",
    "plt.show()"
   ]
  },
  {
   "cell_type": "code",
   "execution_count": null,
   "id": "cd1f661a",
   "metadata": {},
   "outputs": [],
   "source": [
    "bins = np.arange(df['slot'].min(), df['slot'].max(), slots_per_day)\n",
    "data = []\n",
    "for i in range(0, len(bins)-1):\n",
    "        data.append(df[(df['slot'] >= bins[i]) & (df['slot'] < bins[i+1])]['block_reward'].mean())"
   ]
  },
  {
   "cell_type": "code",
   "execution_count": null,
   "id": "0ca4c789",
   "metadata": {},
   "outputs": [],
   "source": [
    "fig, ax = plt.subplots(figsize =(12, 6))\n",
    "\n",
    "ax.bar(np.arange(1,len(data)+1), data, width = 0.5)\n",
    "ax.grid(axis='y', linestyle='--', linewidth=.5)\n",
    "\n",
    "left, right = plt.xlim()\n",
    "ax.set_xlim(left+5, right-5)\n",
    "\n",
    "ax.set_ylabel('Builder payment')\n",
    "ax.set_xlabel('Day')\n",
    "\n",
    "vals = ax.get_yticks()\n",
    "ax.set_yticklabels(['{:,.2f}'.format(x)+' ETH' for x in vals])\n",
    "\n",
    "# show plot\n",
    "plt.show()"
   ]
  },
  {
   "cell_type": "markdown",
   "id": "6f0cc1ca",
   "metadata": {},
   "source": [
    "### plotting analysis"
   ]
  },
  {
   "cell_type": "code",
   "execution_count": 3,
   "id": "ef1a52b9",
   "metadata": {},
   "outputs": [
    {
     "name": "stderr",
     "output_type": "stream",
     "text": [
      "/var/folders/1l/dlmzk3fn30g9wwk6y58j36c00000gn/T/ipykernel_30245/1024207486.py:2: SettingWithCopyWarning: \n",
      "A value is trying to be set on a copy of a slice from a DataFrame\n",
      "\n",
      "See the caveats in the documentation: https://pandas.pydata.org/pandas-docs/stable/user_guide/indexing.html#returning-a-view-versus-a-copy\n",
      "  slc.dropna(subset=['block_reward'], inplace=True)\n",
      "/var/folders/1l/dlmzk3fn30g9wwk6y58j36c00000gn/T/ipykernel_30245/1024207486.py:20: UserWarning: FixedFormatter should only be used together with FixedLocator\n",
      "  ax.set_yticklabels(['{:,.2f}'.format(x)+' ETH' for x in vals])\n"
     ]
    },
    {
     "data": {
      "image/png": "[encoded data removed]",
      "text/plain": [
       "<Figure size 800x800 with 1 Axes>"
      ]
     },
     "metadata": {},
     "output_type": "display_data"
    }
   ],
   "source": [
    "\n",
    "\n",
    "slc = df[df['count'] <= 10]\n",
    "slc.dropna(subset=['block_reward'], inplace=True)\n",
    "\n",
    "temp = slc['count'].unique()\n",
    "temp.sort()\n",
    "\n",
    "data = []\n",
    "for x in temp:\n",
    "    data.append(list(slc[slc['count']==x]['block_reward']))\n",
    "\n",
    "fig, ax = plt.subplots(figsize =(8, 8))\n",
    "\n",
    "ax.boxplot(data, showfliers=False)\n",
    "ax.grid(axis='y', linestyle='--', linewidth=.5)\n",
    "\n",
    "ax.set_ylabel('Builder payment')\n",
    "ax.set_xlabel('Consecutive blocks')\n",
    "\n",
    "vals = ax.get_yticks()\n",
    "ax.set_yticklabels(['{:,.2f}'.format(x)+' ETH' for x in vals])\n",
    "\n",
    "plt.xticks(temp)\n",
    "\n",
    "plt.savefig(f'figures/payment_{fltr_name}.png')\n",
    "plt.show()\n"
   ]
  },
  {
   "cell_type": "code",
   "execution_count": 4,
   "id": "63ba153d",
   "metadata": {},
   "outputs": [
    {
     "name": "stderr",
     "output_type": "stream",
     "text": [
      "/var/folders/1l/dlmzk3fn30g9wwk6y58j36c00000gn/T/ipykernel_30245/610934767.py:2: SettingWithCopyWarning: \n",
      "A value is trying to be set on a copy of a slice from a DataFrame\n",
      "\n",
      "See the caveats in the documentation: https://pandas.pydata.org/pandas-docs/stable/user_guide/indexing.html#returning-a-view-versus-a-copy\n",
      "  slc.dropna(subset=['block_reward'], inplace=True)\n"
     ]
    }
   ],
   "source": [
    "slc = df[df['count'] <= 10]\n",
    "slc.dropna(subset=['block_reward'], inplace=True)\n",
    "\n",
    "temp = slc['count'].unique()\n",
    "temp.sort()\n",
    "\n",
    "data = []\n",
    "for x in temp:\n",
    "    data.append(list(slc[slc['count']==x]['block_reward']))"
   ]
  },
  {
   "cell_type": "code",
   "execution_count": 5,
   "id": "dfa39cf3",
   "metadata": {},
   "outputs": [
    {
     "data": {
      "text/plain": [
       "['0.0%',\n",
       " '2.12%',\n",
       " '5.92%',\n",
       " '11.92%',\n",
       " '9.67%',\n",
       " '19.45%',\n",
       " '23.03%',\n",
       " '32.69%',\n",
       " '14.02%',\n",
       " '23.41%']"
      ]
     },
     "execution_count": 5,
     "metadata": {},
     "output_type": "execute_result"
    }
   ],
   "source": [
    "distance = slc['block_reward'].groupby(slc['count']).median()\n",
    "distance = distance/distance[1]-1\n",
    "distance = distance*100\n",
    "distance = list(distance)\n",
    "distance = np.round(distance, 2)\n",
    "distance = [str(x) + '%' for x in distance]\n",
    "distance"
   ]
  },
  {
   "cell_type": "code",
   "execution_count": 29,
   "id": "312d2f7f",
   "metadata": {},
   "outputs": [
    {
     "name": "stderr",
     "output_type": "stream",
     "text": [
      "/var/folders/1l/dlmzk3fn30g9wwk6y58j36c00000gn/T/ipykernel_30245/661046333.py:25: UserWarning: FixedFormatter should only be used together with FixedLocator\n",
      "  axs[0].set_yticklabels(['{:,.2f}'.format(x) for x in vals])\n",
      "/var/folders/1l/dlmzk3fn30g9wwk6y58j36c00000gn/T/ipykernel_30245/661046333.py:27: UserWarning: FixedFormatter should only be used together with FixedLocator\n",
      "  axs[1].set_yticklabels(['{:,.2f}'.format(x) for x in vals])\n"
     ]
    },
    {
     "data": {
      "image/png": "[encoded data removed]",
      "text/plain": [
       "<Figure size 700x700 with 2 Axes>"
      ]
     },
     "metadata": {},
     "output_type": "display_data"
    }
   ],
   "source": [
    "fig = plt.figure(figsize=(7,7))\n",
    "gs = fig.add_gridspec(2, hspace=0, height_ratios=[4, 1])\n",
    "axs = gs.subplots(sharex=True)\n",
    "\n",
    "axs[0].scatter(temp, slc['block_reward'].groupby(slc['count']).median().cumsum())\n",
    "axs[0].plot([1, 10], [list(slc['block_reward'].groupby(slc['count']).median())[0], list(slc['block_reward'].groupby(slc['count']).median())[0]*len(list(slc['block_reward'].groupby(slc['count']).median()))], color='grey')\n",
    "axs[0].grid(axis='y', linestyle='--', linewidth=.25)\n",
    "\n",
    "\n",
    "axs[1].set_ylim(0.045, 0.065)\n",
    "for i in range(1,len(temp)):\n",
    "    axs[1].plot([temp[i], temp[i]], [list(slc['block_reward'].groupby(slc['count']).median())[0], list(slc['block_reward'].groupby(slc['count']).median())[i]], color='grey', linewidth=.5)\n",
    "axs[1].scatter(temp, slc['block_reward'].groupby(slc['count']).median())\n",
    "axs[1].grid(axis='y', linestyle='--', linewidth=.25)\n",
    "\n",
    "for i in range(1,len(temp)):\n",
    "    axs[1].text(temp[i]-.35, list(slc['block_reward'].groupby(slc['count']).median())[i]+.0015, s=f'{distance[i]}', fontdict=dict(fontsize=8))\n",
    "\n",
    "axs[0].legend(['Empirical bids', 'Naive bidder'])\n",
    "\n",
    "axs[0].set_ylabel('Total builder payment')\n",
    "axs[1].set_ylabel('Median builder payment')\n",
    "plt.xlabel('Consecutive blocks')\n",
    "vals = axs[0].get_yticks()\n",
    "axs[0].set_yticklabels(['{:,.2f}'.format(x) for x in vals])\n",
    "vals = axs[1].get_yticks()\n",
    "axs[1].set_yticklabels(['{:,.2f}'.format(x) for x in vals])\n",
    "#axs[1].yaxis.tick_right()\n",
    "#axs[1].yaxis.set_label_position('right')\n",
    "plt.xticks(temp)\n",
    "\n",
    "# Hide x labels and tick labels for all but bottom plot.\n",
    "for ax in axs:\n",
    "    ax.label_outer()\n",
    "    \n",
    "plt.savefig(f'figures/payment_{fltr_name}.png', bbox_inches='tight')\n",
    "plt.show()"
   ]
  },
  {
   "cell_type": "code",
   "execution_count": null,
   "id": "f3e27fd6",
   "metadata": {},
   "outputs": [],
   "source": [
    "list(slc['block_reward'].groupby(slc['count']).median())"
   ]
  },
  {
   "cell_type": "code",
   "execution_count": null,
   "id": "50ad172a",
   "metadata": {},
   "outputs": [],
   "source": [
    "def q25(x):\n",
    "    return x.quantile(0.25)\n",
    "\n",
    "def q75(x):\n",
    "    return x.quantile(0.75)"
   ]
  },
  {
   "cell_type": "code",
   "execution_count": 14,
   "id": "30d48ab9",
   "metadata": {},
   "outputs": [
    {
     "name": "stdout",
     "output_type": "stream",
     "text": [
      "<class 'pandas.core.frame.DataFrame'>\n",
      "Int64Index: 736685 entries, 554 to 994464\n",
      "Data columns (total 13 columns):\n",
      " #   Column            Non-Null Count   Dtype              \n",
      "---  ------            --------------   -----              \n",
      " 0   slot              736685 non-null  int64              \n",
      " 1   block_hash        736685 non-null  object             \n",
      " 2   block_reward      736685 non-null  float64            \n",
      " 3   gas_used          736685 non-null  float64            \n",
      " 4   validator_pubkey  736685 non-null  object             \n",
      " 5   builder_pubkey    736685 non-null  object             \n",
      " 6   builder_name      736685 non-null  object             \n",
      " 7   relay_name        736685 non-null  object             \n",
      " 8   boosted           736685 non-null  bool               \n",
      " 9   count             736685 non-null  int64              \n",
      " 10  position          736685 non-null  int64              \n",
      " 11  epoch             736685 non-null  int64              \n",
      " 12  date              736685 non-null  datetime64[ns, UTC]\n",
      "dtypes: bool(1), datetime64[ns, UTC](1), float64(2), int64(4), object(5)\n",
      "memory usage: 73.8+ MB\n"
     ]
    }
   ],
   "source": [
    "slc.info()"
   ]
  },
  {
   "cell_type": "code",
   "execution_count": 20,
   "id": "b4f1cba2",
   "metadata": {},
   "outputs": [],
   "source": [
    "temp = slc['position'].unique()\n",
    "temp.sort()"
   ]
  },
  {
   "cell_type": "code",
   "execution_count": 21,
   "id": "15270137",
   "metadata": {},
   "outputs": [
    {
     "data": {
      "text/plain": [
       "array([ 1,  2,  3,  4,  5,  6,  7,  8,  9, 10])"
      ]
     },
     "execution_count": 21,
     "metadata": {},
     "output_type": "execute_result"
    }
   ],
   "source": [
    "temp"
   ]
  },
  {
   "cell_type": "code",
   "execution_count": 28,
   "id": "a1c1f34d",
   "metadata": {},
   "outputs": [
    {
     "name": "stderr",
     "output_type": "stream",
     "text": [
      "/var/folders/1l/dlmzk3fn30g9wwk6y58j36c00000gn/T/ipykernel_30245/3225620440.py:4: SettingWithCopyWarning: \n",
      "A value is trying to be set on a copy of a slice from a DataFrame\n",
      "\n",
      "See the caveats in the documentation: https://pandas.pydata.org/pandas-docs/stable/user_guide/indexing.html#returning-a-view-versus-a-copy\n",
      "  slc.dropna(subset=['block_reward'], inplace=True)\n",
      "/var/folders/1l/dlmzk3fn30g9wwk6y58j36c00000gn/T/ipykernel_30245/3225620440.py:22: UserWarning: FixedFormatter should only be used together with FixedLocator\n",
      "  ax.set_yticklabels(['{:,.2f}'.format(x)+' ETH' for x in vals])\n"
     ]
    },
    {
     "data": {
      "image/png": "[encoded data removed]",
      "text/plain": [
       "<Figure size 600x400 with 1 Axes>"
      ]
     },
     "metadata": {},
     "output_type": "display_data"
    }
   ],
   "source": [
    "#how much do builder pay on average for consecutive blocks\n",
    "\n",
    "slc = df[df['count'] <= 10]\n",
    "slc.dropna(subset=['block_reward'], inplace=True)\n",
    "\n",
    "temp = slc['position'].unique()\n",
    "temp.sort()\n",
    "\n",
    "data = []\n",
    "for x in temp:\n",
    "    data.append(list(slc[slc['position']==x]['block_reward']))\n",
    "\n",
    "fig, ax = plt.subplots(figsize =(6, 4))\n",
    "\n",
    "ax.boxplot(data, showfliers=False)\n",
    "ax.grid(axis='y', linestyle='--', linewidth=.5)\n",
    "\n",
    "ax.set_ylabel('Builder payment')\n",
    "ax.set_xlabel('n-th position in consecutive blocks')\n",
    "\n",
    "vals = ax.get_yticks()\n",
    "ax.set_yticklabels(['{:,.2f}'.format(x)+' ETH' for x in vals])\n",
    "\n",
    "plt.xticks(list(slc['position'].unique()))\n",
    "\n",
    "plt.savefig(f'figures/payment_position_{fltr_name}.png', bbox_inches='tight')\n",
    "\n",
    "plt.show()\n"
   ]
  },
  {
   "cell_type": "code",
   "execution_count": 10,
   "id": "3406c942",
   "metadata": {},
   "outputs": [
    {
     "ename": "NameError",
     "evalue": "name 'q25' is not defined",
     "output_type": "error",
     "traceback": [
      "\u001b[0;31m---------------------------------------------------------------------------\u001b[0m",
      "\u001b[0;31mNameError\u001b[0m                                 Traceback (most recent call last)",
      "Input \u001b[0;32mIn [10]\u001b[0m, in \u001b[0;36m<cell line: 13>\u001b[0;34m()\u001b[0m\n\u001b[1;32m      9\u001b[0m ax\u001b[38;5;241m.\u001b[39mplot(x, slc[\u001b[38;5;124m'\u001b[39m\u001b[38;5;124mblock_reward\u001b[39m\u001b[38;5;124m'\u001b[39m]\u001b[38;5;241m.\u001b[39mgroupby(slc[\u001b[38;5;124m'\u001b[39m\u001b[38;5;124mposition\u001b[39m\u001b[38;5;124m'\u001b[39m])\u001b[38;5;241m.\u001b[39mmedian())\n\u001b[1;32m     10\u001b[0m ax\u001b[38;5;241m.\u001b[39mgrid(axis\u001b[38;5;241m=\u001b[39m\u001b[38;5;124m'\u001b[39m\u001b[38;5;124my\u001b[39m\u001b[38;5;124m'\u001b[39m, linestyle\u001b[38;5;241m=\u001b[39m\u001b[38;5;124m'\u001b[39m\u001b[38;5;124m--\u001b[39m\u001b[38;5;124m'\u001b[39m, linewidth\u001b[38;5;241m=\u001b[39m\u001b[38;5;241m.5\u001b[39m)\n\u001b[0;32m---> 13\u001b[0m y1 \u001b[38;5;241m=\u001b[39m slc\u001b[38;5;241m.\u001b[39mgroupby([\u001b[38;5;124m'\u001b[39m\u001b[38;5;124mposition\u001b[39m\u001b[38;5;124m'\u001b[39m])\u001b[38;5;241m.\u001b[39magg({\u001b[38;5;124m'\u001b[39m\u001b[38;5;124mblock_reward\u001b[39m\u001b[38;5;124m'\u001b[39m: [\u001b[43mq25\u001b[49m]})\n\u001b[1;32m     14\u001b[0m y2 \u001b[38;5;241m=\u001b[39m slc\u001b[38;5;241m.\u001b[39mgroupby([\u001b[38;5;124m'\u001b[39m\u001b[38;5;124mposition\u001b[39m\u001b[38;5;124m'\u001b[39m])\u001b[38;5;241m.\u001b[39magg({\u001b[38;5;124m'\u001b[39m\u001b[38;5;124mblock_reward\u001b[39m\u001b[38;5;124m'\u001b[39m: [q75]})\n\u001b[1;32m     15\u001b[0m ax\u001b[38;5;241m.\u001b[39mplot(x, y1, x, y2, color\u001b[38;5;241m=\u001b[39m\u001b[38;5;124m'\u001b[39m\u001b[38;5;124mgrey\u001b[39m\u001b[38;5;124m'\u001b[39m, linewidth\u001b[38;5;241m=\u001b[39m\u001b[38;5;241m.5\u001b[39m)\n",
      "\u001b[0;31mNameError\u001b[0m: name 'q25' is not defined"
     ]
    },
    {
     "data": {
      "image/png": "[encoded data removed]",
      "text/plain": [
       "<Figure size 800x800 with 1 Axes>"
      ]
     },
     "metadata": {},
     "output_type": "display_data"
    }
   ],
   "source": [
    "#how much do builder pay on average for consecutive blocks\n",
    "\n",
    "slc = df[df['count'] <= 10]\n",
    "\n",
    "fig, ax = plt.subplots(figsize =(8, 8))\n",
    "\n",
    "x = list(slc['position'].unique())\n",
    "\n",
    "ax.plot(x, slc['block_reward'].groupby(slc['position']).median())\n",
    "ax.grid(axis='y', linestyle='--', linewidth=.5)\n",
    "\n",
    "\n",
    "y1 = slc.groupby(['position']).agg({'block_reward': [q25]})\n",
    "y2 = slc.groupby(['position']).agg({'block_reward': [q75]})\n",
    "ax.plot(x, y1, x, y2, color='grey', linewidth=.5)\n",
    "\n",
    "ax.fill_between(x, list(y1.iloc[:, 0]), list(y2.iloc[:, 0]), facecolor='lightgrey', alpha=.75)\n",
    "\n",
    "\n",
    "#data = slc[df['count'] >= 2]\n",
    "#ax.scatter(data['position'], data['block_reward'], s = .05, alpha = .75)\n",
    "\n",
    "ax.set_ylabel('Builder payment')\n",
    "ax.set_xlabel('n position in consecutive blocks')\n",
    "\n",
    "plt.ylim(0, .15)\n",
    "\n",
    "vals = ax.get_yticks()\n",
    "ax.set_yticklabels(['{:,.2f}'.format(x)+' ETH' for x in vals])\n",
    "\n",
    "plt.xticks(list(slc['position'].unique()))\n",
    "\n",
    "plt.savefig(f'figures/payment_position_{fltr_name}.png', bbox_inches='tight')\n",
    "\n",
    "plt.show()\n"
   ]
  },
  {
   "cell_type": "code",
   "execution_count": null,
   "id": "43739a44",
   "metadata": {},
   "outputs": [],
   "source": [
    "df"
   ]
  },
  {
   "cell_type": "code",
   "execution_count": null,
   "id": "0f891c0a",
   "metadata": {},
   "outputs": [],
   "source": [
    "#how much do builder pay on average for consecutive blocks\n",
    "\n",
    "#add cumulative payment\n",
    "\n",
    "slc = df[(df['count'] <11) & (df['count'] >= 5)]\n",
    "\n",
    "fig, ax = plt.subplots(figsize =(8, 8))\n",
    "\n",
    "ax.scatter(slc['slot'], slc['count'], s=.25)\n",
    "\n",
    "ax.set_ylabel('consecutive blocks')\n",
    "ax.set_xlabel('date')\n",
    "\n",
    "s = df['slot'].iloc[0]\n",
    "o = df[df['date'] >= '2022-10-01 00:00:00']['slot'].values[0]\n",
    "n = df[df['date'] >= '2022-11-01 00:00:00']['slot'].values[0]\n",
    "d = df[df['date'] >= '2022-12-01 00:00:00']['slot'].values[0]\n",
    "j = df[df['date'] >= '2023-01-01 00:00:00']['slot'].values[0]\n",
    "f = df['slot'].iloc[-1]+1e5\n",
    "\n",
    "\n",
    "plt.xticks([s, o, n, d, j, f], ['15 Sep 22', 'Oct 22', 'Nov 22', 'Dec 22', 'Jan 23', 'Feb 23'])\n",
    "       \n",
    "\n",
    "\n",
    "plt.savefig(f'figures/scatter_slots_{fltr_name}.png')\n",
    "\n",
    "plt.show()\n"
   ]
  },
  {
   "cell_type": "code",
   "execution_count": null,
   "id": "7c81513b",
   "metadata": {},
   "outputs": [],
   "source": [
    "len(temp)"
   ]
  },
  {
   "cell_type": "code",
   "execution_count": null,
   "id": "3b46b125",
   "metadata": {},
   "outputs": [],
   "source": [
    "slc = df[(df['count'] >= 2) & (df['count'] <= 10)]\n",
    "\n",
    "temp = slc['count'].unique()\n",
    "temp.sort()\n",
    "\n",
    "stat = slc.groupby(slc['count']).size().values\n",
    "\n",
    "for i, x in enumerate(temp):\n",
    "    stat[i] = stat[i]/x\n",
    "\n",
    "fig, ax = plt.subplots(figsize =(6, 4))\n",
    "\n",
    "ax.bar(temp, stat, width = 0.5)\n",
    "ax.grid(axis='y', linestyle='--', linewidth=.5)\n",
    "\n",
    "\n",
    "for i in range(0,2+1):\n",
    "    plt.text(temp[i]-.3, stat[i]+1e3, s=f'{stat[i]}', fontdict=dict(fontsize=8))\n",
    "    \n",
    "for i in range(3,5+1):\n",
    "    plt.text(temp[i]-.2, stat[i]+1e3, s=f'{stat[i]}', fontdict=dict(fontsize=8))\n",
    "    \n",
    "for i in range(6,len(temp)):\n",
    "    plt.text(temp[i]-.1, stat[i]+1e3, s=f'{stat[i]}', fontdict=dict(fontsize=8))\n",
    "    \n",
    "left, right = plt.xlim()\n",
    "ax.set_xlim(left+.25, right-0.25)\n",
    "\n",
    "ax.set_ylabel('Occurences')\n",
    "ax.set_xlabel('Consecutive blocks')\n",
    "\n",
    "plt.xticks(temp)\n",
    "\n",
    "plt.savefig(f'figures/occurences.png', bbox_inches='tight')\n",
    "# show plot\n",
    "plt.show()"
   ]
  },
  {
   "cell_type": "code",
   "execution_count": null,
   "id": "3d7df8f8",
   "metadata": {},
   "outputs": [],
   "source": [
    "# Is there a pattern, to propose low gas blocks?\n",
    "# \"VALIDATOR for slot k+1 is buying the slot in order to submit an empty block just before the slot they are elected for\"\n",
    "# > Validators could be \"unknown\"\n",
    "\n",
    "n, bins, patches = plt.hist(df[df['boosted']==True]['gas_used'], 50, density=True, facecolor='g', alpha=0.75)\n",
    "\n",
    "temp = df[(df['boosted']==True) & (df['gas_used'] < 0.75e7)]"
   ]
  },
  {
   "cell_type": "code",
   "execution_count": null,
   "id": "e59fe94c",
   "metadata": {},
   "outputs": [],
   "source": [
    "temp"
   ]
  },
  {
   "cell_type": "code",
   "execution_count": null,
   "id": "a2441f4a",
   "metadata": {},
   "outputs": [],
   "source": [
    "print(temp.groupby(['builder_name']).size())"
   ]
  },
  {
   "cell_type": "code",
   "execution_count": null,
   "id": "53e3079b",
   "metadata": {},
   "outputs": [],
   "source": [
    "pd.set_option(\"display.max_rows\", None)\n",
    "temp.groupby(['builder_name', 'count', 'position']).size().to_frame(name='vals')"
   ]
  },
  {
   "cell_type": "code",
   "execution_count": null,
   "id": "1f300d48",
   "metadata": {},
   "outputs": [],
   "source": []
  },
  {
   "cell_type": "code",
   "execution_count": null,
   "id": "3321ab57",
   "metadata": {},
   "outputs": [],
   "source": []
  },
  {
   "cell_type": "markdown",
   "id": "6ea2e520",
   "metadata": {},
   "source": [
    "### math"
   ]
  },
  {
   "cell_type": "code",
   "execution_count": null,
   "id": "1633c985",
   "metadata": {},
   "outputs": [],
   "source": [
    "df = pd.read_csv('data/df_entity.csv')\n",
    "df['date'] = pd.to_datetime(df['epoch'],  unit='s', utc=True)\n",
    "fltr_name = 'entity'"
   ]
  },
  {
   "cell_type": "code",
   "execution_count": null,
   "id": "9c156dc4",
   "metadata": {},
   "outputs": [],
   "source": [
    "write down cases n<k n=k n>k and if k = 0\n",
    "Bernouli (1 or 2)"
   ]
  },
  {
   "cell_type": "markdown",
   "id": "021e6d2d",
   "metadata": {},
   "source": [
    "p = .5\n",
    "n = 3\n",
    "k = 2\n",
    "\n",
    "HHH  no !\n",
    "HHT  yes\n",
    "HTH  no\n",
    "THH  yes\n",
    "HTT  no\n",
    "THT  no\n",
    "TTH  no\n",
    "TTT  yes\n",
    "-> 2/8"
   ]
  },
  {
   "cell_type": "code",
   "execution_count": null,
   "id": "ade90f72",
   "metadata": {},
   "outputs": [],
   "source": [
    "from IPython.display import display, Math, Latex\n",
    "display(Math(r'p^{k}*(1-p)^{2}*(n-k-1)+2*p^{k}*(1-p)'))"
   ]
  },
  {
   "cell_type": "code",
   "execution_count": null,
   "id": "dfd3178e",
   "metadata": {},
   "outputs": [],
   "source": [
    "#What is the expected of exactly k consecutive heads in n tosses?\n",
    "\n",
    "p = 50/100 #probability\n",
    "n = 3 #tosses\n",
    "k = 0 #k consecutive tosses\n",
    "\n",
    "\n",
    "print('gesamt', p**k*(1-p)**2*(n-k-1)+2*p**k*(1-p))\n",
    "\n",
    "print('term a', p**k*(1-p)**2*(n-k-1))\n",
    "print('term b', 2*p**k*(1-p))\n",
    "\n",
    "print('equation', f'{p}**{k}*(1-{p})**2*{(n-k-1)}+2*{p}**{k}*(1-{p})')"
   ]
  },
  {
   "cell_type": "code",
   "execution_count": null,
   "id": "4f35bc87",
   "metadata": {},
   "outputs": [],
   "source": []
  },
  {
   "cell_type": "code",
   "execution_count": null,
   "id": "411484fb",
   "metadata": {},
   "outputs": [],
   "source": [
    "display(Math(r'p^{k}*(1-p)^{2}*max(0,(n-k-1))+2*p^{k}*(1-p)'))"
   ]
  },
  {
   "cell_type": "code",
   "execution_count": null,
   "id": "0afc80ce",
   "metadata": {},
   "outputs": [],
   "source": [
    "#What is the probability of exactly k consecutive heads in n tosses?\n",
    "\n",
    "p = 99/100 #probability\n",
    "n = 3 #tosses\n",
    "k = 1 #k consecutive tosses\n",
    "\n",
    "\n",
    "print('gesamt', p**k*(1-p)**2*max(0,(n-k-1))+2*p**k*(1-p))\n",
    "\n",
    "print('term a', p**k*(1-p)**2*max(0,(n-k-1)))\n",
    "print('term b', p**k*(1-p)*2)\n",
    "\n",
    "print('equation', f'{p}**{k}*(1-{p})**2*{max(0, n-k-1)}+2*{p}**{k}*(1-{p})')"
   ]
  },
  {
   "cell_type": "code",
   "execution_count": null,
   "id": "792cd75e",
   "metadata": {},
   "outputs": [],
   "source": []
  },
  {
   "cell_type": "code",
   "execution_count": null,
   "id": "5070b60b",
   "metadata": {},
   "outputs": [],
   "source": [
    "def prob(c, p):\n",
    "    # c = consecutive blocks\n",
    "    # n = slots\n",
    "    # p = share MEV boost\n",
    "    \n",
    "    x = symbols('x', real=True)\n",
    "\n",
    "    c = c; n = 32; p = p\n",
    "\n",
    "    xx = min(i for i in solve(1-x+(1-p)*p**c*x**(c+1)) if i > 1)\n",
    "    qn = ((1 - p*xx) / ((c + 1 - c*xx)*(1-p))) * (1/(xx**(n+1)))\n",
    "    \n",
    "    return qn*100, (1-qn)*100\n",
    "\n",
    "    "
   ]
  },
  {
   "cell_type": "code",
   "execution_count": null,
   "id": "2758adb9",
   "metadata": {},
   "outputs": [],
   "source": [
    "c = 2\n",
    "p = 0.5"
   ]
  },
  {
   "cell_type": "code",
   "execution_count": null,
   "id": "d5d352fe",
   "metadata": {},
   "outputs": [],
   "source": [
    "no_success, success = prob(c, p)"
   ]
  },
  {
   "cell_type": "code",
   "execution_count": null,
   "id": "a49ee7f7",
   "metadata": {},
   "outputs": [],
   "source": [
    "success"
   ]
  },
  {
   "cell_type": "code",
   "execution_count": null,
   "id": "cd0ba36f",
   "metadata": {},
   "outputs": [],
   "source": []
  },
  {
   "cell_type": "code",
   "execution_count": null,
   "id": "19fd116d",
   "metadata": {},
   "outputs": [],
   "source": [
    "calc"
   ]
  },
  {
   "cell_type": "code",
   "execution_count": null,
   "id": "b1d399e5",
   "metadata": {},
   "outputs": [],
   "source": []
  },
  {
   "cell_type": "code",
   "execution_count": null,
   "id": "44e0937e",
   "metadata": {},
   "outputs": [],
   "source": [
    "expt = calc[['builder_name', 'share']]\n",
    "expt = expt.drop('Total')"
   ]
  },
  {
   "cell_type": "code",
   "execution_count": null,
   "id": "de17179e",
   "metadata": {},
   "outputs": [],
   "source": [
    "lst = []\n",
    "for i in range(len(expt)):\n",
    "    p = expt['share'].iloc[i]\n",
    "    print(i, p)\n",
    "    lst.append(montecarlo(p))"
   ]
  },
  {
   "cell_type": "code",
   "execution_count": null,
   "id": "f4ed6b94",
   "metadata": {},
   "outputs": [],
   "source": [
    "fill = [0] * 10\n",
    "lst = [sublist[:n] + fill[len(sublist):] for sublist in lst]"
   ]
  },
  {
   "cell_type": "code",
   "execution_count": null,
   "id": "38f858c0",
   "metadata": {},
   "outputs": [],
   "source": [
    "for i in range(0,10):\n",
    "    name = f'e_{i+1}'\n",
    "    expt[name] = [item[i] for item in lst]"
   ]
  },
  {
   "cell_type": "code",
   "execution_count": null,
   "id": "b59c2565",
   "metadata": {},
   "outputs": [],
   "source": [
    "totals = expt.sum()\n",
    "expt = expt.append(totals, ignore_index=True)\n",
    "expt.rename(index={9: 'Total'}, inplace=True)\n",
    "expt['builder_name'].iloc[9] = ''"
   ]
  },
  {
   "cell_type": "code",
   "execution_count": null,
   "id": "6628bd92",
   "metadata": {},
   "outputs": [],
   "source": [
    "expt"
   ]
  },
  {
   "cell_type": "code",
   "execution_count": null,
   "id": "5076e405",
   "metadata": {},
   "outputs": [],
   "source": [
    "expt.rename(columns={'builder_name': 'builder entity'}, inplace=True)\n",
    "expt.rename(columns={'slots': 'blocks'}, inplace=True)\n",
    "expt.rename(columns={'e=1': 'k=1'}, inplace=True)\n",
    "expt.rename(columns={'e=2': 'k=2'}, inplace=True)\n",
    "expt.rename(columns={'e=3': 'k=3'}, inplace=True)\n",
    "expt.rename(columns={'e=4': 'k=4'}, inplace=True)\n",
    "expt.rename(columns={'e=5': 'k=5'}, inplace=True)\n",
    "expt.rename(columns={'e=6': 'k=6'}, inplace=True)\n",
    "expt.rename(columns={'e=7': 'k=7'}, inplace=True)\n",
    "expt.rename(columns={'e=8': 'k=8'}, inplace=True)\n",
    "expt.rename(columns={'e=9': 'k=9'}, inplace=True)\n",
    "expt.rename(columns={'e=10': 'k=10'}, inplace=True)\n",
    "\n",
    "expt['builder entity'].replace('coda_geth_linux', 'x85linux', inplace=True)\n",
    "expt['builder entity'].replace('https://eth-builder.com', 'eth-builder.com', inplace=True)\n",
    "expt['builder entity'].replace('', 'Total', inplace=True)"
   ]
  },
  {
   "cell_type": "code",
   "execution_count": null,
   "id": "e15abbc8",
   "metadata": {},
   "outputs": [],
   "source": [
    "expt.to_csv('result_tables/expected_entity.csv', index=False)"
   ]
  },
  {
   "cell_type": "code",
   "execution_count": null,
   "id": "9390ea8e",
   "metadata": {},
   "outputs": [],
   "source": [
    "random.seed(1)\n",
    "\n",
    "def montecarlo(p):\n",
    "    num_trials = int(len(df)/32)\n",
    "    r = 2; n = 32; p = p\n",
    "\n",
    "    epoch_proposals = [random.binomial(1, p, size=n) for i in range(num_trials)]\n",
    "\n",
    "    consecutive_proposals = []\n",
    "    for s in epoch_proposals:\n",
    "        consecutive_proposals.append([sum(g) for i, g in groupby(s) if i == 1])\n",
    "\n",
    "    flat = [item for sublist in consecutive_proposals for item in sublist]\n",
    "\n",
    "    return [flat.count(x) for x in set(flat)]"
   ]
  },
  {
   "cell_type": "code",
   "execution_count": null,
   "id": "321a8382",
   "metadata": {},
   "outputs": [],
   "source": []
  },
  {
   "cell_type": "code",
   "execution_count": null,
   "id": "c235e4e1",
   "metadata": {},
   "outputs": [],
   "source": []
  },
  {
   "cell_type": "code",
   "execution_count": null,
   "id": "4664f967",
   "metadata": {},
   "outputs": [],
   "source": []
  },
  {
   "cell_type": "code",
   "execution_count": null,
   "id": "354b2be4",
   "metadata": {},
   "outputs": [],
   "source": []
  },
  {
   "cell_type": "code",
   "execution_count": null,
   "id": "075b86b4",
   "metadata": {},
   "outputs": [],
   "source": []
  },
  {
   "cell_type": "code",
   "execution_count": null,
   "id": "ee457670",
   "metadata": {},
   "outputs": [],
   "source": []
  },
  {
   "cell_type": "code",
   "execution_count": null,
   "id": "ddfef53a",
   "metadata": {},
   "outputs": [],
   "source": []
  },
  {
   "cell_type": "code",
   "execution_count": null,
   "id": "1602093f",
   "metadata": {},
   "outputs": [],
   "source": []
  },
  {
   "cell_type": "code",
   "execution_count": null,
   "id": "98666113",
   "metadata": {},
   "outputs": [],
   "source": []
  },
  {
   "cell_type": "code",
   "execution_count": null,
   "id": "85c85f09",
   "metadata": {},
   "outputs": [],
   "source": []
  },
  {
   "cell_type": "code",
   "execution_count": null,
   "id": "402ab17f",
   "metadata": {},
   "outputs": [],
   "source": [
    "p = np.round(len(df[df['builder_name'] == 'beaverbuild.org'])/1500,4)\n",
    "\n",
    "print('In a dataset of', len(df), 'blocks', int(len(df)*12/60/60), 'hours we expect ..')\n",
    "for i in [1,2,3,4,5]:\n",
    "    c = i\n",
    "    no_success, success = prob(c, p)\n",
    "    print(i, 'consecutive blocks: Probability', np.round(float(success),2), '% - Instances:', np.round(float(success)/100*47,0))\n",
    "\n",
    "print('.. proposed by the same builder')\n"
   ]
  },
  {
   "cell_type": "code",
   "execution_count": null,
   "id": "4dea4582",
   "metadata": {},
   "outputs": [],
   "source": [
    "stat = df[df['builder_name'] == 'beaverbuild.org'].groupby(['count']).size().values\n",
    "\n",
    "print('In a dataset of', len(df), 'blocks', int(len(df)*12/60/60), 'hours we find ..')\n",
    "\n",
    "for i, x in enumerate(np.sort(df[df['builder_name'] == 'beaverbuild.org']['count'].unique())):\n",
    "    stat[i] = stat[i]/x\n",
    "    \n",
    "    print(stat[i], 'instances of', i+1, 'consecutive blocks')\n",
    "    \n",
    "print('.. proposed by the same builder')"
   ]
  },
  {
   "cell_type": "code",
   "execution_count": null,
   "id": "84750791",
   "metadata": {},
   "outputs": [],
   "source": [
    "## MATRIX\n",
    "cons_blocks = np.arange(2,5+1) #cons_blocks\n",
    "prob = np.arange(.1,.9+.05,.05)"
   ]
  },
  {
   "cell_type": "code",
   "execution_count": null,
   "id": "6176ab5f",
   "metadata": {},
   "outputs": [],
   "source": [
    "lst = []\n",
    "for p in prob:\n",
    "    lst_temp = []\n",
    "    lst_temp.append(x)\n",
    "    for c in cons_blocks:\n",
    "        no_success, success = prob(c, p)\n",
    "        lst_temp.append(success)\n",
    "    \n",
    "    for z in range(0, len(lst_temp)):\n",
    "        try: \n",
    "            lst_temp[z] = np.round(float(lst_temp[z]), 2)\n",
    "        except TypeError:\n",
    "            lst_temp[z] = 100\n",
    "        \n",
    "    lst.append(lst_temp)\n",
    "        "
   ]
  },
  {
   "cell_type": "code",
   "execution_count": null,
   "id": "dacae7a3",
   "metadata": {},
   "outputs": [],
   "source": [
    "df = pd.DataFrame(lst, columns =['probability', 'k=2', 'k=3', 'k=4', 'k=5', 'k=6', 'k=7', 'k=8', 'k=9', 'k=10'])\n",
    "df = df.set_index('probability')\n",
    "df"
   ]
  },
  {
   "cell_type": "code",
   "execution_count": null,
   "id": "dc044bb6",
   "metadata": {},
   "outputs": [],
   "source": [
    "print('If the market share of MEV boost is p=0.5, then we derive', (38.96/100)*225, 'k=5 consecutive blocks a day.')\n",
    "print('If the market share of MEV boost is p=0.5, then we derive', (38.96/100)*6759, 'k=5 consecutive blocks a month.')\n"
   ]
  }
 ],
 "metadata": {
  "kernelspec": {
   "display_name": "Python 3 (ipykernel)",
   "language": "python",
   "name": "python3"
  },
  "language_info": {
   "codemirror_mode": {
    "name": "ipython",
    "version": 3
   },
   "file_extension": ".py",
   "mimetype": "text/x-python",
   "name": "python",
   "nbconvert_exporter": "python",
   "pygments_lexer": "ipython3",
   "version": "3.8.3"
  }
 },
 "nbformat": 4,
 "nbformat_minor": 5
}
