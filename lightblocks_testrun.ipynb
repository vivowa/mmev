{
 "cells": [
  {
   "cell_type": "code",
   "execution_count": 1,
   "id": "0b5d2c21",
   "metadata": {},
   "outputs": [
    {
     "name": "stdout",
     "output_type": "stream",
     "text": [
      "Requirement already satisfied: sympy in /usr/local/anaconda3/lib/python3.8/site-packages (1.11.1)\n",
      "Requirement already satisfied: mpmath>=0.19 in /usr/local/anaconda3/lib/python3.8/site-packages (from sympy) (1.2.1)\n",
      "Note: you may need to restart the kernel to use updated packages.\n"
     ]
    }
   ],
   "source": [
    "import pandas as pd\n",
    "import numpy as np\n",
    "import matplotlib.pyplot as plt\n",
    "\n",
    "%pip install sympy \n",
    "from sympy import *"
   ]
  },
  {
   "cell_type": "code",
   "execution_count": null,
   "id": "9a50039b",
   "metadata": {},
   "outputs": [],
   "source": [
    "df_b = pd.read_csv('data/BBRs_5538500_5538999.csv')\n"
   ]
  },
  {
   "cell_type": "code",
   "execution_count": null,
   "id": "2424bbea",
   "metadata": {},
   "outputs": [],
   "source": [
    "df_p = pd.read_csv('data/PPDs_5538500_5540000.csv')\n",
    "df_p"
   ]
  },
  {
   "cell_type": "code",
   "execution_count": null,
   "id": "938e1f77",
   "metadata": {},
   "outputs": [],
   "source": [
    "df_p.drop_duplicates(subset=['slot'], keep='first', inplace=True)"
   ]
  },
  {
   "cell_type": "code",
   "execution_count": null,
   "id": "c44f502c",
   "metadata": {},
   "outputs": [],
   "source": [
    "df_p.sort_values(by=['slot'], ascending=True, inplace=True)\n",
    "df_p.rename(columns={'buidler_pubkey': 'builder_pubkey'}, inplace=True)\n"
   ]
  },
  {
   "cell_type": "code",
   "execution_count": null,
   "id": "85694c73",
   "metadata": {},
   "outputs": [],
   "source": [
    "df_p = df_p[['slot', 'block_hash', 'block_reward', 'gas_used', 'validator_pubkey', 'builder_pubkey', 'builder_name', 'relay_name']]\n"
   ]
  },
  {
   "cell_type": "code",
   "execution_count": null,
   "id": "c5457055",
   "metadata": {},
   "outputs": [],
   "source": [
    "slot = np.arange(5538500,5540000)\n",
    "df = pd.DataFrame(slot, columns = ['slot'])"
   ]
  },
  {
   "cell_type": "code",
   "execution_count": null,
   "id": "4d6d8a71",
   "metadata": {},
   "outputs": [],
   "source": [
    "df = df.merge(df_p, how='left', on='slot')\n",
    "df"
   ]
  },
  {
   "cell_type": "code",
   "execution_count": null,
   "id": "dc2a7221",
   "metadata": {},
   "outputs": [],
   "source": [
    "df['count'] = 1\n",
    "df['position'] = 0\n",
    "count = 0\n",
    "for i in range(0, len(df)):\n",
    "    #check = df['builder_pubkey'].iloc[i] == df['builder_pubkey'].iloc[i-1] \n",
    "    check = (df['builder_name'].iloc[i] == df['builder_name'].iloc[i-1]) & (df['builder_name'].iloc[i] != 'Unknown')\n",
    "    \n",
    "    if check == True:\n",
    "        if count == 0:\n",
    "            count = 2\n",
    "        else:\n",
    "            count += 1\n",
    "\n",
    "    elif (check == False) & (count == 0):\n",
    "            continue\n",
    "\n",
    "    elif (check == False) & (count != 0):\n",
    "        for j in range(1, count+1):\n",
    "            df['count'].iloc[i-j] = count\n",
    "            df['position'].iloc[i-j] = count+1-j\n",
    "\n",
    "        count = 0\n",
    "        \n",
    "        "
   ]
  },
  {
   "cell_type": "code",
   "execution_count": null,
   "id": "94736867",
   "metadata": {},
   "outputs": [],
   "source": [
    "df['block_reward'].fillna((df[df['count'] == 1]['block_reward'].mean()), inplace=True)"
   ]
  },
  {
   "cell_type": "code",
   "execution_count": null,
   "id": "b81d5afb",
   "metadata": {},
   "outputs": [],
   "source": [
    "data_1 = list(df[df['count']==1]['block_reward'])\n",
    "data_2 = list(df[df['count']==2]['block_reward'])\n",
    "data_3 = list(df[df['count']==3]['block_reward'])\n",
    "data_4 = list(df[df['count']==4]['block_reward'])\n",
    "data_5 = list(df[df['count']==4]['block_reward'])\n",
    "data = [data_1, data_2, data_3, data_4, data_5]\n",
    " \n",
    "fig, ax = plt.subplots(figsize =(8, 8))\n",
    "\n",
    "ax.boxplot(data, showfliers=False)\n",
    "\n",
    "ax.set_ylabel('Mean builder payment')\n",
    "ax.set_xlabel('Consecutive blocks')\n",
    "\n",
    "vals = ax.get_yticks()\n",
    "ax.set_yticklabels(['{:,.2f}'.format(x)+' ETH' for x in vals])\n",
    "\n",
    "# show plot\n",
    "plt.show()\n"
   ]
  },
  {
   "cell_type": "code",
   "execution_count": null,
   "id": "bed21876",
   "metadata": {},
   "outputs": [],
   "source": [
    "stat = df.groupby(df['count']).size().values\n",
    "stat[1] = stat[1]/2\n",
    "stat[2] = stat[2]/3\n",
    "stat[3] = stat[3]/4\n",
    "stat[4] = stat[4]/5\n",
    "\n",
    "print('In a dataset of', len(df), 'blocks (5h), we find:')\n",
    "print(stat[0], 'single blocks')\n",
    "print(stat[1], 'instances of 2 consecutive blocks')\n",
    "print(stat[2], 'instances of 3 consecutive blocks')\n",
    "print(stat[3], 'instances of 4 consecutive blocks')\n",
    "print(stat[4], 'instances of 5 consecutive blocks')\n",
    "print('proposed by the same builder')"
   ]
  },
  {
   "cell_type": "code",
   "execution_count": null,
   "id": "c8517168",
   "metadata": {},
   "outputs": [],
   "source": [
    "df[df['count'] >3].head(50)"
   ]
  },
  {
   "cell_type": "code",
   "execution_count": null,
   "id": "3406c942",
   "metadata": {},
   "outputs": [],
   "source": [
    "fig, ax = plt.subplots(figsize =(8, 8))\n",
    "\n",
    "\n",
    "ax.plot(df['position'].unique(), df['block_reward'].groupby(df['position']).mean())\n",
    "\n",
    "ax.set_ylabel('Mean builder payment')\n",
    "ax.set_xlabel('n position in consecutive blocks')\n",
    "\n",
    "vals = ax.get_yticks()\n",
    "ax.set_yticklabels(['{:,.2f}'.format(x)+' ETH' for x in vals])\n",
    "\n",
    "# show plot\n",
    "plt.show()\n"
   ]
  },
  {
   "cell_type": "code",
   "execution_count": 64,
   "id": "3d7df8f8",
   "metadata": {},
   "outputs": [
    {
     "data": {
      "text/plain": [
       "array([0.5 , 0.55, 0.6 , 0.65, 0.7 , 0.75, 0.8 , 0.85, 0.9 ])"
      ]
     },
     "execution_count": 64,
     "metadata": {},
     "output_type": "execute_result"
    }
   ],
   "source": []
  },
  {
   "cell_type": "code",
   "execution_count": 79,
   "id": "5070b60b",
   "metadata": {},
   "outputs": [],
   "source": [
    "def prob(r, p):\n",
    "    # r = consecutive blocks\n",
    "    # n = slots\n",
    "    # p = share MEV boost\n",
    "    \n",
    "    x = symbols('x', real=True)\n",
    "\n",
    "    r = r; n = 32; p = p\n",
    "\n",
    "    xx = min(i for i in solve(1-x+(1-p)*p**r*x**(r+1)) if i > 1)\n",
    "    qn = ((1 - p*xx) / ((r + 1 - r*xx)*(1-p))) * (1/(xx**(n+1)))\n",
    "    \n",
    "    return qn*100, (1-qn)*100\n",
    "\n",
    "    "
   ]
  },
  {
   "cell_type": "code",
   "execution_count": 78,
   "id": "84750791",
   "metadata": {},
   "outputs": [],
   "source": [
    "cons_blocks = np.arange(2,10+1)\n",
    "p = np.arange(.5,.9+.05,.05)"
   ]
  },
  {
   "cell_type": "code",
   "execution_count": 80,
   "id": "6176ab5f",
   "metadata": {},
   "outputs": [],
   "source": [
    "lst = []\n",
    "for x in p:\n",
    "    lst_temp = []\n",
    "    lst_temp.append(x)\n",
    "    for y in cons_blocks:\n",
    "        no_success, success = prob(y, x)\n",
    "        lst_temp.append(success)\n",
    "    \n",
    "    for z in range(0, len(lst_temp)):\n",
    "        try: \n",
    "            lst_temp[z] = np.round(float(lst_temp[z]), 2)\n",
    "        except TypeError:\n",
    "            lst_temp[z] = np.round(float(100), 2)\n",
    "        \n",
    "    lst.append(lst_temp)\n",
    "        "
   ]
  },
  {
   "cell_type": "code",
   "execution_count": 81,
   "id": "dacae7a3",
   "metadata": {},
   "outputs": [
    {
     "data": {
      "text/html": [
       "<div>\n",
       "<style scoped>\n",
       "    .dataframe tbody tr th:only-of-type {\n",
       "        vertical-align: middle;\n",
       "    }\n",
       "\n",
       "    .dataframe tbody tr th {\n",
       "        vertical-align: top;\n",
       "    }\n",
       "\n",
       "    .dataframe thead th {\n",
       "        text-align: right;\n",
       "    }\n",
       "</style>\n",
       "<table border=\"1\" class=\"dataframe\">\n",
       "  <thead>\n",
       "    <tr style=\"text-align: right;\">\n",
       "      <th></th>\n",
       "      <th>k=2</th>\n",
       "      <th>k=3</th>\n",
       "      <th>k=4</th>\n",
       "      <th>k=5</th>\n",
       "      <th>k=6</th>\n",
       "      <th>k=7</th>\n",
       "      <th>k=8</th>\n",
       "      <th>k=9</th>\n",
       "      <th>k=10</th>\n",
       "    </tr>\n",
       "    <tr>\n",
       "      <th>probability</th>\n",
       "      <th></th>\n",
       "      <th></th>\n",
       "      <th></th>\n",
       "      <th></th>\n",
       "      <th></th>\n",
       "      <th></th>\n",
       "      <th></th>\n",
       "      <th></th>\n",
       "      <th></th>\n",
       "    </tr>\n",
       "  </thead>\n",
       "  <tbody>\n",
       "    <tr>\n",
       "      <th>0.50</th>\n",
       "      <td>99.87</td>\n",
       "      <td>92.21</td>\n",
       "      <td>66.47</td>\n",
       "      <td>38.96</td>\n",
       "      <td>20.50</td>\n",
       "      <td>10.26</td>\n",
       "      <td>5.02</td>\n",
       "      <td>2.43</td>\n",
       "      <td>1.17</td>\n",
       "    </tr>\n",
       "    <tr>\n",
       "      <th>0.55</th>\n",
       "      <td>99.97</td>\n",
       "      <td>96.50</td>\n",
       "      <td>78.66</td>\n",
       "      <td>52.94</td>\n",
       "      <td>31.63</td>\n",
       "      <td>17.75</td>\n",
       "      <td>9.66</td>\n",
       "      <td>5.17</td>\n",
       "      <td>2.75</td>\n",
       "    </tr>\n",
       "    <tr>\n",
       "      <th>0.60</th>\n",
       "      <td>99.99</td>\n",
       "      <td>98.68</td>\n",
       "      <td>88.07</td>\n",
       "      <td>67.06</td>\n",
       "      <td>45.21</td>\n",
       "      <td>28.35</td>\n",
       "      <td>17.09</td>\n",
       "      <td>10.07</td>\n",
       "      <td>5.87</td>\n",
       "    </tr>\n",
       "    <tr>\n",
       "      <th>0.65</th>\n",
       "      <td>100.00</td>\n",
       "      <td>99.60</td>\n",
       "      <td>94.33</td>\n",
       "      <td>79.64</td>\n",
       "      <td>60.09</td>\n",
       "      <td>41.94</td>\n",
       "      <td>27.91</td>\n",
       "      <td>18.06</td>\n",
       "      <td>11.49</td>\n",
       "    </tr>\n",
       "    <tr>\n",
       "      <th>0.70</th>\n",
       "      <td>100.00</td>\n",
       "      <td>99.91</td>\n",
       "      <td>97.81</td>\n",
       "      <td>89.31</td>\n",
       "      <td>74.45</td>\n",
       "      <td>57.52</td>\n",
       "      <td>42.16</td>\n",
       "      <td>29.87</td>\n",
       "      <td>20.71</td>\n",
       "    </tr>\n",
       "    <tr>\n",
       "      <th>0.75</th>\n",
       "      <td>100.00</td>\n",
       "      <td>100.00</td>\n",
       "      <td>99.36</td>\n",
       "      <td>95.50</td>\n",
       "      <td>86.33</td>\n",
       "      <td>73.15</td>\n",
       "      <td>58.82</td>\n",
       "      <td>45.54</td>\n",
       "      <td>34.35</td>\n",
       "    </tr>\n",
       "    <tr>\n",
       "      <th>0.80</th>\n",
       "      <td>100.00</td>\n",
       "      <td>100.00</td>\n",
       "      <td>100.00</td>\n",
       "      <td>98.62</td>\n",
       "      <td>94.35</td>\n",
       "      <td>86.32</td>\n",
       "      <td>75.53</td>\n",
       "      <td>63.68</td>\n",
       "      <td>52.18</td>\n",
       "    </tr>\n",
       "    <tr>\n",
       "      <th>0.85</th>\n",
       "      <td>100.00</td>\n",
       "      <td>100.00</td>\n",
       "      <td>100.00</td>\n",
       "      <td>100.00</td>\n",
       "      <td>98.44</td>\n",
       "      <td>95.04</td>\n",
       "      <td>89.13</td>\n",
       "      <td>81.14</td>\n",
       "      <td>71.94</td>\n",
       "    </tr>\n",
       "    <tr>\n",
       "      <th>0.90</th>\n",
       "      <td>100.00</td>\n",
       "      <td>100.00</td>\n",
       "      <td>100.00</td>\n",
       "      <td>100.00</td>\n",
       "      <td>100.00</td>\n",
       "      <td>100.00</td>\n",
       "      <td>100.00</td>\n",
       "      <td>100.00</td>\n",
       "      <td>89.01</td>\n",
       "    </tr>\n",
       "  </tbody>\n",
       "</table>\n",
       "</div>"
      ],
      "text/plain": [
       "                k=2     k=3     k=4     k=5     k=6     k=7     k=8     k=9  \\\n",
       "probability                                                                   \n",
       "0.50          99.87   92.21   66.47   38.96   20.50   10.26    5.02    2.43   \n",
       "0.55          99.97   96.50   78.66   52.94   31.63   17.75    9.66    5.17   \n",
       "0.60          99.99   98.68   88.07   67.06   45.21   28.35   17.09   10.07   \n",
       "0.65         100.00   99.60   94.33   79.64   60.09   41.94   27.91   18.06   \n",
       "0.70         100.00   99.91   97.81   89.31   74.45   57.52   42.16   29.87   \n",
       "0.75         100.00  100.00   99.36   95.50   86.33   73.15   58.82   45.54   \n",
       "0.80         100.00  100.00  100.00   98.62   94.35   86.32   75.53   63.68   \n",
       "0.85         100.00  100.00  100.00  100.00   98.44   95.04   89.13   81.14   \n",
       "0.90         100.00  100.00  100.00  100.00  100.00  100.00  100.00  100.00   \n",
       "\n",
       "              k=10  \n",
       "probability         \n",
       "0.50          1.17  \n",
       "0.55          2.75  \n",
       "0.60          5.87  \n",
       "0.65         11.49  \n",
       "0.70         20.71  \n",
       "0.75         34.35  \n",
       "0.80         52.18  \n",
       "0.85         71.94  \n",
       "0.90         89.01  "
      ]
     },
     "execution_count": 81,
     "metadata": {},
     "output_type": "execute_result"
    }
   ],
   "source": [
    "df = pd.DataFrame(lst, columns =['probability', 'k=2', 'k=3', 'k=4', 'k=5', 'k=6', 'k=7', 'k=8', 'k=9', 'k=10'])\n",
    "df = df.set_index('probability')\n",
    "df"
   ]
  },
  {
   "cell_type": "code",
   "execution_count": 82,
   "id": "dc044bb6",
   "metadata": {},
   "outputs": [
    {
     "name": "stdout",
     "output_type": "stream",
     "text": [
      "If the market share of MEV boost is p=0.5, then we derive 87.66 k=5 consecutive blocks a day.\n",
      "If the market share of MEV boost is p=0.5, then we derive 2633.3064 k=5 consecutive blocks a month.\n"
     ]
    }
   ],
   "source": [
    "print('If the market share of MEV boost is p=0.5, then we derive', (38.96/100)*225, 'k=5 consecutive blocks a day.')\n",
    "print('If the market share of MEV boost is p=0.5, then we derive', (38.96/100)*6759, 'k=5 consecutive blocks a month.')\n"
   ]
  }
 ],
 "metadata": {
  "kernelspec": {
   "display_name": "Python 3 (ipykernel)",
   "language": "python",
   "name": "python3"
  },
  "language_info": {
   "codemirror_mode": {
    "name": "ipython",
    "version": 3
   },
   "file_extension": ".py",
   "mimetype": "text/x-python",
   "name": "python",
   "nbconvert_exporter": "python",
   "pygments_lexer": "ipython3",
   "version": "3.8.3"
  }
 },
 "nbformat": 4,
 "nbformat_minor": 5
}
