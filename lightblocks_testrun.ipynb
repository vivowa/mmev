{
 "cells": [
  {
   "cell_type": "code",
   "execution_count": 1,
   "id": "0b5d2c21",
   "metadata": {},
   "outputs": [],
   "source": [
    "import pandas as pd\n",
    "import numpy as np\n",
    "import matplotlib.pyplot as plt\n",
    "\n",
    "from sympy import *"
   ]
  },
  {
   "cell_type": "markdown",
   "id": "300e9a50",
   "metadata": {},
   "source": [
    "### cleaning"
   ]
  },
  {
   "cell_type": "code",
   "execution_count": null,
   "id": "2424bbea",
   "metadata": {},
   "outputs": [],
   "source": [
    "df_p = pd.read_csv('data/custom_ppds_output_2023-01-31.csv')\n",
    "df_p"
   ]
  },
  {
   "cell_type": "code",
   "execution_count": null,
   "id": "18f5f6a5",
   "metadata": {},
   "outputs": [],
   "source": [
    "df_p.sort_values(by='slot', ascending=True, inplace=True)"
   ]
  },
  {
   "cell_type": "code",
   "execution_count": null,
   "id": "82a43702",
   "metadata": {},
   "outputs": [],
   "source": [
    "df_p.drop_duplicates(subset=['slot'], keep='first', inplace=True)"
   ]
  },
  {
   "cell_type": "code",
   "execution_count": null,
   "id": "613efcc1",
   "metadata": {},
   "outputs": [],
   "source": [
    "df_p.reset_index(drop=True, inplace=True)"
   ]
  },
  {
   "cell_type": "code",
   "execution_count": null,
   "id": "8407c055",
   "metadata": {},
   "outputs": [],
   "source": [
    "df_p.rename(columns={'buidler_pubkey': 'builder_pubkey'}, inplace=True)\n",
    "df_p.rename(columns={'buidler_name': 'builder_name'}, inplace=True)\n"
   ]
  },
  {
   "cell_type": "code",
   "execution_count": null,
   "id": "c4e1ba03",
   "metadata": {},
   "outputs": [],
   "source": [
    "df_p.info()"
   ]
  },
  {
   "cell_type": "code",
   "execution_count": null,
   "id": "85694c73",
   "metadata": {},
   "outputs": [],
   "source": [
    "print(df_p['builder_name'].unique())\n",
    "df_p = df_p[['slot', 'block_hash', 'block_reward', 'gas_used', 'validator_pubkey', 'builder_pubkey', 'builder_name', 'relay_name']]\n"
   ]
  },
  {
   "cell_type": "code",
   "execution_count": null,
   "id": "acae263c",
   "metadata": {},
   "outputs": [],
   "source": [
    "df_p['boosted'] = True"
   ]
  },
  {
   "cell_type": "code",
   "execution_count": null,
   "id": "c5457055",
   "metadata": {},
   "outputs": [],
   "source": [
    "slot = np.arange(4700013, df_p['slot'].max())\n",
    "# first slot after Ethereum merge https://etherscan.io/block/15537394\n",
    "df = pd.DataFrame(slot, columns = ['slot'])\n",
    "\n"
   ]
  },
  {
   "cell_type": "code",
   "execution_count": null,
   "id": "4d6d8a71",
   "metadata": {},
   "outputs": [],
   "source": [
    "df = df.merge(df_p, how='left', on='slot')\n",
    "#df['builder_name'].fillna('No builder', inplace=True)\n",
    "#df['builder_pubkey'].fillna('No builder', inplace=True)\n",
    "df['builder_name'].replace('Ø\\x83\\x01\\x0b\\x84geth\\x88go1.19.1\\x85linux', 'coda_geth_linux', inplace=True)\n"
   ]
  },
  {
   "cell_type": "code",
   "execution_count": null,
   "id": "9a7d5ae3",
   "metadata": {},
   "outputs": [],
   "source": [
    "df['boosted'].fillna(False, inplace=True)"
   ]
  },
  {
   "cell_type": "code",
   "execution_count": null,
   "id": "3297e2bf",
   "metadata": {},
   "outputs": [],
   "source": [
    "df"
   ]
  },
  {
   "cell_type": "markdown",
   "id": "c9ff51f3",
   "metadata": {},
   "source": [
    "### descriptive statistics"
   ]
  },
  {
   "cell_type": "code",
   "execution_count": null,
   "id": "ccda7a98",
   "metadata": {},
   "outputs": [],
   "source": [
    "slots_per_hour = 5*60\n",
    "slots_per_day = 5*60*24\n",
    "\n",
    "total_slots = len(df)\n",
    "total_epochs = int(len(df)/32)\n",
    "total_days = total_slots / slots_per_day"
   ]
  },
  {
   "cell_type": "code",
   "execution_count": null,
   "id": "dc2a7221",
   "metadata": {},
   "outputs": [],
   "source": [
    "#fltr = 'builder_name'\n",
    "#fltr_name = 'entity'\n",
    "\n",
    "fltr = 'builder_pubkey'\n",
    "fltr_name = 'pubkey'\n",
    "\n",
    "df['count'] = 1\n",
    "df['position'] = 1\n",
    "count = 0\n",
    "for i in range(0, len(df)):\n",
    "    check = (df[fltr].iloc[i] == df[fltr].iloc[i-1]) & (df[fltr].iloc[i] != 'Unknown') & (df[fltr].iloc[i] != 'No builder')\n",
    "    \n",
    "    if check == True:\n",
    "        if count == 0:\n",
    "            count = 2\n",
    "        else:\n",
    "            count += 1\n",
    "\n",
    "    elif (check == False) & (count == 0):\n",
    "            continue\n",
    "\n",
    "    elif (check == False) & (count != 0):\n",
    "        for j in range(1, count+1):\n",
    "            df['count'].iloc[i-j] = count\n",
    "            df['position'].iloc[i-j] = count+1-j\n",
    "\n",
    "        count = 0\n",
    "\n",
    "\n"
   ]
  },
  {
   "cell_type": "code",
   "execution_count": null,
   "id": "f3825056",
   "metadata": {
    "scrolled": true
   },
   "outputs": [],
   "source": [
    "#df['block_reward'].fillna((df[df['count'] == 1]['block_reward'].mean()), inplace=True)"
   ]
  },
  {
   "cell_type": "code",
   "execution_count": null,
   "id": "ad5fa4cd",
   "metadata": {},
   "outputs": [],
   "source": [
    "df_backup = df.copy()"
   ]
  },
  {
   "cell_type": "code",
   "execution_count": null,
   "id": "0a2fee58",
   "metadata": {},
   "outputs": [],
   "source": [
    "df.groupby(df['count']).size()"
   ]
  },
  {
   "cell_type": "code",
   "execution_count": null,
   "id": "61621f0b",
   "metadata": {},
   "outputs": [],
   "source": [
    "stat = df.groupby(df['count']).size().values\n",
    "\n",
    "temp = df['count'].unique()\n",
    "temp.sort()\n",
    "\n",
    "print('In a dataset of', len(df), 'blocks', int(len(df)*12/60/60/24), 'days we find:')\n",
    "\n",
    "for i, x in enumerate(temp):\n",
    "    stat[i] = stat[i]/x\n",
    "    \n",
    "    print(stat[i], 'instances of', x, 'consecutive blocks')\n",
    "\n",
    "print('proposed by the same builder')"
   ]
  },
  {
   "cell_type": "code",
   "execution_count": null,
   "id": "926f37f1",
   "metadata": {},
   "outputs": [],
   "source": [
    "print(stat[0]/len(df), '% normal blocks')\n",
    "print(stat[1]*2/len(df), '% k=2 blocks')\n",
    "print(stat[2]*3/len(df), '% k=3 blocks')\n",
    "print(stat[3]*4/len(df), '% k=4 blocks')\n",
    "print(1-stat[0]/len(df)-stat[1]*2/len(df)-stat[2]*3/len(df)-stat[3]*4/len(df), '% k>= 5 blocks')"
   ]
  },
  {
   "cell_type": "code",
   "execution_count": null,
   "id": "f7a632f1",
   "metadata": {},
   "outputs": [],
   "source": [
    "slots_per_day*(stat[1]/len(df))"
   ]
  },
  {
   "cell_type": "code",
   "execution_count": null,
   "id": "8d7199a0",
   "metadata": {
    "scrolled": true
   },
   "outputs": [],
   "source": [
    "print(df['builder_name'].unique())\n",
    "print(df.groupby(df['builder_name']).size().sort_values(ascending=False))"
   ]
  },
  {
   "cell_type": "code",
   "execution_count": null,
   "id": "5a603f2c",
   "metadata": {},
   "outputs": [],
   "source": [
    "df.groupby(df['builder_pubkey']).size()"
   ]
  },
  {
   "cell_type": "code",
   "execution_count": null,
   "id": "a72f68db",
   "metadata": {},
   "outputs": [],
   "source": [
    "df.groupby(df['builder_name']).size()"
   ]
  },
  {
   "cell_type": "code",
   "execution_count": null,
   "id": "3c7daacb",
   "metadata": {},
   "outputs": [],
   "source": [
    "#cannot match\n",
    "len(df[df['builder_name'] == 'Unknown'])/len(df[df['boosted'] == True])"
   ]
  },
  {
   "cell_type": "code",
   "execution_count": null,
   "id": "5f062d0b",
   "metadata": {},
   "outputs": [],
   "source": [
    "df.tail(10)"
   ]
  },
  {
   "cell_type": "code",
   "execution_count": null,
   "id": "66e126a2",
   "metadata": {},
   "outputs": [],
   "source": [
    "df['block_reward'].sum()"
   ]
  },
  {
   "cell_type": "code",
   "execution_count": 213,
   "id": "3efc3f5a",
   "metadata": {},
   "outputs": [],
   "source": [
    "lst = list(df['builder_name'].unique()) #drop na\n",
    "lst = lst[1:]\n",
    "\n",
    "calc = pd.DataFrame(lst, columns = ['builder_name'])\n",
    "\n",
    "temp_lst = []\n",
    "for x in lst:\n",
    "    temp_lst.append(len(df[df['builder_name'] == x]))\n",
    "\n",
    "calc['slots'] = temp_lst\n",
    "\n",
    "calc['share'] = np.round(calc['slots']/len(df),4)\n",
    "\n",
    "for i in range(1,20+1):\n",
    "    temp_lst = []\n",
    "    \n",
    "    for x in lst:\n",
    "        temp_lst.append(int(len(df[(df['builder_name'] == x) & (df['count'] == i)])/i))\n",
    "    \n",
    "    name = f'k_{i}'\n",
    "    calc[name] = temp_lst\n"
   ]
  },
  {
   "cell_type": "code",
   "execution_count": 214,
   "id": "7c0cf31f",
   "metadata": {},
   "outputs": [],
   "source": [
    "calc.sort_values(by=['share'], ascending=False, inplace=True)\n",
    "calc = calc.drop(calc[calc['builder_name'] == 'Unknown'].index)\n",
    "calc.reset_index(drop=True, inplace=True)\n",
    "calc = calc.iloc[:,0:13]"
   ]
  },
  {
   "cell_type": "code",
   "execution_count": 216,
   "id": "e637b6e1",
   "metadata": {},
   "outputs": [
    {
     "name": "stderr",
     "output_type": "stream",
     "text": [
      "/var/folders/1l/dlmzk3fn30g9wwk6y58j36c00000gn/T/ipykernel_25380/1281499864.py:2: FutureWarning: The frame.append method is deprecated and will be removed from pandas in a future version. Use pandas.concat instead.\n",
      "  calc = calc.append(totals, ignore_index=True)\n"
     ]
    }
   ],
   "source": [
    "totals = calc.sum()\n",
    "calc = calc.append(totals, ignore_index=True)\n",
    "calc.rename(index={9: 'Total'}, inplace=True)\n",
    "calc['builder_name'].iloc[9] = ''"
   ]
  },
  {
   "cell_type": "code",
   "execution_count": 221,
   "id": "9808f874",
   "metadata": {},
   "outputs": [
    {
     "data": {
      "text/html": [
       "<div>\n",
       "<style scoped>\n",
       "    .dataframe tbody tr th:only-of-type {\n",
       "        vertical-align: middle;\n",
       "    }\n",
       "\n",
       "    .dataframe tbody tr th {\n",
       "        vertical-align: top;\n",
       "    }\n",
       "\n",
       "    .dataframe thead th {\n",
       "        text-align: right;\n",
       "    }\n",
       "</style>\n",
       "<table border=\"1\" class=\"dataframe\">\n",
       "  <thead>\n",
       "    <tr style=\"text-align: right;\">\n",
       "      <th></th>\n",
       "      <th>builder_name</th>\n",
       "      <th>slots</th>\n",
       "      <th>share</th>\n",
       "      <th>k_1</th>\n",
       "      <th>k_2</th>\n",
       "      <th>k_3</th>\n",
       "      <th>k_4</th>\n",
       "      <th>k_5</th>\n",
       "      <th>k_6</th>\n",
       "      <th>k_7</th>\n",
       "      <th>k_8</th>\n",
       "      <th>k_9</th>\n",
       "      <th>k_10</th>\n",
       "    </tr>\n",
       "  </thead>\n",
       "  <tbody>\n",
       "    <tr>\n",
       "      <th>0</th>\n",
       "      <td>flashbots</td>\n",
       "      <td>207603</td>\n",
       "      <td>0.2088</td>\n",
       "      <td>134724</td>\n",
       "      <td>24898</td>\n",
       "      <td>5319</td>\n",
       "      <td>1194</td>\n",
       "      <td>285</td>\n",
       "      <td>95</td>\n",
       "      <td>26</td>\n",
       "      <td>13</td>\n",
       "      <td>3</td>\n",
       "      <td>2</td>\n",
       "    </tr>\n",
       "    <tr>\n",
       "      <th>1</th>\n",
       "      <td>builder0x69</td>\n",
       "      <td>156094</td>\n",
       "      <td>0.1570</td>\n",
       "      <td>100699</td>\n",
       "      <td>18727</td>\n",
       "      <td>4134</td>\n",
       "      <td>916</td>\n",
       "      <td>256</td>\n",
       "      <td>66</td>\n",
       "      <td>21</td>\n",
       "      <td>2</td>\n",
       "      <td>4</td>\n",
       "      <td>0</td>\n",
       "    </tr>\n",
       "    <tr>\n",
       "      <th>2</th>\n",
       "      <td>bloxroute</td>\n",
       "      <td>110822</td>\n",
       "      <td>0.1114</td>\n",
       "      <td>82369</td>\n",
       "      <td>10893</td>\n",
       "      <td>1685</td>\n",
       "      <td>293</td>\n",
       "      <td>67</td>\n",
       "      <td>10</td>\n",
       "      <td>4</td>\n",
       "      <td>1</td>\n",
       "      <td>1</td>\n",
       "      <td>0</td>\n",
       "    </tr>\n",
       "    <tr>\n",
       "      <th>3</th>\n",
       "      <td>beaverbuild.org</td>\n",
       "      <td>105826</td>\n",
       "      <td>0.1064</td>\n",
       "      <td>69033</td>\n",
       "      <td>11596</td>\n",
       "      <td>2737</td>\n",
       "      <td>809</td>\n",
       "      <td>231</td>\n",
       "      <td>78</td>\n",
       "      <td>41</td>\n",
       "      <td>14</td>\n",
       "      <td>8</td>\n",
       "      <td>3</td>\n",
       "    </tr>\n",
       "    <tr>\n",
       "      <th>4</th>\n",
       "      <td>blocknative</td>\n",
       "      <td>32836</td>\n",
       "      <td>0.0330</td>\n",
       "      <td>29140</td>\n",
       "      <td>1565</td>\n",
       "      <td>140</td>\n",
       "      <td>21</td>\n",
       "      <td>10</td>\n",
       "      <td>2</td>\n",
       "      <td>0</td>\n",
       "      <td>0</td>\n",
       "      <td>0</td>\n",
       "      <td>0</td>\n",
       "    </tr>\n",
       "    <tr>\n",
       "      <th>5</th>\n",
       "      <td>https://eth-builder.com</td>\n",
       "      <td>30982</td>\n",
       "      <td>0.0312</td>\n",
       "      <td>25962</td>\n",
       "      <td>2051</td>\n",
       "      <td>249</td>\n",
       "      <td>39</td>\n",
       "      <td>3</td>\n",
       "      <td>0</td>\n",
       "      <td>0</td>\n",
       "      <td>0</td>\n",
       "      <td>0</td>\n",
       "      <td>0</td>\n",
       "    </tr>\n",
       "    <tr>\n",
       "      <th>6</th>\n",
       "      <td>coda_geth_linux</td>\n",
       "      <td>26921</td>\n",
       "      <td>0.0271</td>\n",
       "      <td>24295</td>\n",
       "      <td>1147</td>\n",
       "      <td>93</td>\n",
       "      <td>12</td>\n",
       "      <td>1</td>\n",
       "      <td>0</td>\n",
       "      <td>0</td>\n",
       "      <td>0</td>\n",
       "      <td>0</td>\n",
       "      <td>0</td>\n",
       "    </tr>\n",
       "    <tr>\n",
       "      <th>7</th>\n",
       "      <td>eden</td>\n",
       "      <td>7397</td>\n",
       "      <td>0.0074</td>\n",
       "      <td>7293</td>\n",
       "      <td>52</td>\n",
       "      <td>0</td>\n",
       "      <td>0</td>\n",
       "      <td>0</td>\n",
       "      <td>0</td>\n",
       "      <td>0</td>\n",
       "      <td>0</td>\n",
       "      <td>0</td>\n",
       "      <td>0</td>\n",
       "    </tr>\n",
       "    <tr>\n",
       "      <th>8</th>\n",
       "      <td>manifold</td>\n",
       "      <td>3478</td>\n",
       "      <td>0.0035</td>\n",
       "      <td>3427</td>\n",
       "      <td>24</td>\n",
       "      <td>1</td>\n",
       "      <td>0</td>\n",
       "      <td>0</td>\n",
       "      <td>0</td>\n",
       "      <td>0</td>\n",
       "      <td>0</td>\n",
       "      <td>0</td>\n",
       "      <td>0</td>\n",
       "    </tr>\n",
       "    <tr>\n",
       "      <th>Total</th>\n",
       "      <td></td>\n",
       "      <td>681959</td>\n",
       "      <td>0.6858</td>\n",
       "      <td>476942</td>\n",
       "      <td>70953</td>\n",
       "      <td>14358</td>\n",
       "      <td>3284</td>\n",
       "      <td>853</td>\n",
       "      <td>251</td>\n",
       "      <td>92</td>\n",
       "      <td>30</td>\n",
       "      <td>16</td>\n",
       "      <td>5</td>\n",
       "    </tr>\n",
       "  </tbody>\n",
       "</table>\n",
       "</div>"
      ],
      "text/plain": [
       "                  builder_name   slots   share     k_1    k_2    k_3   k_4  \\\n",
       "0                    flashbots  207603  0.2088  134724  24898   5319  1194   \n",
       "1                  builder0x69  156094  0.1570  100699  18727   4134   916   \n",
       "2                    bloxroute  110822  0.1114   82369  10893   1685   293   \n",
       "3              beaverbuild.org  105826  0.1064   69033  11596   2737   809   \n",
       "4                  blocknative   32836  0.0330   29140   1565    140    21   \n",
       "5      https://eth-builder.com   30982  0.0312   25962   2051    249    39   \n",
       "6              coda_geth_linux   26921  0.0271   24295   1147     93    12   \n",
       "7                         eden    7397  0.0074    7293     52      0     0   \n",
       "8                     manifold    3478  0.0035    3427     24      1     0   \n",
       "Total                           681959  0.6858  476942  70953  14358  3284   \n",
       "\n",
       "       k_5  k_6  k_7  k_8  k_9  k_10  \n",
       "0      285   95   26   13    3     2  \n",
       "1      256   66   21    2    4     0  \n",
       "2       67   10    4    1    1     0  \n",
       "3      231   78   41   14    8     3  \n",
       "4       10    2    0    0    0     0  \n",
       "5        3    0    0    0    0     0  \n",
       "6        1    0    0    0    0     0  \n",
       "7        0    0    0    0    0     0  \n",
       "8        0    0    0    0    0     0  \n",
       "Total  853  251   92   30   16     5  "
      ]
     },
     "execution_count": 221,
     "metadata": {},
     "output_type": "execute_result"
    }
   ],
   "source": [
    "calc"
   ]
  },
  {
   "cell_type": "code",
   "execution_count": 329,
   "id": "157fd9aa",
   "metadata": {},
   "outputs": [],
   "source": [
    "calc.rename(columns={'builder_name': 'builder entity'}, inplace=True)\n",
    "calc.rename(columns={'slots': 'blocks'}, inplace=True)\n",
    "calc.rename(columns={'k_1': 'k=1'}, inplace=True)\n",
    "calc.rename(columns={'k_2': 'k=2'}, inplace=True)\n",
    "calc.rename(columns={'k_3': 'k=3'}, inplace=True)\n",
    "calc.rename(columns={'k_4': 'k=4'}, inplace=True)\n",
    "calc.rename(columns={'k_5': 'k=5'}, inplace=True)\n",
    "calc.rename(columns={'k_6': 'k=6'}, inplace=True)\n",
    "calc.rename(columns={'k_7': 'k=7'}, inplace=True)\n",
    "calc.rename(columns={'k_8': 'k=8'}, inplace=True)\n",
    "calc.rename(columns={'k_9': 'k=9'}, inplace=True)\n",
    "calc.rename(columns={'k_10': 'k=10'}, inplace=True)\n",
    "\n",
    "calc['builder entity'].replace('coda_geth_linux', 'x85linux', inplace=True)\n",
    "calc['builder entity'].replace('https://eth-builder.com', 'eth-builder.com', inplace=True)\n",
    "calc['builder entity'].replace('', 'Total', inplace=True)"
   ]
  },
  {
   "cell_type": "code",
   "execution_count": 330,
   "id": "bb59792a",
   "metadata": {},
   "outputs": [],
   "source": []
  },
  {
   "cell_type": "code",
   "execution_count": 331,
   "id": "117e864b",
   "metadata": {},
   "outputs": [],
   "source": [
    "calc.to_csv('result_tables/leaderboard_entity.csv', index=False)"
   ]
  },
  {
   "cell_type": "code",
   "execution_count": 327,
   "id": "9957b7d1",
   "metadata": {},
   "outputs": [
    {
     "data": {
      "text/html": [
       "<div>\n",
       "<style scoped>\n",
       "    .dataframe tbody tr th:only-of-type {\n",
       "        vertical-align: middle;\n",
       "    }\n",
       "\n",
       "    .dataframe tbody tr th {\n",
       "        vertical-align: top;\n",
       "    }\n",
       "\n",
       "    .dataframe thead th {\n",
       "        text-align: right;\n",
       "    }\n",
       "</style>\n",
       "<table border=\"1\" class=\"dataframe\">\n",
       "  <thead>\n",
       "    <tr style=\"text-align: right;\">\n",
       "      <th></th>\n",
       "      <th>builder entity</th>\n",
       "      <th>slots</th>\n",
       "      <th>share</th>\n",
       "      <th>k=1</th>\n",
       "      <th>k=2</th>\n",
       "      <th>k=3</th>\n",
       "      <th>k=4</th>\n",
       "      <th>k=5</th>\n",
       "      <th>k=6</th>\n",
       "      <th>k=7</th>\n",
       "      <th>k=8</th>\n",
       "      <th>k=9</th>\n",
       "      <th>k=10</th>\n",
       "    </tr>\n",
       "  </thead>\n",
       "  <tbody>\n",
       "    <tr>\n",
       "      <th>0</th>\n",
       "      <td>flashbots</td>\n",
       "      <td>207603</td>\n",
       "      <td>0.2088</td>\n",
       "      <td>134724</td>\n",
       "      <td>24898</td>\n",
       "      <td>5319</td>\n",
       "      <td>1194</td>\n",
       "      <td>285</td>\n",
       "      <td>95</td>\n",
       "      <td>26</td>\n",
       "      <td>13</td>\n",
       "      <td>3</td>\n",
       "      <td>2</td>\n",
       "    </tr>\n",
       "    <tr>\n",
       "      <th>1</th>\n",
       "      <td>builder0x69</td>\n",
       "      <td>156094</td>\n",
       "      <td>0.1570</td>\n",
       "      <td>100699</td>\n",
       "      <td>18727</td>\n",
       "      <td>4134</td>\n",
       "      <td>916</td>\n",
       "      <td>256</td>\n",
       "      <td>66</td>\n",
       "      <td>21</td>\n",
       "      <td>2</td>\n",
       "      <td>4</td>\n",
       "      <td>0</td>\n",
       "    </tr>\n",
       "    <tr>\n",
       "      <th>2</th>\n",
       "      <td>bloxroute</td>\n",
       "      <td>110822</td>\n",
       "      <td>0.1114</td>\n",
       "      <td>82369</td>\n",
       "      <td>10893</td>\n",
       "      <td>1685</td>\n",
       "      <td>293</td>\n",
       "      <td>67</td>\n",
       "      <td>10</td>\n",
       "      <td>4</td>\n",
       "      <td>1</td>\n",
       "      <td>1</td>\n",
       "      <td>0</td>\n",
       "    </tr>\n",
       "    <tr>\n",
       "      <th>3</th>\n",
       "      <td>beaverbuild.org</td>\n",
       "      <td>105826</td>\n",
       "      <td>0.1064</td>\n",
       "      <td>69033</td>\n",
       "      <td>11596</td>\n",
       "      <td>2737</td>\n",
       "      <td>809</td>\n",
       "      <td>231</td>\n",
       "      <td>78</td>\n",
       "      <td>41</td>\n",
       "      <td>14</td>\n",
       "      <td>8</td>\n",
       "      <td>3</td>\n",
       "    </tr>\n",
       "    <tr>\n",
       "      <th>4</th>\n",
       "      <td>blocknative</td>\n",
       "      <td>32836</td>\n",
       "      <td>0.0330</td>\n",
       "      <td>29140</td>\n",
       "      <td>1565</td>\n",
       "      <td>140</td>\n",
       "      <td>21</td>\n",
       "      <td>10</td>\n",
       "      <td>2</td>\n",
       "      <td>0</td>\n",
       "      <td>0</td>\n",
       "      <td>0</td>\n",
       "      <td>0</td>\n",
       "    </tr>\n",
       "    <tr>\n",
       "      <th>5</th>\n",
       "      <td>eth-builder.com</td>\n",
       "      <td>30982</td>\n",
       "      <td>0.0312</td>\n",
       "      <td>25962</td>\n",
       "      <td>2051</td>\n",
       "      <td>249</td>\n",
       "      <td>39</td>\n",
       "      <td>3</td>\n",
       "      <td>0</td>\n",
       "      <td>0</td>\n",
       "      <td>0</td>\n",
       "      <td>0</td>\n",
       "      <td>0</td>\n",
       "    </tr>\n",
       "    <tr>\n",
       "      <th>6</th>\n",
       "      <td>x85linux</td>\n",
       "      <td>26921</td>\n",
       "      <td>0.0271</td>\n",
       "      <td>24295</td>\n",
       "      <td>1147</td>\n",
       "      <td>93</td>\n",
       "      <td>12</td>\n",
       "      <td>1</td>\n",
       "      <td>0</td>\n",
       "      <td>0</td>\n",
       "      <td>0</td>\n",
       "      <td>0</td>\n",
       "      <td>0</td>\n",
       "    </tr>\n",
       "    <tr>\n",
       "      <th>7</th>\n",
       "      <td>eden</td>\n",
       "      <td>7397</td>\n",
       "      <td>0.0074</td>\n",
       "      <td>7293</td>\n",
       "      <td>52</td>\n",
       "      <td>0</td>\n",
       "      <td>0</td>\n",
       "      <td>0</td>\n",
       "      <td>0</td>\n",
       "      <td>0</td>\n",
       "      <td>0</td>\n",
       "      <td>0</td>\n",
       "      <td>0</td>\n",
       "    </tr>\n",
       "    <tr>\n",
       "      <th>8</th>\n",
       "      <td>manifold</td>\n",
       "      <td>3478</td>\n",
       "      <td>0.0035</td>\n",
       "      <td>3427</td>\n",
       "      <td>24</td>\n",
       "      <td>1</td>\n",
       "      <td>0</td>\n",
       "      <td>0</td>\n",
       "      <td>0</td>\n",
       "      <td>0</td>\n",
       "      <td>0</td>\n",
       "      <td>0</td>\n",
       "      <td>0</td>\n",
       "    </tr>\n",
       "    <tr>\n",
       "      <th>Total</th>\n",
       "      <td>Total</td>\n",
       "      <td>681959</td>\n",
       "      <td>0.6858</td>\n",
       "      <td>476942</td>\n",
       "      <td>70953</td>\n",
       "      <td>14358</td>\n",
       "      <td>3284</td>\n",
       "      <td>853</td>\n",
       "      <td>251</td>\n",
       "      <td>92</td>\n",
       "      <td>30</td>\n",
       "      <td>16</td>\n",
       "      <td>5</td>\n",
       "    </tr>\n",
       "  </tbody>\n",
       "</table>\n",
       "</div>"
      ],
      "text/plain": [
       "        builder entity   slots   share     k=1    k=2    k=3   k=4  k=5  k=6  \\\n",
       "0            flashbots  207603  0.2088  134724  24898   5319  1194  285   95   \n",
       "1          builder0x69  156094  0.1570  100699  18727   4134   916  256   66   \n",
       "2            bloxroute  110822  0.1114   82369  10893   1685   293   67   10   \n",
       "3      beaverbuild.org  105826  0.1064   69033  11596   2737   809  231   78   \n",
       "4          blocknative   32836  0.0330   29140   1565    140    21   10    2   \n",
       "5      eth-builder.com   30982  0.0312   25962   2051    249    39    3    0   \n",
       "6             x85linux   26921  0.0271   24295   1147     93    12    1    0   \n",
       "7                 eden    7397  0.0074    7293     52      0     0    0    0   \n",
       "8             manifold    3478  0.0035    3427     24      1     0    0    0   \n",
       "Total            Total  681959  0.6858  476942  70953  14358  3284  853  251   \n",
       "\n",
       "       k=7  k=8  k=9  k=10  \n",
       "0       26   13    3     2  \n",
       "1       21    2    4     0  \n",
       "2        4    1    1     0  \n",
       "3       41   14    8     3  \n",
       "4        0    0    0     0  \n",
       "5        0    0    0     0  \n",
       "6        0    0    0     0  \n",
       "7        0    0    0     0  \n",
       "8        0    0    0     0  \n",
       "Total   92   30   16     5  "
      ]
     },
     "execution_count": 327,
     "metadata": {},
     "output_type": "execute_result"
    }
   ],
   "source": [
    "calc"
   ]
  },
  {
   "cell_type": "code",
   "execution_count": null,
   "id": "72acfc9c",
   "metadata": {},
   "outputs": [],
   "source": [
    "test = pd.DataFrame(lst, columns = ['builder_name'])\n",
    "\n",
    "for i in range(1, 10+1):\n",
    "    data_temp = []\n",
    "    \n",
    "    for x in lst:\n",
    "        data_temp.append(df[(df['builder_name'] == x) & (df['count'] == i)]['block_reward'].mean())\n",
    "    \n",
    "    name = f'k_{i}'\n",
    "    test[name] = data_temp"
   ]
  },
  {
   "cell_type": "code",
   "execution_count": null,
   "id": "ccc3e7b2",
   "metadata": {},
   "outputs": [],
   "source": [
    "totals = test.mean()"
   ]
  },
  {
   "cell_type": "code",
   "execution_count": null,
   "id": "6389a850",
   "metadata": {},
   "outputs": [],
   "source": [
    "test = test.append(totals, ignore_index=True)\n",
    "test.rename(index={10: 'Mean'}, inplace=True)"
   ]
  },
  {
   "cell_type": "code",
   "execution_count": null,
   "id": "6577a85f",
   "metadata": {},
   "outputs": [],
   "source": [
    "test = test.iloc[:,1:11]"
   ]
  },
  {
   "cell_type": "code",
   "execution_count": null,
   "id": "77082cf4",
   "metadata": {},
   "outputs": [],
   "source": [
    "test.fillna('', inplace = True)\n",
    "test"
   ]
  },
  {
   "cell_type": "code",
   "execution_count": null,
   "id": "4a1a76e1",
   "metadata": {},
   "outputs": [],
   "source": [
    "test = test.drop(3)\n",
    "test.reset_index(drop=True, inplace=True)"
   ]
  },
  {
   "cell_type": "code",
   "execution_count": null,
   "id": "887770ad",
   "metadata": {},
   "outputs": [],
   "source": []
  },
  {
   "cell_type": "code",
   "execution_count": null,
   "id": "734969f5",
   "metadata": {},
   "outputs": [],
   "source": [
    "df['epoch'] = 1663224179"
   ]
  },
  {
   "cell_type": "code",
   "execution_count": null,
   "id": "ccb5bf90",
   "metadata": {},
   "outputs": [],
   "source": [
    "def multiply_row_index(df, column_name):\n",
    "    for index, row in df.iterrows():\n",
    "        df.at[index, column_name] = row[column_name] + index*12\n",
    "    return df\n",
    "\n",
    "df = multiply_row_index(df, 'epoch')"
   ]
  },
  {
   "cell_type": "code",
   "execution_count": null,
   "id": "2b2189dd",
   "metadata": {},
   "outputs": [],
   "source": [
    "df['date'] = pd.to_datetime(df['epoch'],  unit='s', utc=True)\n",
    "#df['date'] = df['date'].dt.strftime('%d-%m-%Y %H:%M:%S')"
   ]
  },
  {
   "cell_type": "code",
   "execution_count": null,
   "id": "0e97041f",
   "metadata": {},
   "outputs": [],
   "source": [
    "df.to_csv(f'data/df_{fltr_name}.csv', index=False)"
   ]
  },
  {
   "cell_type": "code",
   "execution_count": null,
   "id": "72901862",
   "metadata": {},
   "outputs": [],
   "source": []
  },
  {
   "cell_type": "code",
   "execution_count": null,
   "id": "92c07803",
   "metadata": {},
   "outputs": [],
   "source": [
    "df = pd.read_csv('data/df_entity.csv')\n",
    "df['date'] = pd.to_datetime(df['epoch'],  unit='s', utc=True)\n",
    "fltr_name = 'entity'\n",
    "#df['date'] = df['date'].dt.strftime('%d-%m-%Y %H:%M:%S')"
   ]
  },
  {
   "cell_type": "code",
   "execution_count": null,
   "id": "d1fdb36f",
   "metadata": {},
   "outputs": [],
   "source": [
    "fltr_name = 'entity'"
   ]
  },
  {
   "cell_type": "code",
   "execution_count": null,
   "id": "155a9efe",
   "metadata": {},
   "outputs": [],
   "source": []
  },
  {
   "cell_type": "markdown",
   "id": "6592410e",
   "metadata": {},
   "source": [
    "### plotting descriptive"
   ]
  },
  {
   "cell_type": "code",
   "execution_count": null,
   "id": "c05a17e8",
   "metadata": {},
   "outputs": [],
   "source": [
    "df['boosted'].rolling(slots_per_day, min_periods=1).sum()/slots_per_day"
   ]
  },
  {
   "cell_type": "code",
   "execution_count": null,
   "id": "6b37b740",
   "metadata": {},
   "outputs": [],
   "source": [
    "fig, ax = plt.subplots(figsize =(10, 5))\n",
    "\n",
    "ax.plot(df['slot'], df['boosted'].rolling(slots_per_day*7, min_periods=1).sum()/(slots_per_day*7))\n",
    "\n",
    "# ax.ticklabel_format(style='plain')\n",
    "\n",
    "ax.grid(axis='y', linestyle='--', linewidth=.5)\n",
    "\n",
    "s = df['slot'].iloc[0]\n",
    "o = df[df['date'] >= '2022-10-01 00:00:00']['slot'].values[0]\n",
    "n = df[df['date'] >= '2022-11-01 00:00:00']['slot'].values[0]\n",
    "d = df[df['date'] >= '2022-12-01 00:00:00']['slot'].values[0]\n",
    "j = df[df['date'] >= '2023-01-01 00:00:00']['slot'].values[0]\n",
    "f = df['slot'].iloc[-1]\n",
    "\n",
    "\n",
    "plt.xticks([s, o, n, d, j, f], ['15 Sep 22', 'Oct 22', 'Nov 22', 'Dec 22', 'Jan 23', 'Feb 23'])\n",
    "       \n",
    "left, right = plt.xlim()\n",
    "ax.set_xlim(left+1, right-0)\n",
    "\n",
    "vals = ax.get_yticks()\n",
    "ax.set_yticklabels(['{:,.0%}'.format(x) for x in vals])\n",
    "\n",
    "plt.savefig(f'figures/mev_boost.png')\n",
    "\n",
    "plt.show()"
   ]
  },
  {
   "cell_type": "code",
   "execution_count": null,
   "id": "cd1f661a",
   "metadata": {},
   "outputs": [],
   "source": [
    "bins = np.arange(df['slot'].min(), df['slot'].max(), slots_per_day)\n",
    "data = []\n",
    "for i in range(0, len(bins)-1):\n",
    "        data.append(df[(df['slot'] >= bins[i]) & (df['slot'] < bins[i+1])]['block_reward'].mean())"
   ]
  },
  {
   "cell_type": "code",
   "execution_count": null,
   "id": "0ca4c789",
   "metadata": {},
   "outputs": [],
   "source": [
    "fig, ax = plt.subplots(figsize =(12, 6))\n",
    "\n",
    "ax.bar(np.arange(1,len(data)+1), data, width = 0.5)\n",
    "ax.grid(axis='y', linestyle='--', linewidth=.5)\n",
    "\n",
    "left, right = plt.xlim()\n",
    "ax.set_xlim(left+5, right-5)\n",
    "\n",
    "ax.set_ylabel('Builder payment')\n",
    "ax.set_xlabel('Day')\n",
    "\n",
    "vals = ax.get_yticks()\n",
    "ax.set_yticklabels(['{:,.2f}'.format(x)+' ETH' for x in vals])\n",
    "\n",
    "# show plot\n",
    "plt.show()"
   ]
  },
  {
   "cell_type": "markdown",
   "id": "9608536b",
   "metadata": {},
   "source": [
    "ToDo add percentage; trend line; rate of increase.."
   ]
  },
  {
   "cell_type": "markdown",
   "id": "6f0cc1ca",
   "metadata": {},
   "source": [
    "### plotting analysis"
   ]
  },
  {
   "cell_type": "code",
   "execution_count": null,
   "id": "ef1a52b9",
   "metadata": {},
   "outputs": [],
   "source": [
    "\n",
    "\n",
    "slc = df[df['count'] <= 10]\n",
    "slc.dropna(subset=['block_reward'], inplace=True)\n",
    "\n",
    "temp = slc['count'].unique()\n",
    "temp.sort()\n",
    "\n",
    "data = []\n",
    "for x in temp:\n",
    "    data.append(list(slc[slc['count']==x]['block_reward']))\n",
    "\n",
    "fig, ax = plt.subplots(figsize =(8, 8))\n",
    "\n",
    "ax.boxplot(data, showfliers=False)\n",
    "ax.grid(axis='y', linestyle='--', linewidth=.5)\n",
    "\n",
    "ax.set_ylabel('Builder payment')\n",
    "ax.set_xlabel('Consecutive blocks')\n",
    "\n",
    "vals = ax.get_yticks()\n",
    "ax.set_yticklabels(['{:,.2f}'.format(x)+' ETH' for x in vals])\n",
    "\n",
    "plt.xticks(temp)\n",
    "\n",
    "plt.savefig(f'figures/payment_{fltr_name}.png')\n",
    "plt.show()\n"
   ]
  },
  {
   "cell_type": "code",
   "execution_count": null,
   "id": "f623b46f",
   "metadata": {},
   "outputs": [],
   "source": [
    "slc = df[df['count'] <= 10]\n",
    "slc.dropna(subset=['block_reward'], inplace=True)\n",
    "\n",
    "temp = slc['count'].unique()\n",
    "temp.sort()\n",
    "\n",
    "data = []\n",
    "for x in temp:\n",
    "    data.append(list(slc[slc['count']==x]['block_reward']))"
   ]
  },
  {
   "cell_type": "code",
   "execution_count": null,
   "id": "0448fca1",
   "metadata": {},
   "outputs": [],
   "source": [
    "distance = slc['block_reward'].groupby(slc['count']).median()\n",
    "distance = distance/distance[1]-1\n",
    "distance = distance*100\n",
    "distance = list(distance)\n",
    "distance = np.round(distance, 2)\n",
    "distance = [str(x) + '%' for x in distance]\n",
    "distance"
   ]
  },
  {
   "cell_type": "code",
   "execution_count": null,
   "id": "2dd0e6d4",
   "metadata": {},
   "outputs": [],
   "source": [
    "df['slot'].iloc[0]- df['slot'].iloc[-1]"
   ]
  },
  {
   "cell_type": "code",
   "execution_count": null,
   "id": "a828f706",
   "metadata": {},
   "outputs": [],
   "source": [
    "fig = plt.figure(figsize=(8,8))\n",
    "gs = fig.add_gridspec(2, hspace=0, height_ratios=[4, 1])\n",
    "axs = gs.subplots(sharex=True)\n",
    "\n",
    "axs[0].scatter(temp, slc['block_reward'].groupby(slc['count']).median().cumsum())\n",
    "axs[0].plot([1, 10], [list(slc['block_reward'].groupby(slc['count']).median())[0], list(slc['block_reward'].groupby(slc['count']).median())[0]*len(list(slc['block_reward'].groupby(slc['count']).median()))], color='grey')\n",
    "axs[0].grid(axis='y', linestyle='--', linewidth=.25)\n",
    "\n",
    "\n",
    "axs[1].set_ylim(0.045, 0.065)\n",
    "for i in range(1,len(temp)):\n",
    "    axs[1].plot([temp[i], temp[i]], [list(slc['block_reward'].groupby(slc['count']).median())[0], list(slc['block_reward'].groupby(slc['count']).median())[i]], color='grey', linewidth=.5)\n",
    "axs[1].scatter(temp, slc['block_reward'].groupby(slc['count']).median())\n",
    "axs[1].grid(axis='y', linestyle='--', linewidth=.25)\n",
    "\n",
    "for i in range(1,len(temp)):\n",
    "    axs[1].text(temp[i]-.35, list(slc['block_reward'].groupby(slc['count']).median())[i]+.0015, s=f'{distance[i]}', fontdict=dict(fontsize=8))\n",
    "\n",
    "axs[0].legend(['empirical bids', 'naive bidder'])\n",
    "\n",
    "axs[0].set_ylabel('total builder payment')\n",
    "axs[1].set_ylabel('median builder payment')\n",
    "plt.xlabel('consecutive blocks')\n",
    "vals = axs[0].get_yticks()\n",
    "axs[0].set_yticklabels(['{:,.2f}'.format(x) for x in vals])\n",
    "vals = axs[1].get_yticks()\n",
    "axs[1].set_yticklabels(['{:,.2f}'.format(x) for x in vals])\n",
    "#axs[1].yaxis.tick_right()\n",
    "#axs[1].yaxis.set_label_position('right')\n",
    "plt.xticks(temp)\n",
    "\n",
    "# Hide x labels and tick labels for all but bottom plot.\n",
    "for ax in axs:\n",
    "    ax.label_outer()\n",
    "    \n",
    "plt.savefig(f'figures/payment_{fltr_name}.png')\n",
    "plt.show()"
   ]
  },
  {
   "cell_type": "code",
   "execution_count": null,
   "id": "d8cfdb72",
   "metadata": {},
   "outputs": [],
   "source": [
    "list(slc['block_reward'].groupby(slc['count']).median())"
   ]
  },
  {
   "cell_type": "code",
   "execution_count": null,
   "id": "50ad172a",
   "metadata": {},
   "outputs": [],
   "source": [
    "def q25(x):\n",
    "    return x.quantile(0.25)\n",
    "\n",
    "def q75(x):\n",
    "    return x.quantile(0.75)"
   ]
  },
  {
   "cell_type": "code",
   "execution_count": null,
   "id": "76cc701b",
   "metadata": {},
   "outputs": [],
   "source": [
    "df"
   ]
  },
  {
   "cell_type": "code",
   "execution_count": null,
   "id": "7eabe0d2",
   "metadata": {},
   "outputs": [],
   "source": [
    "\n",
    "\n",
    "slc = df[df['count'] <= 10]\n",
    "slc.dropna(subset=['block_reward'], inplace=True)\n",
    "\n",
    "temp = slc['count'].unique()\n",
    "temp.sort()\n",
    "\n",
    "\n",
    "\n",
    "fig, ax = plt.subplots(figsize =(8, 8))\n",
    "\n",
    "\n",
    "ax.grid(axis='y', linestyle='--', linewidth=.5)\n",
    "\n",
    "ax.set_ylabel('Builder payment')\n",
    "ax.set_xlabel('Consecutive blocks')\n",
    "\n",
    "vals = ax.get_yticks()\n",
    "ax.set_yticklabels(['{:,.2f}'.format(x)+' ETH' for x in vals])\n",
    "\n",
    "plt.xticks(temp)\n",
    "\n",
    "plt.savefig(f'figures/payment_{fltr_name}.png')\n",
    "plt.show()\n"
   ]
  },
  {
   "cell_type": "code",
   "execution_count": null,
   "id": "c5c9388a",
   "metadata": {},
   "outputs": [],
   "source": [
    "temp = slc['position'].unique()\n",
    "temp = temp.sort()"
   ]
  },
  {
   "cell_type": "code",
   "execution_count": null,
   "id": "8f4d8e48",
   "metadata": {},
   "outputs": [],
   "source": [
    "#how much do builder pay on average for consecutive blocks\n",
    "\n",
    "slc = df[df['count'] <= 10]\n",
    "slc.dropna(subset=['block_reward'], inplace=True)\n",
    "\n",
    "temp = slc['position'].unique()\n",
    "temp = temp.sort()\n",
    "\n",
    "data = []\n",
    "for x in temp:\n",
    "    data.append(list(slc[slc['position']==x]['block_reward']))\n",
    "\n",
    "fig, ax = plt.subplots(figsize =(8, 8))\n",
    "\n",
    "ax.boxplot(data, showfliers=False)\n",
    "ax.grid(axis='y', linestyle='--', linewidth=.5)\n",
    "\n",
    "ax.set_ylabel('builder payment')\n",
    "ax.set_xlabel('n-th position in consecutive blocks')\n",
    "\n",
    "vals = ax.get_yticks()\n",
    "ax.set_yticklabels(['{:,.2f}'.format(x)+' ETH' for x in vals])\n",
    "\n",
    "plt.xticks(list(slc['position'].unique()))\n",
    "\n",
    "plt.savefig(f'figures/payment_position_{fltr_name}.png')\n",
    "\n",
    "plt.show()\n"
   ]
  },
  {
   "cell_type": "code",
   "execution_count": null,
   "id": "3406c942",
   "metadata": {},
   "outputs": [],
   "source": [
    "#how much do builder pay on average for consecutive blocks\n",
    "\n",
    "slc = df[df['count'] <= 10]\n",
    "\n",
    "fig, ax = plt.subplots(figsize =(8, 8))\n",
    "\n",
    "x = list(slc['position'].unique())\n",
    "\n",
    "ax.plot(x, slc['block_reward'].groupby(slc['position']).median())\n",
    "ax.grid(axis='y', linestyle='--', linewidth=.5)\n",
    "\n",
    "\n",
    "y1 = slc.groupby(['position']).agg({'block_reward': [q25]})\n",
    "y2 = slc.groupby(['position']).agg({'block_reward': [q75]})\n",
    "ax.plot(x, y1, x, y2, color='grey', linewidth=.5)\n",
    "\n",
    "ax.fill_between(x, list(y1.iloc[:, 0]), list(y2.iloc[:, 0]), facecolor='lightgrey', alpha=.75)\n",
    "\n",
    "\n",
    "#data = slc[df['count'] >= 2]\n",
    "#ax.scatter(data['position'], data['block_reward'], s = .05, alpha = .75)\n",
    "\n",
    "ax.set_ylabel('Builder payment')\n",
    "ax.set_xlabel('n position in consecutive blocks')\n",
    "\n",
    "plt.ylim(0, .15)\n",
    "\n",
    "vals = ax.get_yticks()\n",
    "ax.set_yticklabels(['{:,.2f}'.format(x)+' ETH' for x in vals])\n",
    "\n",
    "plt.xticks(list(slc['position'].unique()))\n",
    "\n",
    "plt.savefig(f'figures/payment_position_{fltr_name}.png')\n",
    "\n",
    "plt.show()\n"
   ]
  },
  {
   "cell_type": "code",
   "execution_count": null,
   "id": "43739a44",
   "metadata": {},
   "outputs": [],
   "source": [
    "df"
   ]
  },
  {
   "cell_type": "code",
   "execution_count": null,
   "id": "0f891c0a",
   "metadata": {},
   "outputs": [],
   "source": [
    "#how much do builder pay on average for consecutive blocks\n",
    "\n",
    "#add cumulative payment\n",
    "\n",
    "slc = df[(df['count'] <11) & (df['count'] >= 5)]\n",
    "\n",
    "fig, ax = plt.subplots(figsize =(8, 8))\n",
    "\n",
    "ax.scatter(slc['slot'], slc['count'], s=.25)\n",
    "\n",
    "ax.set_ylabel('consecutive blocks')\n",
    "ax.set_xlabel('date')\n",
    "\n",
    "s = df['slot'].iloc[0]\n",
    "o = df[df['date'] >= '2022-10-01 00:00:00']['slot'].values[0]\n",
    "n = df[df['date'] >= '2022-11-01 00:00:00']['slot'].values[0]\n",
    "d = df[df['date'] >= '2022-12-01 00:00:00']['slot'].values[0]\n",
    "j = df[df['date'] >= '2023-01-01 00:00:00']['slot'].values[0]\n",
    "f = df['slot'].iloc[-1]+1e5\n",
    "\n",
    "\n",
    "plt.xticks([s, o, n, d, j, f], ['15 Sep 22', 'Oct 22', 'Nov 22', 'Dec 22', 'Jan 23', 'Feb 23'])\n",
    "       \n",
    "\n",
    "\n",
    "plt.savefig(f'figures/scatter_slots_{fltr_name}.png')\n",
    "\n",
    "plt.show()\n"
   ]
  },
  {
   "cell_type": "code",
   "execution_count": null,
   "id": "7c81513b",
   "metadata": {},
   "outputs": [],
   "source": [
    "len(temp)"
   ]
  },
  {
   "cell_type": "code",
   "execution_count": 316,
   "id": "3b46b125",
   "metadata": {},
   "outputs": [
    {
     "data": {
      "image/png": "[encoded data removed]",
      "text/plain": [
       "<Figure size 600x400 with 1 Axes>"
      ]
     },
     "metadata": {},
     "output_type": "display_data"
    }
   ],
   "source": [
    "slc = df[(df['count'] >= 2) & (df['count'] <= 10)]\n",
    "\n",
    "temp = slc['count'].unique()\n",
    "temp.sort()\n",
    "\n",
    "stat = slc.groupby(slc['count']).size().values\n",
    "\n",
    "for i, x in enumerate(temp):\n",
    "    stat[i] = stat[i]/x\n",
    "\n",
    "fig, ax = plt.subplots(figsize =(6, 4))\n",
    "\n",
    "ax.bar(temp, stat, width = 0.5)\n",
    "ax.grid(axis='y', linestyle='--', linewidth=.5)\n",
    "\n",
    "\n",
    "for i in range(0,2+1):\n",
    "    plt.text(temp[i]-.3, stat[i]+1e3, s=f'{stat[i]}', fontdict=dict(fontsize=8))\n",
    "    \n",
    "for i in range(3,5+1):\n",
    "    plt.text(temp[i]-.2, stat[i]+1e3, s=f'{stat[i]}', fontdict=dict(fontsize=8))\n",
    "    \n",
    "for i in range(6,len(temp)):\n",
    "    plt.text(temp[i]-.1, stat[i]+1e3, s=f'{stat[i]}', fontdict=dict(fontsize=8))\n",
    "    \n",
    "left, right = plt.xlim()\n",
    "ax.set_xlim(left+.25, right-0.25)\n",
    "\n",
    "ax.set_ylabel('Occurences')\n",
    "ax.set_xlabel('Consecutive blocks')\n",
    "\n",
    "plt.xticks(temp)\n",
    "\n",
    "plt.savefig(f'figures/occurences.png', bbox_inches='tight')\n",
    "# show plot\n",
    "plt.show()"
   ]
  },
  {
   "cell_type": "code",
   "execution_count": null,
   "id": "3d7df8f8",
   "metadata": {},
   "outputs": [],
   "source": [
    "# Is there a pattern, to propose low gas blocks?\n",
    "# \"VALIDATOR for slot k+1 is buying the slot in order to submit an empty block just before the slot they are elected for\"\n",
    "# > Validators could be \"unknown\"\n",
    "\n",
    "n, bins, patches = plt.hist(df[df['boosted']==True]['gas_used'], 50, density=True, facecolor='g', alpha=0.75)\n",
    "\n",
    "temp = df[(df['boosted']==True) & (df['gas_used'] < 0.75e7)]"
   ]
  },
  {
   "cell_type": "code",
   "execution_count": null,
   "id": "e59fe94c",
   "metadata": {},
   "outputs": [],
   "source": [
    "temp"
   ]
  },
  {
   "cell_type": "code",
   "execution_count": null,
   "id": "a2441f4a",
   "metadata": {},
   "outputs": [],
   "source": [
    "print(temp.groupby(['builder_name']).size())"
   ]
  },
  {
   "cell_type": "code",
   "execution_count": null,
   "id": "53e3079b",
   "metadata": {},
   "outputs": [],
   "source": [
    "pd.set_option(\"display.max_rows\", None)\n",
    "temp.groupby(['builder_name', 'count', 'position']).size().to_frame(name='vals')"
   ]
  },
  {
   "cell_type": "code",
   "execution_count": null,
   "id": "5a377dba",
   "metadata": {},
   "outputs": [],
   "source": []
  },
  {
   "cell_type": "code",
   "execution_count": null,
   "id": "5d91713c",
   "metadata": {},
   "outputs": [],
   "source": []
  },
  {
   "cell_type": "markdown",
   "id": "6ea2e520",
   "metadata": {},
   "source": [
    "### math"
   ]
  },
  {
   "cell_type": "code",
   "execution_count": 2,
   "id": "ab6b437a",
   "metadata": {},
   "outputs": [],
   "source": [
    "df = pd.read_csv('data/df_entity.csv')\n",
    "df['date'] = pd.to_datetime(df['epoch'],  unit='s', utc=True)\n",
    "fltr_name = 'entity'"
   ]
  },
  {
   "cell_type": "code",
   "execution_count": null,
   "id": "b3aae3c9",
   "metadata": {},
   "outputs": [],
   "source": [
    "write down cases n<k n=k n>k and if k = 0\n",
    "Bernouli (1 or 2)"
   ]
  },
  {
   "cell_type": "markdown",
   "id": "92df8968",
   "metadata": {},
   "source": [
    "p = .5\n",
    "n = 3\n",
    "k = 2\n",
    "\n",
    "HHH  no !\n",
    "HHT  yes\n",
    "HTH  no\n",
    "THH  yes\n",
    "HTT  no\n",
    "THT  no\n",
    "TTH  no\n",
    "TTT  yes\n",
    "-> 2/8"
   ]
  },
  {
   "cell_type": "code",
   "execution_count": null,
   "id": "bca751f6",
   "metadata": {},
   "outputs": [],
   "source": [
    "from IPython.display import display, Math, Latex\n",
    "display(Math(r'p^{k}*(1-p)^{2}*(n-k-1)+2*p^{k}*(1-p)'))"
   ]
  },
  {
   "cell_type": "code",
   "execution_count": null,
   "id": "a9401509",
   "metadata": {},
   "outputs": [],
   "source": [
    "#What is the expected of exactly k consecutive heads in n tosses?\n",
    "\n",
    "p = 50/100 #probability\n",
    "n = 3 #tosses\n",
    "k = 0 #k consecutive tosses\n",
    "\n",
    "\n",
    "print('gesamt', p**k*(1-p)**2*(n-k-1)+2*p**k*(1-p))\n",
    "\n",
    "print('term a', p**k*(1-p)**2*(n-k-1))\n",
    "print('term b', 2*p**k*(1-p))\n",
    "\n",
    "print('equation', f'{p}**{k}*(1-{p})**2*{(n-k-1)}+2*{p}**{k}*(1-{p})')"
   ]
  },
  {
   "cell_type": "code",
   "execution_count": null,
   "id": "92c7f591",
   "metadata": {},
   "outputs": [],
   "source": []
  },
  {
   "cell_type": "code",
   "execution_count": null,
   "id": "0d721e25",
   "metadata": {},
   "outputs": [],
   "source": [
    "display(Math(r'p^{k}*(1-p)^{2}*max(0,(n-k-1))+2*p^{k}*(1-p)'))"
   ]
  },
  {
   "cell_type": "code",
   "execution_count": null,
   "id": "0afc80ce",
   "metadata": {},
   "outputs": [],
   "source": [
    "#What is the probability of exactly k consecutive heads in n tosses?\n",
    "\n",
    "p = 99/100 #probability\n",
    "n = 3 #tosses\n",
    "k = 1 #k consecutive tosses\n",
    "\n",
    "\n",
    "print('gesamt', p**k*(1-p)**2*max(0,(n-k-1))+2*p**k*(1-p))\n",
    "\n",
    "print('term a', p**k*(1-p)**2*max(0,(n-k-1)))\n",
    "print('term b', p**k*(1-p)*2)\n",
    "\n",
    "print('equation', f'{p}**{k}*(1-{p})**2*{max(0, n-k-1)}+2*{p}**{k}*(1-{p})')"
   ]
  },
  {
   "cell_type": "code",
   "execution_count": null,
   "id": "d400e1fc",
   "metadata": {},
   "outputs": [],
   "source": []
  },
  {
   "cell_type": "code",
   "execution_count": 175,
   "id": "5070b60b",
   "metadata": {},
   "outputs": [],
   "source": [
    "def prob(c, p):\n",
    "    # c = consecutive blocks\n",
    "    # n = slots\n",
    "    # p = share MEV boost\n",
    "    \n",
    "    x = symbols('x', real=True)\n",
    "\n",
    "    c = c; n = 32; p = p\n",
    "\n",
    "    xx = min(i for i in solve(1-x+(1-p)*p**c*x**(c+1)) if i > 1)\n",
    "    qn = ((1 - p*xx) / ((c + 1 - c*xx)*(1-p))) * (1/(xx**(n+1)))\n",
    "    \n",
    "    return qn*100, (1-qn)*100\n",
    "\n",
    "    "
   ]
  },
  {
   "cell_type": "code",
   "execution_count": 176,
   "id": "2142ff87",
   "metadata": {},
   "outputs": [],
   "source": [
    "c = 2\n",
    "p = 0.5"
   ]
  },
  {
   "cell_type": "code",
   "execution_count": 177,
   "id": "2243997a",
   "metadata": {},
   "outputs": [],
   "source": [
    "no_success, success = prob(c, p)"
   ]
  },
  {
   "cell_type": "code",
   "execution_count": 178,
   "id": "aba9ee4c",
   "metadata": {},
   "outputs": [
    {
     "data": {
      "text/latex": [
       "$\\displaystyle 99.8672193149105$"
      ],
      "text/plain": [
       "99.8672193149105"
      ]
     },
     "execution_count": 178,
     "metadata": {},
     "output_type": "execute_result"
    }
   ],
   "source": [
    "success"
   ]
  },
  {
   "cell_type": "code",
   "execution_count": null,
   "id": "cf99a6b0",
   "metadata": {},
   "outputs": [],
   "source": []
  },
  {
   "cell_type": "code",
   "execution_count": 317,
   "id": "d1a6dee7",
   "metadata": {},
   "outputs": [
    {
     "data": {
      "text/html": [
       "<div>\n",
       "<style scoped>\n",
       "    .dataframe tbody tr th:only-of-type {\n",
       "        vertical-align: middle;\n",
       "    }\n",
       "\n",
       "    .dataframe tbody tr th {\n",
       "        vertical-align: top;\n",
       "    }\n",
       "\n",
       "    .dataframe thead th {\n",
       "        text-align: right;\n",
       "    }\n",
       "</style>\n",
       "<table border=\"1\" class=\"dataframe\">\n",
       "  <thead>\n",
       "    <tr style=\"text-align: right;\">\n",
       "      <th></th>\n",
       "      <th>builder_name</th>\n",
       "      <th>slots</th>\n",
       "      <th>share</th>\n",
       "      <th>k_1</th>\n",
       "      <th>k_2</th>\n",
       "      <th>k_3</th>\n",
       "      <th>k_4</th>\n",
       "      <th>k_5</th>\n",
       "      <th>k_6</th>\n",
       "      <th>k_7</th>\n",
       "      <th>k_8</th>\n",
       "      <th>k_9</th>\n",
       "      <th>k_10</th>\n",
       "    </tr>\n",
       "  </thead>\n",
       "  <tbody>\n",
       "    <tr>\n",
       "      <th>0</th>\n",
       "      <td>flashbots</td>\n",
       "      <td>207603</td>\n",
       "      <td>0.2088</td>\n",
       "      <td>134724</td>\n",
       "      <td>24898</td>\n",
       "      <td>5319</td>\n",
       "      <td>1194</td>\n",
       "      <td>285</td>\n",
       "      <td>95</td>\n",
       "      <td>26</td>\n",
       "      <td>13</td>\n",
       "      <td>3</td>\n",
       "      <td>2</td>\n",
       "    </tr>\n",
       "    <tr>\n",
       "      <th>1</th>\n",
       "      <td>builder0x69</td>\n",
       "      <td>156094</td>\n",
       "      <td>0.1570</td>\n",
       "      <td>100699</td>\n",
       "      <td>18727</td>\n",
       "      <td>4134</td>\n",
       "      <td>916</td>\n",
       "      <td>256</td>\n",
       "      <td>66</td>\n",
       "      <td>21</td>\n",
       "      <td>2</td>\n",
       "      <td>4</td>\n",
       "      <td>0</td>\n",
       "    </tr>\n",
       "    <tr>\n",
       "      <th>2</th>\n",
       "      <td>bloxroute</td>\n",
       "      <td>110822</td>\n",
       "      <td>0.1114</td>\n",
       "      <td>82369</td>\n",
       "      <td>10893</td>\n",
       "      <td>1685</td>\n",
       "      <td>293</td>\n",
       "      <td>67</td>\n",
       "      <td>10</td>\n",
       "      <td>4</td>\n",
       "      <td>1</td>\n",
       "      <td>1</td>\n",
       "      <td>0</td>\n",
       "    </tr>\n",
       "    <tr>\n",
       "      <th>3</th>\n",
       "      <td>beaverbuild.org</td>\n",
       "      <td>105826</td>\n",
       "      <td>0.1064</td>\n",
       "      <td>69033</td>\n",
       "      <td>11596</td>\n",
       "      <td>2737</td>\n",
       "      <td>809</td>\n",
       "      <td>231</td>\n",
       "      <td>78</td>\n",
       "      <td>41</td>\n",
       "      <td>14</td>\n",
       "      <td>8</td>\n",
       "      <td>3</td>\n",
       "    </tr>\n",
       "    <tr>\n",
       "      <th>4</th>\n",
       "      <td>blocknative</td>\n",
       "      <td>32836</td>\n",
       "      <td>0.0330</td>\n",
       "      <td>29140</td>\n",
       "      <td>1565</td>\n",
       "      <td>140</td>\n",
       "      <td>21</td>\n",
       "      <td>10</td>\n",
       "      <td>2</td>\n",
       "      <td>0</td>\n",
       "      <td>0</td>\n",
       "      <td>0</td>\n",
       "      <td>0</td>\n",
       "    </tr>\n",
       "    <tr>\n",
       "      <th>5</th>\n",
       "      <td>https://eth-builder.com</td>\n",
       "      <td>30982</td>\n",
       "      <td>0.0312</td>\n",
       "      <td>25962</td>\n",
       "      <td>2051</td>\n",
       "      <td>249</td>\n",
       "      <td>39</td>\n",
       "      <td>3</td>\n",
       "      <td>0</td>\n",
       "      <td>0</td>\n",
       "      <td>0</td>\n",
       "      <td>0</td>\n",
       "      <td>0</td>\n",
       "    </tr>\n",
       "    <tr>\n",
       "      <th>6</th>\n",
       "      <td>coda_geth_linux</td>\n",
       "      <td>26921</td>\n",
       "      <td>0.0271</td>\n",
       "      <td>24295</td>\n",
       "      <td>1147</td>\n",
       "      <td>93</td>\n",
       "      <td>12</td>\n",
       "      <td>1</td>\n",
       "      <td>0</td>\n",
       "      <td>0</td>\n",
       "      <td>0</td>\n",
       "      <td>0</td>\n",
       "      <td>0</td>\n",
       "    </tr>\n",
       "    <tr>\n",
       "      <th>7</th>\n",
       "      <td>eden</td>\n",
       "      <td>7397</td>\n",
       "      <td>0.0074</td>\n",
       "      <td>7293</td>\n",
       "      <td>52</td>\n",
       "      <td>0</td>\n",
       "      <td>0</td>\n",
       "      <td>0</td>\n",
       "      <td>0</td>\n",
       "      <td>0</td>\n",
       "      <td>0</td>\n",
       "      <td>0</td>\n",
       "      <td>0</td>\n",
       "    </tr>\n",
       "    <tr>\n",
       "      <th>8</th>\n",
       "      <td>manifold</td>\n",
       "      <td>3478</td>\n",
       "      <td>0.0035</td>\n",
       "      <td>3427</td>\n",
       "      <td>24</td>\n",
       "      <td>1</td>\n",
       "      <td>0</td>\n",
       "      <td>0</td>\n",
       "      <td>0</td>\n",
       "      <td>0</td>\n",
       "      <td>0</td>\n",
       "      <td>0</td>\n",
       "      <td>0</td>\n",
       "    </tr>\n",
       "    <tr>\n",
       "      <th>Total</th>\n",
       "      <td></td>\n",
       "      <td>681959</td>\n",
       "      <td>0.6858</td>\n",
       "      <td>476942</td>\n",
       "      <td>70953</td>\n",
       "      <td>14358</td>\n",
       "      <td>3284</td>\n",
       "      <td>853</td>\n",
       "      <td>251</td>\n",
       "      <td>92</td>\n",
       "      <td>30</td>\n",
       "      <td>16</td>\n",
       "      <td>5</td>\n",
       "    </tr>\n",
       "  </tbody>\n",
       "</table>\n",
       "</div>"
      ],
      "text/plain": [
       "                  builder_name   slots   share     k_1    k_2    k_3   k_4  \\\n",
       "0                    flashbots  207603  0.2088  134724  24898   5319  1194   \n",
       "1                  builder0x69  156094  0.1570  100699  18727   4134   916   \n",
       "2                    bloxroute  110822  0.1114   82369  10893   1685   293   \n",
       "3              beaverbuild.org  105826  0.1064   69033  11596   2737   809   \n",
       "4                  blocknative   32836  0.0330   29140   1565    140    21   \n",
       "5      https://eth-builder.com   30982  0.0312   25962   2051    249    39   \n",
       "6              coda_geth_linux   26921  0.0271   24295   1147     93    12   \n",
       "7                         eden    7397  0.0074    7293     52      0     0   \n",
       "8                     manifold    3478  0.0035    3427     24      1     0   \n",
       "Total                           681959  0.6858  476942  70953  14358  3284   \n",
       "\n",
       "       k_5  k_6  k_7  k_8  k_9  k_10  \n",
       "0      285   95   26   13    3     2  \n",
       "1      256   66   21    2    4     0  \n",
       "2       67   10    4    1    1     0  \n",
       "3      231   78   41   14    8     3  \n",
       "4       10    2    0    0    0     0  \n",
       "5        3    0    0    0    0     0  \n",
       "6        1    0    0    0    0     0  \n",
       "7        0    0    0    0    0     0  \n",
       "8        0    0    0    0    0     0  \n",
       "Total  853  251   92   30   16     5  "
      ]
     },
     "execution_count": 317,
     "metadata": {},
     "output_type": "execute_result"
    }
   ],
   "source": [
    "calc"
   ]
  },
  {
   "cell_type": "code",
   "execution_count": null,
   "id": "9939bf37",
   "metadata": {},
   "outputs": [],
   "source": []
  },
  {
   "cell_type": "code",
   "execution_count": 302,
   "id": "f3baddeb",
   "metadata": {},
   "outputs": [],
   "source": [
    "expt = calc[['builder_name', 'share']]\n",
    "expt = expt.drop('Total')"
   ]
  },
  {
   "cell_type": "code",
   "execution_count": 309,
   "id": "3960c86e",
   "metadata": {},
   "outputs": [
    {
     "name": "stdout",
     "output_type": "stream",
     "text": [
      "0 0.2088\n",
      "1 0.157\n",
      "2 0.1114\n",
      "3 0.1064\n",
      "4 0.033\n",
      "5 0.0312\n",
      "6 0.0271\n",
      "7 0.0074\n",
      "8 0.0035\n",
      "9 0.6858\n"
     ]
    }
   ],
   "source": [
    "lst = []\n",
    "for i in range(len(expt)):\n",
    "    p = expt['share'].iloc[i]\n",
    "    print(i, p)\n",
    "    lst.append(montecarlo(p))"
   ]
  },
  {
   "cell_type": "code",
   "execution_count": 304,
   "id": "cadb2495",
   "metadata": {},
   "outputs": [],
   "source": [
    "fill = [0] * 10\n",
    "lst = [sublist[:n] + fill[len(sublist):] for sublist in lst]"
   ]
  },
  {
   "cell_type": "code",
   "execution_count": 305,
   "id": "00bb602d",
   "metadata": {},
   "outputs": [],
   "source": [
    "for i in range(0,10):\n",
    "    name = f'e_{i+1}'\n",
    "    expt[name] = [item[i] for item in lst]"
   ]
  },
  {
   "cell_type": "code",
   "execution_count": 307,
   "id": "7ba40951",
   "metadata": {},
   "outputs": [
    {
     "name": "stderr",
     "output_type": "stream",
     "text": [
      "/var/folders/1l/dlmzk3fn30g9wwk6y58j36c00000gn/T/ipykernel_25380/2369748795.py:2: FutureWarning: The frame.append method is deprecated and will be removed from pandas in a future version. Use pandas.concat instead.\n",
      "  expt = expt.append(totals, ignore_index=True)\n",
      "/var/folders/1l/dlmzk3fn30g9wwk6y58j36c00000gn/T/ipykernel_25380/2369748795.py:4: SettingWithCopyWarning: \n",
      "A value is trying to be set on a copy of a slice from a DataFrame\n",
      "\n",
      "See the caveats in the documentation: https://pandas.pydata.org/pandas-docs/stable/user_guide/indexing.html#returning-a-view-versus-a-copy\n",
      "  expt['builder_name'].iloc[9] = ''\n"
     ]
    }
   ],
   "source": [
    "totals = expt.sum()\n",
    "expt = expt.append(totals, ignore_index=True)\n",
    "expt.rename(index={9: 'Total'}, inplace=True)\n",
    "expt['builder_name'].iloc[9] = ''"
   ]
  },
  {
   "cell_type": "code",
   "execution_count": 333,
   "id": "685a080a",
   "metadata": {},
   "outputs": [
    {
     "data": {
      "text/html": [
       "<div>\n",
       "<style scoped>\n",
       "    .dataframe tbody tr th:only-of-type {\n",
       "        vertical-align: middle;\n",
       "    }\n",
       "\n",
       "    .dataframe tbody tr th {\n",
       "        vertical-align: top;\n",
       "    }\n",
       "\n",
       "    .dataframe thead th {\n",
       "        text-align: right;\n",
       "    }\n",
       "</style>\n",
       "<table border=\"1\" class=\"dataframe\">\n",
       "  <thead>\n",
       "    <tr style=\"text-align: right;\">\n",
       "      <th></th>\n",
       "      <th>builder_name</th>\n",
       "      <th>share</th>\n",
       "      <th>e_1</th>\n",
       "      <th>e_2</th>\n",
       "      <th>e_3</th>\n",
       "      <th>e_4</th>\n",
       "      <th>e_5</th>\n",
       "      <th>e_6</th>\n",
       "      <th>e_7</th>\n",
       "      <th>e_8</th>\n",
       "      <th>e_9</th>\n",
       "      <th>e_10</th>\n",
       "    </tr>\n",
       "  </thead>\n",
       "  <tbody>\n",
       "    <tr>\n",
       "      <th>0</th>\n",
       "      <td>flashbots</td>\n",
       "      <td>0.2088</td>\n",
       "      <td>131943</td>\n",
       "      <td>26787</td>\n",
       "      <td>5287</td>\n",
       "      <td>1055</td>\n",
       "      <td>202</td>\n",
       "      <td>53</td>\n",
       "      <td>7</td>\n",
       "      <td>1</td>\n",
       "      <td>0</td>\n",
       "      <td>0</td>\n",
       "    </tr>\n",
       "    <tr>\n",
       "      <th>1</th>\n",
       "      <td>builder0x69</td>\n",
       "      <td>0.1570</td>\n",
       "      <td>112514</td>\n",
       "      <td>16991</td>\n",
       "      <td>2596</td>\n",
       "      <td>410</td>\n",
       "      <td>56</td>\n",
       "      <td>10</td>\n",
       "      <td>0</td>\n",
       "      <td>0</td>\n",
       "      <td>0</td>\n",
       "      <td>0</td>\n",
       "    </tr>\n",
       "    <tr>\n",
       "      <th>2</th>\n",
       "      <td>bloxroute</td>\n",
       "      <td>0.1114</td>\n",
       "      <td>88166</td>\n",
       "      <td>9496</td>\n",
       "      <td>1001</td>\n",
       "      <td>115</td>\n",
       "      <td>12</td>\n",
       "      <td>1</td>\n",
       "      <td>0</td>\n",
       "      <td>0</td>\n",
       "      <td>0</td>\n",
       "      <td>0</td>\n",
       "    </tr>\n",
       "    <tr>\n",
       "      <th>3</th>\n",
       "      <td>beaverbuild.org</td>\n",
       "      <td>0.1064</td>\n",
       "      <td>85049</td>\n",
       "      <td>8799</td>\n",
       "      <td>897</td>\n",
       "      <td>101</td>\n",
       "      <td>11</td>\n",
       "      <td>1</td>\n",
       "      <td>0</td>\n",
       "      <td>0</td>\n",
       "      <td>0</td>\n",
       "      <td>0</td>\n",
       "    </tr>\n",
       "    <tr>\n",
       "      <th>4</th>\n",
       "      <td>blocknative</td>\n",
       "      <td>0.0330</td>\n",
       "      <td>30696</td>\n",
       "      <td>973</td>\n",
       "      <td>19</td>\n",
       "      <td>0</td>\n",
       "      <td>0</td>\n",
       "      <td>0</td>\n",
       "      <td>0</td>\n",
       "      <td>0</td>\n",
       "      <td>0</td>\n",
       "      <td>0</td>\n",
       "    </tr>\n",
       "    <tr>\n",
       "      <th>5</th>\n",
       "      <td>https://eth-builder.com</td>\n",
       "      <td>0.0312</td>\n",
       "      <td>29026</td>\n",
       "      <td>877</td>\n",
       "      <td>22</td>\n",
       "      <td>0</td>\n",
       "      <td>0</td>\n",
       "      <td>0</td>\n",
       "      <td>0</td>\n",
       "      <td>0</td>\n",
       "      <td>0</td>\n",
       "      <td>0</td>\n",
       "    </tr>\n",
       "    <tr>\n",
       "      <th>6</th>\n",
       "      <td>coda_geth_linux</td>\n",
       "      <td>0.0271</td>\n",
       "      <td>25562</td>\n",
       "      <td>698</td>\n",
       "      <td>18</td>\n",
       "      <td>0</td>\n",
       "      <td>0</td>\n",
       "      <td>0</td>\n",
       "      <td>0</td>\n",
       "      <td>0</td>\n",
       "      <td>0</td>\n",
       "      <td>0</td>\n",
       "    </tr>\n",
       "    <tr>\n",
       "      <th>7</th>\n",
       "      <td>eden</td>\n",
       "      <td>0.0074</td>\n",
       "      <td>7342</td>\n",
       "      <td>58</td>\n",
       "      <td>0</td>\n",
       "      <td>0</td>\n",
       "      <td>0</td>\n",
       "      <td>0</td>\n",
       "      <td>0</td>\n",
       "      <td>0</td>\n",
       "      <td>0</td>\n",
       "      <td>0</td>\n",
       "    </tr>\n",
       "    <tr>\n",
       "      <th>8</th>\n",
       "      <td>manifold</td>\n",
       "      <td>0.0035</td>\n",
       "      <td>3378</td>\n",
       "      <td>14</td>\n",
       "      <td>0</td>\n",
       "      <td>0</td>\n",
       "      <td>0</td>\n",
       "      <td>0</td>\n",
       "      <td>0</td>\n",
       "      <td>0</td>\n",
       "      <td>0</td>\n",
       "      <td>0</td>\n",
       "    </tr>\n",
       "    <tr>\n",
       "      <th>Total</th>\n",
       "      <td></td>\n",
       "      <td>0.6858</td>\n",
       "      <td>513676</td>\n",
       "      <td>64693</td>\n",
       "      <td>9840</td>\n",
       "      <td>1681</td>\n",
       "      <td>281</td>\n",
       "      <td>65</td>\n",
       "      <td>7</td>\n",
       "      <td>1</td>\n",
       "      <td>0</td>\n",
       "      <td>0</td>\n",
       "    </tr>\n",
       "  </tbody>\n",
       "</table>\n",
       "</div>"
      ],
      "text/plain": [
       "                  builder_name   share     e_1    e_2   e_3   e_4  e_5  e_6  \\\n",
       "0                    flashbots  0.2088  131943  26787  5287  1055  202   53   \n",
       "1                  builder0x69  0.1570  112514  16991  2596   410   56   10   \n",
       "2                    bloxroute  0.1114   88166   9496  1001   115   12    1   \n",
       "3              beaverbuild.org  0.1064   85049   8799   897   101   11    1   \n",
       "4                  blocknative  0.0330   30696    973    19     0    0    0   \n",
       "5      https://eth-builder.com  0.0312   29026    877    22     0    0    0   \n",
       "6              coda_geth_linux  0.0271   25562    698    18     0    0    0   \n",
       "7                         eden  0.0074    7342     58     0     0    0    0   \n",
       "8                     manifold  0.0035    3378     14     0     0    0    0   \n",
       "Total                           0.6858  513676  64693  9840  1681  281   65   \n",
       "\n",
       "       e_7  e_8  e_9  e_10  \n",
       "0        7    1    0     0  \n",
       "1        0    0    0     0  \n",
       "2        0    0    0     0  \n",
       "3        0    0    0     0  \n",
       "4        0    0    0     0  \n",
       "5        0    0    0     0  \n",
       "6        0    0    0     0  \n",
       "7        0    0    0     0  \n",
       "8        0    0    0     0  \n",
       "Total    7    1    0     0  "
      ]
     },
     "execution_count": 333,
     "metadata": {},
     "output_type": "execute_result"
    }
   ],
   "source": [
    "expt"
   ]
  },
  {
   "cell_type": "code",
   "execution_count": 336,
   "id": "73f51f7d",
   "metadata": {},
   "outputs": [],
   "source": [
    "expt.rename(columns={'builder_name': 'builder entity'}, inplace=True)\n",
    "expt.rename(columns={'slots': 'blocks'}, inplace=True)\n",
    "expt.rename(columns={'e=1': 'k=1'}, inplace=True)\n",
    "expt.rename(columns={'e=2': 'k=2'}, inplace=True)\n",
    "expt.rename(columns={'e=3': 'k=3'}, inplace=True)\n",
    "expt.rename(columns={'e=4': 'k=4'}, inplace=True)\n",
    "expt.rename(columns={'e=5': 'k=5'}, inplace=True)\n",
    "expt.rename(columns={'e=6': 'k=6'}, inplace=True)\n",
    "expt.rename(columns={'e=7': 'k=7'}, inplace=True)\n",
    "expt.rename(columns={'e=8': 'k=8'}, inplace=True)\n",
    "expt.rename(columns={'e=9': 'k=9'}, inplace=True)\n",
    "expt.rename(columns={'e=10': 'k=10'}, inplace=True)\n",
    "\n",
    "expt['builder entity'].replace('coda_geth_linux', 'x85linux', inplace=True)\n",
    "expt['builder entity'].replace('https://eth-builder.com', 'eth-builder.com', inplace=True)\n",
    "expt['builder entity'].replace('', 'Total', inplace=True)"
   ]
  },
  {
   "cell_type": "code",
   "execution_count": 337,
   "id": "8295621c",
   "metadata": {},
   "outputs": [],
   "source": [
    "expt.to_csv('result_tables/expected_entity.csv', index=False)"
   ]
  },
  {
   "cell_type": "code",
   "execution_count": 301,
   "id": "e8a7e40d",
   "metadata": {},
   "outputs": [],
   "source": [
    "random.seed(1)\n",
    "\n",
    "def montecarlo(p):\n",
    "    num_trials = int(len(df)/32)\n",
    "    r = 2; n = 32; p = p\n",
    "\n",
    "    epoch_proposals = [random.binomial(1, p, size=n) for i in range(num_trials)]\n",
    "\n",
    "    consecutive_proposals = []\n",
    "    for s in epoch_proposals:\n",
    "        consecutive_proposals.append([sum(g) for i, g in groupby(s) if i == 1])\n",
    "\n",
    "    flat = [item for sublist in consecutive_proposals for item in sublist]\n",
    "\n",
    "    return [flat.count(x) for x in set(flat)]"
   ]
  },
  {
   "cell_type": "code",
   "execution_count": 233,
   "id": "0bc146ef",
   "metadata": {},
   "outputs": [],
   "source": []
  },
  {
   "cell_type": "code",
   "execution_count": 234,
   "id": "9268aa01",
   "metadata": {},
   "outputs": [],
   "source": []
  },
  {
   "cell_type": "code",
   "execution_count": 235,
   "id": "4a465589",
   "metadata": {},
   "outputs": [
    {
     "data": {
      "text/plain": [
       "[[1, 131943],\n",
       " [2, 26787],\n",
       " [3, 5287],\n",
       " [4, 1055],\n",
       " [5, 202],\n",
       " [6, 53],\n",
       " [7, 7],\n",
       " [8, 1]]"
      ]
     },
     "execution_count": 235,
     "metadata": {},
     "output_type": "execute_result"
    }
   ],
   "source": []
  },
  {
   "cell_type": "code",
   "execution_count": null,
   "id": "c4ce8136",
   "metadata": {},
   "outputs": [],
   "source": []
  },
  {
   "cell_type": "code",
   "execution_count": null,
   "id": "30ffc369",
   "metadata": {},
   "outputs": [],
   "source": []
  },
  {
   "cell_type": "code",
   "execution_count": null,
   "id": "66c15d2d",
   "metadata": {},
   "outputs": [],
   "source": []
  },
  {
   "cell_type": "code",
   "execution_count": null,
   "id": "b3fc296e",
   "metadata": {},
   "outputs": [],
   "source": []
  },
  {
   "cell_type": "code",
   "execution_count": null,
   "id": "88c291b0",
   "metadata": {},
   "outputs": [],
   "source": []
  },
  {
   "cell_type": "code",
   "execution_count": null,
   "id": "98666113",
   "metadata": {},
   "outputs": [],
   "source": []
  },
  {
   "cell_type": "code",
   "execution_count": null,
   "id": "21bafaf8",
   "metadata": {},
   "outputs": [],
   "source": []
  },
  {
   "cell_type": "code",
   "execution_count": null,
   "id": "402ab17f",
   "metadata": {},
   "outputs": [],
   "source": [
    "p = np.round(len(df[df['builder_name'] == 'beaverbuild.org'])/1500,4)\n",
    "\n",
    "print('In a dataset of', len(df), 'blocks', int(len(df)*12/60/60), 'hours we expect ..')\n",
    "for i in [1,2,3,4,5]:\n",
    "    c = i\n",
    "    no_success, success = prob(c, p)\n",
    "    print(i, 'consecutive blocks: Probability', np.round(float(success),2), '% - Instances:', np.round(float(success)/100*47,0))\n",
    "\n",
    "print('.. proposed by the same builder')\n"
   ]
  },
  {
   "cell_type": "code",
   "execution_count": null,
   "id": "4dea4582",
   "metadata": {},
   "outputs": [],
   "source": [
    "stat = df[df['builder_name'] == 'beaverbuild.org'].groupby(['count']).size().values\n",
    "\n",
    "print('In a dataset of', len(df), 'blocks', int(len(df)*12/60/60), 'hours we find ..')\n",
    "\n",
    "for i, x in enumerate(np.sort(df[df['builder_name'] == 'beaverbuild.org']['count'].unique())):\n",
    "    stat[i] = stat[i]/x\n",
    "    \n",
    "    print(stat[i], 'instances of', i+1, 'consecutive blocks')\n",
    "    \n",
    "print('.. proposed by the same builder')"
   ]
  },
  {
   "cell_type": "code",
   "execution_count": null,
   "id": "84750791",
   "metadata": {},
   "outputs": [],
   "source": [
    "## MATRIX\n",
    "cons_blocks = np.arange(2,5+1) #cons_blocks\n",
    "prob = np.arange(.1,.9+.05,.05)"
   ]
  },
  {
   "cell_type": "code",
   "execution_count": null,
   "id": "6176ab5f",
   "metadata": {},
   "outputs": [],
   "source": [
    "lst = []\n",
    "for p in prob:\n",
    "    lst_temp = []\n",
    "    lst_temp.append(x)\n",
    "    for c in cons_blocks:\n",
    "        no_success, success = prob(c, p)\n",
    "        lst_temp.append(success)\n",
    "    \n",
    "    for z in range(0, len(lst_temp)):\n",
    "        try: \n",
    "            lst_temp[z] = np.round(float(lst_temp[z]), 2)\n",
    "        except TypeError:\n",
    "            lst_temp[z] = 100\n",
    "        \n",
    "    lst.append(lst_temp)\n",
    "        "
   ]
  },
  {
   "cell_type": "code",
   "execution_count": null,
   "id": "dacae7a3",
   "metadata": {},
   "outputs": [],
   "source": [
    "df = pd.DataFrame(lst, columns =['probability', 'k=2', 'k=3', 'k=4', 'k=5', 'k=6', 'k=7', 'k=8', 'k=9', 'k=10'])\n",
    "df = df.set_index('probability')\n",
    "df"
   ]
  },
  {
   "cell_type": "code",
   "execution_count": null,
   "id": "dc044bb6",
   "metadata": {},
   "outputs": [],
   "source": [
    "print('If the market share of MEV boost is p=0.5, then we derive', (38.96/100)*225, 'k=5 consecutive blocks a day.')\n",
    "print('If the market share of MEV boost is p=0.5, then we derive', (38.96/100)*6759, 'k=5 consecutive blocks a month.')\n"
   ]
  }
 ],
 "metadata": {
  "kernelspec": {
   "display_name": "Python 3 (ipykernel)",
   "language": "python",
   "name": "python3"
  },
  "language_info": {
   "codemirror_mode": {
    "name": "ipython",
    "version": 3
   },
   "file_extension": ".py",
   "mimetype": "text/x-python",
   "name": "python",
   "nbconvert_exporter": "python",
   "pygments_lexer": "ipython3",
   "version": "3.8.3"
  }
 },
 "nbformat": 4,
 "nbformat_minor": 5
}
