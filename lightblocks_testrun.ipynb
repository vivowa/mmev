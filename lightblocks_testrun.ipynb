{
 "cells": [
  {
   "cell_type": "code",
   "execution_count": 1,
   "id": "0b5d2c21",
   "metadata": {},
   "outputs": [],
   "source": [
    "import pandas as pd\n",
    "import numpy as np\n",
    "import matplotlib.pyplot as plt\n",
    "\n",
    "from sympy import *"
   ]
  },
  {
   "cell_type": "markdown",
   "id": "300e9a50",
   "metadata": {},
   "source": [
    "### cleaning"
   ]
  },
  {
   "cell_type": "code",
   "execution_count": null,
   "id": "9a50039b",
   "metadata": {},
   "outputs": [],
   "source": [
    "df_b = pd.read_csv('data/BBRs_5538500_5538999.csv')\n"
   ]
  },
  {
   "cell_type": "code",
   "execution_count": null,
   "id": "2424bbea",
   "metadata": {},
   "outputs": [],
   "source": [
    "df_p = pd.read_csv('data/custom_ppds_output.csv')\n",
    "df_p"
   ]
  },
  {
   "cell_type": "code",
   "execution_count": null,
   "id": "18f5f6a5",
   "metadata": {},
   "outputs": [],
   "source": [
    "df_p.sort_values(by='slot', ascending=True, inplace=True)"
   ]
  },
  {
   "cell_type": "code",
   "execution_count": null,
   "id": "82a43702",
   "metadata": {},
   "outputs": [],
   "source": [
    "df_p.drop_duplicates(subset=['slot'], keep='first', inplace=True)"
   ]
  },
  {
   "cell_type": "code",
   "execution_count": null,
   "id": "613efcc1",
   "metadata": {},
   "outputs": [],
   "source": [
    "df_p.reset_index(drop=True, inplace=True)"
   ]
  },
  {
   "cell_type": "code",
   "execution_count": null,
   "id": "8407c055",
   "metadata": {},
   "outputs": [],
   "source": [
    "df_p.rename(columns={'buidler_pubkey': 'builder_pubkey'}, inplace=True)\n",
    "df_p.rename(columns={'buidler_name': 'builder_name'}, inplace=True)\n"
   ]
  },
  {
   "cell_type": "code",
   "execution_count": null,
   "id": "c4e1ba03",
   "metadata": {},
   "outputs": [],
   "source": [
    "df_p.info()"
   ]
  },
  {
   "cell_type": "code",
   "execution_count": null,
   "id": "85694c73",
   "metadata": {},
   "outputs": [],
   "source": [
    "print(df_p['builder_name'].unique())\n",
    "df_p = df_p[['slot', 'block_hash', 'block_reward', 'gas_used', 'validator_pubkey', 'builder_pubkey', 'builder_name', 'relay_name']]\n"
   ]
  },
  {
   "cell_type": "code",
   "execution_count": null,
   "id": "acae263c",
   "metadata": {},
   "outputs": [],
   "source": [
    "df_p['boosted'] = True"
   ]
  },
  {
   "cell_type": "code",
   "execution_count": null,
   "id": "c5457055",
   "metadata": {},
   "outputs": [],
   "source": [
    "slot = np.arange(4700013, df_p['slot'].max())\n",
    "# first slot after Ethereum merge https://etherscan.io/block/15537394\n",
    "df = pd.DataFrame(slot, columns = ['slot'])\n"
   ]
  },
  {
   "cell_type": "code",
   "execution_count": null,
   "id": "4d6d8a71",
   "metadata": {},
   "outputs": [],
   "source": [
    "df = df.merge(df_p, how='left', on='slot')\n",
    "df['builder_name'].fillna('No builder', inplace=True)\n",
    "df['builder_name'].replace('Ø\\x83\\x01\\x0b\\x84geth\\x88go1.19.1\\x85linux', 'coda_geth_linux', inplace=True)\n"
   ]
  },
  {
   "cell_type": "markdown",
   "id": "c9ff51f3",
   "metadata": {},
   "source": [
    "### descriptive statistics"
   ]
  },
  {
   "cell_type": "code",
   "execution_count": 13,
   "id": "ccda7a98",
   "metadata": {},
   "outputs": [],
   "source": [
    "slots_per_hour = 5*60\n",
    "slots_per_day = 5*60*24\n",
    "\n",
    "total_slots = len(df)\n",
    "total_epochs = int(len(df)/32)\n",
    "total_days = total_slots / slots_per_day"
   ]
  },
  {
   "cell_type": "code",
   "execution_count": null,
   "id": "dc2a7221",
   "metadata": {},
   "outputs": [],
   "source": [
    "fltr = 'builder_name'\n",
    "#fltr = 'builder_pubkey'\n",
    "\n",
    "df['count'] = 1\n",
    "df['position'] = 1\n",
    "count = 0\n",
    "for i in range(0, len(df)):\n",
    "    check = (df[fltr].iloc[i] == df[fltr].iloc[i-1]) & (df[fltr].iloc[i] != 'Unknown') & (df[fltr].iloc[i] != 'No builder')\n",
    "    \n",
    "    if check == True:\n",
    "        if count == 0:\n",
    "            count = 2\n",
    "        else:\n",
    "            count += 1\n",
    "\n",
    "    elif (check == False) & (count == 0):\n",
    "            continue\n",
    "\n",
    "    elif (check == False) & (count != 0):\n",
    "        for j in range(1, count+1):\n",
    "            df['count'].iloc[i-j] = count\n",
    "            df['position'].iloc[i-j] = count+1-j\n",
    "\n",
    "        count = 0\n",
    "\n",
    "\n"
   ]
  },
  {
   "cell_type": "code",
   "execution_count": null,
   "id": "f3825056",
   "metadata": {
    "scrolled": true
   },
   "outputs": [],
   "source": [
    "#df['block_reward'].fillna((df[df['count'] == 1]['block_reward'].mean()), inplace=True)"
   ]
  },
  {
   "cell_type": "code",
   "execution_count": null,
   "id": "ad5fa4cd",
   "metadata": {},
   "outputs": [],
   "source": [
    "df_backup = df.copy()"
   ]
  },
  {
   "cell_type": "code",
   "execution_count": null,
   "id": "0a2fee58",
   "metadata": {},
   "outputs": [],
   "source": [
    "df.groupby(df['count']).size()"
   ]
  },
  {
   "cell_type": "code",
   "execution_count": 97,
   "id": "61621f0b",
   "metadata": {},
   "outputs": [
    {
     "name": "stdout",
     "output_type": "stream",
     "text": [
      "In a dataset of 886743 blocks 123 days we find:\n",
      "704941 instances of 1 consecutive blocks\n",
      "63099 instances of 2 consecutive blocks\n",
      "12652 instances of 3 consecutive blocks\n",
      "2887 instances of 4 consecutive blocks\n",
      "756 instances of 5 consecutive blocks\n",
      "222 instances of 6 consecutive blocks\n",
      "80 instances of 7 consecutive blocks\n",
      "24 instances of 8 consecutive blocks\n",
      "16 instances of 9 consecutive blocks\n",
      "4 instances of 10 consecutive blocks\n",
      "2 instances of 11 consecutive blocks\n",
      "1 instances of 13 consecutive blocks\n",
      "1 instances of 17 consecutive blocks\n",
      "proposed by the same builder\n"
     ]
    }
   ],
   "source": [
    "stat = df.groupby(df['count']).size().values\n",
    "\n",
    "temp = df['count'].unique()\n",
    "temp.sort()\n",
    "\n",
    "print('In a dataset of', len(df), 'blocks', int(len(df)*12/60/60/24), 'days we find:')\n",
    "\n",
    "for i, x in enumerate(temp):\n",
    "    stat[i] = stat[i]/x\n",
    "    \n",
    "    print(stat[i], 'instances of', x, 'consecutive blocks')\n",
    "\n",
    "print('proposed by the same builder')"
   ]
  },
  {
   "cell_type": "code",
   "execution_count": null,
   "id": "926f37f1",
   "metadata": {},
   "outputs": [],
   "source": [
    "print(stat[0]/len(df), '% normal blocks')\n",
    "print(stat[1]*2/len(df), '% k=2 blocks')\n",
    "print(stat[2]*3/len(df), '% k=3 blocks')\n",
    "print(stat[3]*4/len(df), '% k=4 blocks')\n",
    "print(1-stat[0]/len(df)-stat[1]*2/len(df)-stat[2]*3/len(df)-stat[3]*4/len(df))"
   ]
  },
  {
   "cell_type": "code",
   "execution_count": null,
   "id": "f7a632f1",
   "metadata": {},
   "outputs": [],
   "source": [
    "5*60*24*stat[1]*2/len(df)/2"
   ]
  },
  {
   "cell_type": "code",
   "execution_count": null,
   "id": "8d7199a0",
   "metadata": {
    "scrolled": true
   },
   "outputs": [],
   "source": [
    "print(df['builder_name'].unique())\n",
    "print(df.groupby(df['builder_name']).size().sort_values(ascending=False))"
   ]
  },
  {
   "cell_type": "code",
   "execution_count": null,
   "id": "3efc3f5a",
   "metadata": {},
   "outputs": [],
   "source": [
    "lst = list(df['builder_name'].unique())\n",
    "calc = pd.DataFrame(lst, columns = ['builder_name'])\n",
    "\n",
    "temp_lst = []\n",
    "for x in lst:\n",
    "    temp_lst.append(len(df[df['builder_name'] == x]))\n",
    "\n",
    "calc['slots'] = temp_lst\n",
    "\n",
    "calc['share'] = np.round(calc['slots']/len(df),4)\n",
    "\n",
    "for i in range(1,20+1):\n",
    "    temp_lst = []\n",
    "    \n",
    "    for x in lst:\n",
    "        temp_lst.append(int(len(df[(df['builder_name'] == x) & (df['count'] == i)])/i))\n",
    "    \n",
    "    name = f'k_{i}'\n",
    "    calc[name] = temp_lst\n",
    "\n",
    "calc"
   ]
  },
  {
   "cell_type": "code",
   "execution_count": null,
   "id": "72acfc9c",
   "metadata": {},
   "outputs": [],
   "source": [
    "calc.iloc[:,0:13]"
   ]
  },
  {
   "cell_type": "code",
   "execution_count": null,
   "id": "734969f5",
   "metadata": {},
   "outputs": [],
   "source": [
    "df['epoch'] = 1663224179"
   ]
  },
  {
   "cell_type": "code",
   "execution_count": null,
   "id": "ccb5bf90",
   "metadata": {},
   "outputs": [],
   "source": [
    "def multiply_row_index(df, column_name):\n",
    "    for index, row in df.iterrows():\n",
    "        df.at[index, column_name] = row[column_name] + index*12\n",
    "    return df\n",
    "\n",
    "df = multiply_row_index(df, 'epoch')"
   ]
  },
  {
   "cell_type": "code",
   "execution_count": null,
   "id": "2b2189dd",
   "metadata": {},
   "outputs": [],
   "source": [
    "df['date'] = pd.to_datetime(df['epoch'],  unit='s', utc=True)"
   ]
  },
  {
   "cell_type": "code",
   "execution_count": null,
   "id": "848342ab",
   "metadata": {},
   "outputs": [],
   "source": [
    "df['date'] = df['date'].dt.strftime('%d-%m-%Y %H:%M:%S')"
   ]
  },
  {
   "cell_type": "code",
   "execution_count": null,
   "id": "0e97041f",
   "metadata": {},
   "outputs": [],
   "source": [
    "df.to_csv('data/df.csv', index=False)"
   ]
  },
  {
   "cell_type": "code",
   "execution_count": 54,
   "id": "92c07803",
   "metadata": {},
   "outputs": [],
   "source": [
    "df = pd.read_csv('data/df.csv')\n",
    "df = df.drop('Unnamed: 0', axis=1)\n",
    "df['date'] = pd.to_datetime(df['epoch'],  unit='s', utc=True)\n"
   ]
  },
  {
   "cell_type": "code",
   "execution_count": 42,
   "id": "5db93c00",
   "metadata": {},
   "outputs": [],
   "source": [
    "df['date'] = df['date'].dt.strftime('%d-%m-%Y %H:%M:%S')"
   ]
  },
  {
   "cell_type": "markdown",
   "id": "6592410e",
   "metadata": {},
   "source": [
    "### plotting descriptive"
   ]
  },
  {
   "cell_type": "markdown",
   "id": "17127197",
   "metadata": {},
   "source": [
    "#plot distribution over builder"
   ]
  },
  {
   "cell_type": "code",
   "execution_count": 79,
   "id": "93d736e7",
   "metadata": {},
   "outputs": [
    {
     "name": "stdout",
     "output_type": "stream",
     "text": [
      "236167 blocks without PBS\n",
      "650576 blocks with PBS\n",
      "73.3669169082812 %\n"
     ]
    }
   ],
   "source": [
    "print(len(df[df['boosted'] != True]), 'blocks without PBS') \n",
    "print(len(df[df['boosted'] == True]), 'blocks with PBS')\n",
    "print(len(df[df['boosted'] == True])/len(df)*100, '%')\n"
   ]
  },
  {
   "cell_type": "code",
   "execution_count": 65,
   "id": "eba54e4f",
   "metadata": {},
   "outputs": [
    {
     "data": {
      "text/plain": [
       "5586755"
      ]
     },
     "execution_count": 65,
     "metadata": {},
     "output_type": "execute_result"
    }
   ],
   "source": [
    "df['slot'].iloc[-1]"
   ]
  },
  {
   "cell_type": "code",
   "execution_count": 80,
   "id": "c05a17e8",
   "metadata": {},
   "outputs": [
    {
     "data": {
      "text/plain": [
       "0              NaN\n",
       "1              NaN\n",
       "2              NaN\n",
       "3              NaN\n",
       "4              NaN\n",
       "            ...   \n",
       "886738    0.907222\n",
       "886739    0.907222\n",
       "886740    0.907222\n",
       "886741    0.907083\n",
       "886742    0.907083\n",
       "Name: boosted, Length: 886743, dtype: float64"
      ]
     },
     "execution_count": 80,
     "metadata": {},
     "output_type": "execute_result"
    }
   ],
   "source": [
    "df['boosted'].rolling(slots_per_day, min_periods=1).sum()/slots_per_day"
   ]
  },
  {
   "cell_type": "code",
   "execution_count": 78,
   "id": "6b37b740",
   "metadata": {},
   "outputs": [
    {
     "name": "stderr",
     "output_type": "stream",
     "text": [
      "/var/folders/1l/dlmzk3fn30g9wwk6y58j36c00000gn/T/ipykernel_25809/3482829089.py:23: UserWarning: FixedFormatter should only be used together with FixedLocator\n",
      "  ax.set_yticklabels(['{:,.0%}'.format(x) for x in vals])\n"
     ]
    },
    {
     "data": {
      "image/png": "[encoded data removed]",
      "text/plain": [
       "<Figure size 1000x500 with 1 Axes>"
      ]
     },
     "metadata": {},
     "output_type": "display_data"
    }
   ],
   "source": [
    "fig, ax = plt.subplots(figsize =(10, 5))\n",
    "\n",
    "ax.plot(df['slot'], df['boosted'].rolling(slots_per_day, min_periods=1).sum()/slots_per_day)\n",
    "\n",
    "# ax.ticklabel_format(style='plain')\n",
    "\n",
    "ax.grid(axis='y', linestyle='--', linewidth=.5)\n",
    "\n",
    "s = df['slot'].iloc[0]\n",
    "o = df[df['date'] >= '2022-10-01 00:00:00']['slot'].values[0]\n",
    "n = df[df['date'] >= '2022-11-01 00:00:00']['slot'].values[0]\n",
    "d = df[df['date'] >= '2022-12-01 00:00:00']['slot'].values[0]\n",
    "j = df[df['date'] >= '2023-01-01 00:00:00']['slot'].values[0]\n",
    "f = df['slot'].iloc[-1]+1e5\n",
    "\n",
    "\n",
    "plt.xticks([s, o, n, d, j, f], ['15 Sep 22', 'Oct 22', 'Nov 22', 'Dec 22', 'Jan 23', 'Feb 23'])\n",
    "       \n",
    "left, right = plt.xlim()\n",
    "ax.set_xlim(left+1, right-0)\n",
    "\n",
    "vals = ax.get_yticks()\n",
    "ax.set_yticklabels(['{:,.0%}'.format(x) for x in vals])\n",
    "\n",
    "plt.savefig(f'figures/mev_boost.png')\n",
    "\n",
    "plt.show()"
   ]
  },
  {
   "cell_type": "code",
   "execution_count": 82,
   "id": "cd1f661a",
   "metadata": {},
   "outputs": [],
   "source": [
    "bins = np.arange(df['slot'].min(), df['slot'].max(), slots_per_day)\n",
    "data = []\n",
    "for i in range(0, len(bins)-1):\n",
    "        data.append(df[(df['slot'] >= bins[i]) & (df['slot'] < bins[i+1])]['block_reward'].mean())"
   ]
  },
  {
   "cell_type": "code",
   "execution_count": 83,
   "id": "0ca4c789",
   "metadata": {},
   "outputs": [
    {
     "name": "stderr",
     "output_type": "stream",
     "text": [
      "/var/folders/1l/dlmzk3fn30g9wwk6y58j36c00000gn/T/ipykernel_25809/117954857.py:13: UserWarning: FixedFormatter should only be used together with FixedLocator\n",
      "  ax.set_yticklabels(['{:,.2f}'.format(x)+' ETH' for x in vals])\n"
     ]
    },
    {
     "data": {
      "image/png": "[encoded data removed]",
      "text/plain": [
       "<Figure size 1200x600 with 1 Axes>"
      ]
     },
     "metadata": {},
     "output_type": "display_data"
    }
   ],
   "source": [
    "fig, ax = plt.subplots(figsize =(12, 6))\n",
    "\n",
    "ax.bar(np.arange(1,len(data)+1), data, width = 0.5)\n",
    "ax.grid(axis='y', linestyle='--', linewidth=.5)\n",
    "\n",
    "left, right = plt.xlim()\n",
    "ax.set_xlim(left+5, right-5)\n",
    "\n",
    "ax.set_ylabel('Builder payment')\n",
    "ax.set_xlabel('Day')\n",
    "\n",
    "vals = ax.get_yticks()\n",
    "ax.set_yticklabels(['{:,.2f}'.format(x)+' ETH' for x in vals])\n",
    "\n",
    "# show plot\n",
    "plt.show()"
   ]
  },
  {
   "cell_type": "markdown",
   "id": "9608536b",
   "metadata": {},
   "source": [
    "ToDo add percentage; trend line; rate of increase.."
   ]
  },
  {
   "cell_type": "markdown",
   "id": "6f0cc1ca",
   "metadata": {},
   "source": [
    "### plotting analysis"
   ]
  },
  {
   "cell_type": "code",
   "execution_count": 84,
   "id": "ef1a52b9",
   "metadata": {},
   "outputs": [
    {
     "name": "stderr",
     "output_type": "stream",
     "text": [
      "/var/folders/1l/dlmzk3fn30g9wwk6y58j36c00000gn/T/ipykernel_25809/2613085636.py:5: SettingWithCopyWarning: \n",
      "A value is trying to be set on a copy of a slice from a DataFrame\n",
      "\n",
      "See the caveats in the documentation: https://pandas.pydata.org/pandas-docs/stable/user_guide/indexing.html#returning-a-view-versus-a-copy\n",
      "  slc.dropna(subset=['block_reward'], inplace=True)\n",
      "/var/folders/1l/dlmzk3fn30g9wwk6y58j36c00000gn/T/ipykernel_25809/2613085636.py:20: UserWarning: FixedFormatter should only be used together with FixedLocator\n",
      "  ax.set_yticklabels(['{:,.2f}'.format(x)+' ETH' for x in vals])\n"
     ]
    },
    {
     "data": {
      "image/png": "[encoded data removed]",
      "text/plain": [
       "<Figure size 800x800 with 1 Axes>"
      ]
     },
     "metadata": {},
     "output_type": "display_data"
    }
   ],
   "source": [
    "temp = df['count'].unique()\n",
    "temp.sort()\n",
    "\n",
    "slc = df[df['count'] <= 10]\n",
    "slc.dropna(subset=['block_reward'], inplace=True)\n",
    "\n",
    "data = []\n",
    "for x in temp:\n",
    "    data.append(list(slc[slc['count']==x]['block_reward']))\n",
    "\n",
    "fig, ax = plt.subplots(figsize =(8, 8))\n",
    "\n",
    "ax.boxplot(data, showfliers=False)\n",
    "ax.grid(axis='y', linestyle='--', linewidth=.5)\n",
    "\n",
    "ax.set_ylabel('Builder payment')\n",
    "ax.set_xlabel('Consecutive blocks')\n",
    "\n",
    "vals = ax.get_yticks()\n",
    "ax.set_yticklabels(['{:,.2f}'.format(x)+' ETH' for x in vals])\n",
    "\n",
    "plt.xticks(temp)\n",
    "\n",
    "plt.savefig(f'figures/payment_pubkey.png')\n",
    "plt.show()\n"
   ]
  },
  {
   "cell_type": "code",
   "execution_count": 85,
   "id": "50ad172a",
   "metadata": {},
   "outputs": [],
   "source": [
    "def q25(x):\n",
    "    return x.quantile(0.25)\n",
    "\n",
    "def q75(x):\n",
    "    return x.quantile(0.75)"
   ]
  },
  {
   "cell_type": "code",
   "execution_count": null,
   "id": "66b3ae22",
   "metadata": {},
   "outputs": [],
   "source": [
    "#exclude without significant data\n",
    "lst = df[df['count'] >= 9].index\n",
    "\n",
    "df.drop(lst, inplace=True)"
   ]
  },
  {
   "cell_type": "code",
   "execution_count": 86,
   "id": "3406c942",
   "metadata": {},
   "outputs": [
    {
     "name": "stderr",
     "output_type": "stream",
     "text": [
      "/var/folders/1l/dlmzk3fn30g9wwk6y58j36c00000gn/T/ipykernel_25809/188394192.py:32: UserWarning: FixedFormatter should only be used together with FixedLocator\n",
      "  ax.set_yticklabels(['{:,.2f}'.format(x)+' ETH' for x in vals])\n"
     ]
    },
    {
     "data": {
      "image/png": "[encoded data removed]",
      "text/plain": [
       "<Figure size 800x800 with 1 Axes>"
      ]
     },
     "metadata": {},
     "output_type": "display_data"
    }
   ],
   "source": [
    "#how much do builder pay on average for consecutive blocks\n",
    "\n",
    "#add cumulative payment\n",
    "\n",
    "slc = df[df['count'] <= 10]\n",
    "\n",
    "\n",
    "fig, ax = plt.subplots(figsize =(8, 8))\n",
    "\n",
    "x = list(slc['position'].unique())\n",
    "\n",
    "ax.plot(x, slc['block_reward'].groupby(slc['position']).median())\n",
    "ax.grid(axis='y', linestyle='--', linewidth=.5)\n",
    "\n",
    "\n",
    "y1 = slc.groupby(['position']).agg({'block_reward': [q25]})\n",
    "y2 = slc.groupby(['position']).agg({'block_reward': [q75]})\n",
    "ax.plot(x, y1, x, y2, color='grey', linewidth=.5)\n",
    "\n",
    "ax.fill_between(x, list(y1.iloc[:, 0]), list(y2.iloc[:, 0]), facecolor='lightgrey', alpha=.75)\n",
    "\n",
    "\n",
    "#data = slc[df['count'] >= 2]\n",
    "#ax.scatter(data['position'], data['block_reward'], s = .05, alpha = .75)\n",
    "\n",
    "ax.set_ylabel('Builder payment')\n",
    "ax.set_xlabel('n position in consecutive blocks')\n",
    "\n",
    "plt.ylim(0, .15)\n",
    "\n",
    "vals = ax.get_yticks()\n",
    "ax.set_yticklabels(['{:,.2f}'.format(x)+' ETH' for x in vals])\n",
    "\n",
    "plt.xticks(list(slc['position'].unique()))\n",
    "\n",
    "plt.savefig(f'figures/payment_position_pubkey.png')\n",
    "\n",
    "plt.show()\n"
   ]
  },
  {
   "cell_type": "code",
   "execution_count": 87,
   "id": "43739a44",
   "metadata": {},
   "outputs": [
    {
     "data": {
      "text/html": [
       "<div>\n",
       "<style scoped>\n",
       "    .dataframe tbody tr th:only-of-type {\n",
       "        vertical-align: middle;\n",
       "    }\n",
       "\n",
       "    .dataframe tbody tr th {\n",
       "        vertical-align: top;\n",
       "    }\n",
       "\n",
       "    .dataframe thead th {\n",
       "        text-align: right;\n",
       "    }\n",
       "</style>\n",
       "<table border=\"1\" class=\"dataframe\">\n",
       "  <thead>\n",
       "    <tr style=\"text-align: right;\">\n",
       "      <th></th>\n",
       "      <th>slot</th>\n",
       "      <th>block_hash</th>\n",
       "      <th>block_reward</th>\n",
       "      <th>gas_used</th>\n",
       "      <th>validator_pubkey</th>\n",
       "      <th>builder_pubkey</th>\n",
       "      <th>builder_name</th>\n",
       "      <th>relay_name</th>\n",
       "      <th>boosted</th>\n",
       "      <th>count</th>\n",
       "      <th>position</th>\n",
       "      <th>epoch</th>\n",
       "      <th>date</th>\n",
       "    </tr>\n",
       "  </thead>\n",
       "  <tbody>\n",
       "    <tr>\n",
       "      <th>0</th>\n",
       "      <td>4700013</td>\n",
       "      <td>NaN</td>\n",
       "      <td>NaN</td>\n",
       "      <td>NaN</td>\n",
       "      <td>NaN</td>\n",
       "      <td>NaN</td>\n",
       "      <td>No builder</td>\n",
       "      <td>NaN</td>\n",
       "      <td>NaN</td>\n",
       "      <td>1</td>\n",
       "      <td>1</td>\n",
       "      <td>1663224179</td>\n",
       "      <td>2022-09-15 06:42:59+00:00</td>\n",
       "    </tr>\n",
       "    <tr>\n",
       "      <th>1</th>\n",
       "      <td>4700014</td>\n",
       "      <td>NaN</td>\n",
       "      <td>NaN</td>\n",
       "      <td>NaN</td>\n",
       "      <td>NaN</td>\n",
       "      <td>NaN</td>\n",
       "      <td>No builder</td>\n",
       "      <td>NaN</td>\n",
       "      <td>NaN</td>\n",
       "      <td>1</td>\n",
       "      <td>1</td>\n",
       "      <td>1663224191</td>\n",
       "      <td>2022-09-15 06:43:11+00:00</td>\n",
       "    </tr>\n",
       "    <tr>\n",
       "      <th>2</th>\n",
       "      <td>4700015</td>\n",
       "      <td>NaN</td>\n",
       "      <td>NaN</td>\n",
       "      <td>NaN</td>\n",
       "      <td>NaN</td>\n",
       "      <td>NaN</td>\n",
       "      <td>No builder</td>\n",
       "      <td>NaN</td>\n",
       "      <td>NaN</td>\n",
       "      <td>1</td>\n",
       "      <td>1</td>\n",
       "      <td>1663224203</td>\n",
       "      <td>2022-09-15 06:43:23+00:00</td>\n",
       "    </tr>\n",
       "    <tr>\n",
       "      <th>3</th>\n",
       "      <td>4700016</td>\n",
       "      <td>NaN</td>\n",
       "      <td>NaN</td>\n",
       "      <td>NaN</td>\n",
       "      <td>NaN</td>\n",
       "      <td>NaN</td>\n",
       "      <td>No builder</td>\n",
       "      <td>NaN</td>\n",
       "      <td>NaN</td>\n",
       "      <td>1</td>\n",
       "      <td>1</td>\n",
       "      <td>1663224215</td>\n",
       "      <td>2022-09-15 06:43:35+00:00</td>\n",
       "    </tr>\n",
       "    <tr>\n",
       "      <th>4</th>\n",
       "      <td>4700017</td>\n",
       "      <td>NaN</td>\n",
       "      <td>NaN</td>\n",
       "      <td>NaN</td>\n",
       "      <td>NaN</td>\n",
       "      <td>NaN</td>\n",
       "      <td>No builder</td>\n",
       "      <td>NaN</td>\n",
       "      <td>NaN</td>\n",
       "      <td>1</td>\n",
       "      <td>1</td>\n",
       "      <td>1663224227</td>\n",
       "      <td>2022-09-15 06:43:47+00:00</td>\n",
       "    </tr>\n",
       "    <tr>\n",
       "      <th>...</th>\n",
       "      <td>...</td>\n",
       "      <td>...</td>\n",
       "      <td>...</td>\n",
       "      <td>...</td>\n",
       "      <td>...</td>\n",
       "      <td>...</td>\n",
       "      <td>...</td>\n",
       "      <td>...</td>\n",
       "      <td>...</td>\n",
       "      <td>...</td>\n",
       "      <td>...</td>\n",
       "      <td>...</td>\n",
       "      <td>...</td>\n",
       "    </tr>\n",
       "    <tr>\n",
       "      <th>886738</th>\n",
       "      <td>5586751</td>\n",
       "      <td>NaN</td>\n",
       "      <td>NaN</td>\n",
       "      <td>NaN</td>\n",
       "      <td>NaN</td>\n",
       "      <td>NaN</td>\n",
       "      <td>No builder</td>\n",
       "      <td>NaN</td>\n",
       "      <td>NaN</td>\n",
       "      <td>1</td>\n",
       "      <td>1</td>\n",
       "      <td>1673865035</td>\n",
       "      <td>2023-01-16 10:30:35+00:00</td>\n",
       "    </tr>\n",
       "    <tr>\n",
       "      <th>886739</th>\n",
       "      <td>5586752</td>\n",
       "      <td>0xad1be4394d52d6f848baa216ccfac0b250cd51f5a4a2...</td>\n",
       "      <td>0.045863</td>\n",
       "      <td>25229702.0</td>\n",
       "      <td>0xa7b4840468fbd50602db4cf35a56af9ea11fffac41b5...</td>\n",
       "      <td>0x9000009807ed12c1f08bf4e81c6da3ba8e3fc3d95389...</td>\n",
       "      <td>blocknative</td>\n",
       "      <td>Blocknative</td>\n",
       "      <td>True</td>\n",
       "      <td>1</td>\n",
       "      <td>1</td>\n",
       "      <td>1673865047</td>\n",
       "      <td>2023-01-16 10:30:47+00:00</td>\n",
       "    </tr>\n",
       "    <tr>\n",
       "      <th>886740</th>\n",
       "      <td>5586753</td>\n",
       "      <td>0xff6dbe03e2510fa1430e12a2f2746f4ffc440ea8f1d2...</td>\n",
       "      <td>0.015468</td>\n",
       "      <td>13140362.0</td>\n",
       "      <td>0x89fd95e3bb0da3d02ca91285c334a1b57f2e22547fef...</td>\n",
       "      <td>0xa971c4ee4ac5d47e0fb9e16be05981bfe51458f14c06...</td>\n",
       "      <td>builder0x69</td>\n",
       "      <td>Flashbots</td>\n",
       "      <td>True</td>\n",
       "      <td>1</td>\n",
       "      <td>1</td>\n",
       "      <td>1673865059</td>\n",
       "      <td>2023-01-16 10:30:59+00:00</td>\n",
       "    </tr>\n",
       "    <tr>\n",
       "      <th>886741</th>\n",
       "      <td>5586754</td>\n",
       "      <td>NaN</td>\n",
       "      <td>NaN</td>\n",
       "      <td>NaN</td>\n",
       "      <td>NaN</td>\n",
       "      <td>NaN</td>\n",
       "      <td>No builder</td>\n",
       "      <td>NaN</td>\n",
       "      <td>NaN</td>\n",
       "      <td>1</td>\n",
       "      <td>1</td>\n",
       "      <td>1673865071</td>\n",
       "      <td>2023-01-16 10:31:11+00:00</td>\n",
       "    </tr>\n",
       "    <tr>\n",
       "      <th>886742</th>\n",
       "      <td>5586755</td>\n",
       "      <td>0xadd1f3c9daf25e57a49f34ce8aa9acd51816395cc194...</td>\n",
       "      <td>0.024059</td>\n",
       "      <td>10850676.0</td>\n",
       "      <td>0xad529b90e01cb5de1dfb8d169d4cfc2d8c9b8e46a63c...</td>\n",
       "      <td>0x96a59d355b1f65e270b29981dd113625732539e955a1...</td>\n",
       "      <td>beaverbuild.org</td>\n",
       "      <td>Flashbots</td>\n",
       "      <td>True</td>\n",
       "      <td>1</td>\n",
       "      <td>1</td>\n",
       "      <td>1673865083</td>\n",
       "      <td>2023-01-16 10:31:23+00:00</td>\n",
       "    </tr>\n",
       "  </tbody>\n",
       "</table>\n",
       "<p>886743 rows × 13 columns</p>\n",
       "</div>"
      ],
      "text/plain": [
       "           slot                                         block_hash  \\\n",
       "0       4700013                                                NaN   \n",
       "1       4700014                                                NaN   \n",
       "2       4700015                                                NaN   \n",
       "3       4700016                                                NaN   \n",
       "4       4700017                                                NaN   \n",
       "...         ...                                                ...   \n",
       "886738  5586751                                                NaN   \n",
       "886739  5586752  0xad1be4394d52d6f848baa216ccfac0b250cd51f5a4a2...   \n",
       "886740  5586753  0xff6dbe03e2510fa1430e12a2f2746f4ffc440ea8f1d2...   \n",
       "886741  5586754                                                NaN   \n",
       "886742  5586755  0xadd1f3c9daf25e57a49f34ce8aa9acd51816395cc194...   \n",
       "\n",
       "        block_reward    gas_used  \\\n",
       "0                NaN         NaN   \n",
       "1                NaN         NaN   \n",
       "2                NaN         NaN   \n",
       "3                NaN         NaN   \n",
       "4                NaN         NaN   \n",
       "...              ...         ...   \n",
       "886738           NaN         NaN   \n",
       "886739      0.045863  25229702.0   \n",
       "886740      0.015468  13140362.0   \n",
       "886741           NaN         NaN   \n",
       "886742      0.024059  10850676.0   \n",
       "\n",
       "                                         validator_pubkey  \\\n",
       "0                                                     NaN   \n",
       "1                                                     NaN   \n",
       "2                                                     NaN   \n",
       "3                                                     NaN   \n",
       "4                                                     NaN   \n",
       "...                                                   ...   \n",
       "886738                                                NaN   \n",
       "886739  0xa7b4840468fbd50602db4cf35a56af9ea11fffac41b5...   \n",
       "886740  0x89fd95e3bb0da3d02ca91285c334a1b57f2e22547fef...   \n",
       "886741                                                NaN   \n",
       "886742  0xad529b90e01cb5de1dfb8d169d4cfc2d8c9b8e46a63c...   \n",
       "\n",
       "                                           builder_pubkey     builder_name  \\\n",
       "0                                                     NaN       No builder   \n",
       "1                                                     NaN       No builder   \n",
       "2                                                     NaN       No builder   \n",
       "3                                                     NaN       No builder   \n",
       "4                                                     NaN       No builder   \n",
       "...                                                   ...              ...   \n",
       "886738                                                NaN       No builder   \n",
       "886739  0x9000009807ed12c1f08bf4e81c6da3ba8e3fc3d95389...      blocknative   \n",
       "886740  0xa971c4ee4ac5d47e0fb9e16be05981bfe51458f14c06...      builder0x69   \n",
       "886741                                                NaN       No builder   \n",
       "886742  0x96a59d355b1f65e270b29981dd113625732539e955a1...  beaverbuild.org   \n",
       "\n",
       "         relay_name boosted  count  position       epoch  \\\n",
       "0               NaN     NaN      1         1  1663224179   \n",
       "1               NaN     NaN      1         1  1663224191   \n",
       "2               NaN     NaN      1         1  1663224203   \n",
       "3               NaN     NaN      1         1  1663224215   \n",
       "4               NaN     NaN      1         1  1663224227   \n",
       "...             ...     ...    ...       ...         ...   \n",
       "886738          NaN     NaN      1         1  1673865035   \n",
       "886739  Blocknative    True      1         1  1673865047   \n",
       "886740    Flashbots    True      1         1  1673865059   \n",
       "886741          NaN     NaN      1         1  1673865071   \n",
       "886742    Flashbots    True      1         1  1673865083   \n",
       "\n",
       "                            date  \n",
       "0      2022-09-15 06:42:59+00:00  \n",
       "1      2022-09-15 06:43:11+00:00  \n",
       "2      2022-09-15 06:43:23+00:00  \n",
       "3      2022-09-15 06:43:35+00:00  \n",
       "4      2022-09-15 06:43:47+00:00  \n",
       "...                          ...  \n",
       "886738 2023-01-16 10:30:35+00:00  \n",
       "886739 2023-01-16 10:30:47+00:00  \n",
       "886740 2023-01-16 10:30:59+00:00  \n",
       "886741 2023-01-16 10:31:11+00:00  \n",
       "886742 2023-01-16 10:31:23+00:00  \n",
       "\n",
       "[886743 rows x 13 columns]"
      ]
     },
     "execution_count": 87,
     "metadata": {},
     "output_type": "execute_result"
    }
   ],
   "source": [
    "df"
   ]
  },
  {
   "cell_type": "code",
   "execution_count": 93,
   "id": "0f891c0a",
   "metadata": {},
   "outputs": [
    {
     "data": {
      "image/png": "[encoded data removed]",
      "text/plain": [
       "<Figure size 800x800 with 1 Axes>"
      ]
     },
     "metadata": {},
     "output_type": "display_data"
    }
   ],
   "source": [
    "#how much do builder pay on average for consecutive blocks\n",
    "\n",
    "#add cumulative payment\n",
    "\n",
    "slc = df[(df['count'] <11) & (df['count'] >= 5)]\n",
    "\n",
    "fig, ax = plt.subplots(figsize =(8, 8))\n",
    "\n",
    "ax.scatter(slc['slot'], slc['count'], s=.25)\n",
    "\n",
    "ax.set_ylabel('consecutive blocks')\n",
    "ax.set_xlabel('date')\n",
    "\n",
    "s = df['slot'].iloc[0]\n",
    "o = df[df['date'] >= '2022-10-01 00:00:00']['slot'].values[0]\n",
    "n = df[df['date'] >= '2022-11-01 00:00:00']['slot'].values[0]\n",
    "d = df[df['date'] >= '2022-12-01 00:00:00']['slot'].values[0]\n",
    "j = df[df['date'] >= '2023-01-01 00:00:00']['slot'].values[0]\n",
    "f = df['slot'].iloc[-1]+1e5\n",
    "\n",
    "\n",
    "plt.xticks([s, o, n, d, j, f], ['15 Sep 22', 'Oct 22', 'Nov 22', 'Dec 22', 'Jan 23', 'Feb 23'])\n",
    "       \n",
    "\n",
    "\n",
    "plt.savefig(f'figures/scatter_slots.png')\n",
    "\n",
    "plt.show()\n"
   ]
  },
  {
   "cell_type": "code",
   "execution_count": 98,
   "id": "83b39056",
   "metadata": {},
   "outputs": [
    {
     "data": {
      "text/plain": [
       "array([704941,  63099,  12652,   2887,    756,    222,     80,     24,\n",
       "           16,      4,      2,      1,      1])"
      ]
     },
     "execution_count": 98,
     "metadata": {},
     "output_type": "execute_result"
    }
   ],
   "source": [
    "stat"
   ]
  },
  {
   "cell_type": "code",
   "execution_count": null,
   "id": "eac2e3f3",
   "metadata": {},
   "outputs": [],
   "source": [
    "stat = df.groupby(df['count']).size().values\n",
    "\n"
   ]
  },
  {
   "cell_type": "code",
   "execution_count": 110,
   "id": "7c81513b",
   "metadata": {},
   "outputs": [
    {
     "data": {
      "text/plain": [
       "array([ 1,  2,  3,  4,  5,  6,  7,  8,  9, 10, 11, 13, 17])"
      ]
     },
     "execution_count": 110,
     "metadata": {},
     "output_type": "execute_result"
    }
   ],
   "source": []
  },
  {
   "cell_type": "code",
   "execution_count": 143,
   "id": "3b46b125",
   "metadata": {},
   "outputs": [
    {
     "name": "stdout",
     "output_type": "stream",
     "text": [
      "2 63099\n",
      "3 12652\n",
      "4 2887\n",
      "5 756\n",
      "6 222\n",
      "7 80\n",
      "8 24\n",
      "9 16\n",
      "10 4\n"
     ]
    },
    {
     "data": {
      "image/png": "[encoded data removed]",
      "text/plain": [
       "<Figure size 1200x600 with 1 Axes>"
      ]
     },
     "metadata": {},
     "output_type": "display_data"
    }
   ],
   "source": [
    "slc = df[(df['count'] >= 2) & (df['count'] <= 10)]\n",
    "\n",
    "temp = slc['count'].unique()\n",
    "temp.sort()\n",
    "\n",
    "stat = slc.groupby(slc['count']).size().values\n",
    "\n",
    "for i, x in enumerate(temp):\n",
    "    stat[i] = stat[i]/x\n",
    "\n",
    "fig, ax = plt.subplots(figsize =(12, 6))\n",
    "\n",
    "ax.bar(temp, stat, width = 0.5)\n",
    "ax.grid(axis='y', linestyle='--', linewidth=.5)\n",
    "\n",
    "\n",
    "for i in range(0,len(temp)):\n",
    "    plt.text(temp[i]-.15, stat[i]+1e3, s=f'{stat[i]}', fontdict=dict(fontsize=8))\n",
    "    print(temp[i], stat[i])\n",
    "\n",
    "\n",
    "ax.set_ylabel('occurences')\n",
    "ax.set_xlabel('consecutive blocks')\n",
    "\n",
    "plt.xticks(temp)\n",
    "\n",
    "plt.savefig(f'figures/occurences.png')\n",
    "# show plot\n",
    "plt.show()"
   ]
  },
  {
   "cell_type": "code",
   "execution_count": null,
   "id": "3d7df8f8",
   "metadata": {},
   "outputs": [],
   "source": [
    "# Is there a pattern, to propose low gas blocks?\n",
    "# \"VALIDATOR for slot k+1 is buying the slot in order to submit an empty block just before the slot they are elected for\"\n",
    "# > Validators could be \"unknown\"\n",
    "\n",
    "n, bins, patches = plt.hist(df[df['boosted']==True]['gas_used'], 50, density=True, facecolor='g', alpha=0.75)\n",
    "\n",
    "temp = df[(df['boosted']==True) & (df['gas_used'] < 0.75e7)]"
   ]
  },
  {
   "cell_type": "code",
   "execution_count": null,
   "id": "e59fe94c",
   "metadata": {},
   "outputs": [],
   "source": [
    "temp"
   ]
  },
  {
   "cell_type": "code",
   "execution_count": null,
   "id": "a2441f4a",
   "metadata": {},
   "outputs": [],
   "source": [
    "print(temp.groupby(['builder_name']).size())"
   ]
  },
  {
   "cell_type": "code",
   "execution_count": null,
   "id": "53e3079b",
   "metadata": {},
   "outputs": [],
   "source": [
    "pd.set_option(\"display.max_rows\", None)\n",
    "temp.groupby(['builder_name', 'count', 'position']).size().to_frame(name='vals')"
   ]
  },
  {
   "cell_type": "markdown",
   "id": "6ea2e520",
   "metadata": {},
   "source": [
    "### math"
   ]
  },
  {
   "cell_type": "code",
   "execution_count": null,
   "id": "28cbeacf",
   "metadata": {},
   "outputs": [],
   "source": [
    "n = 3\n",
    "k = 1\n",
    "p = .5\n",
    "2*(n-(k+1)+1)*(p**(k+1))"
   ]
  },
  {
   "cell_type": "code",
   "execution_count": null,
   "id": "4c0ee11f",
   "metadata": {},
   "outputs": [],
   "source": [
    "n = 3\n",
    "k = 1\n",
    "p = .5\n",
    "1*(n-k+1)*(p**k)-2*((n-(k+1)+1)*(p**(k+1))-2*(n-(k+2)+1)*(p**(k+2)))-3*(n-(k+2)+1)*(p**(k+2))"
   ]
  },
  {
   "cell_type": "code",
   "execution_count": null,
   "id": "a770332e",
   "metadata": {},
   "outputs": [],
   "source": [
    "n = 3\n",
    "k = 2\n",
    "p = .5\n",
    "(n-k+1)*(p**k)-2*(n-(k+1)+1)*(p**(k+1))"
   ]
  },
  {
   "cell_type": "code",
   "execution_count": null,
   "id": "02a6dfde",
   "metadata": {},
   "outputs": [],
   "source": [
    "-2*(n-(k+1)+1)*(p**(k+1))-2*(n-(k+2)+1)*(p**(k+2))"
   ]
  },
  {
   "cell_type": "code",
   "execution_count": null,
   "id": "c6386d3b",
   "metadata": {},
   "outputs": [],
   "source": [
    "n = 3\n",
    "k = 3\n",
    "p = .5\n",
    "(n-k+1)*(p**k)"
   ]
  },
  {
   "cell_type": "code",
   "execution_count": null,
   "id": "0afc80ce",
   "metadata": {},
   "outputs": [],
   "source": [
    "#What is the probability of exactly k consecutive heads in n tosses?\n",
    "\n",
    "p = 99/100 #probability\n",
    "n = 2 #tosses\n",
    "k = 2 #k consecutive tosses\n",
    "\n",
    "\n",
    "print('gesamt', p**k*(1-p)**2*max(0,(n-k-1))+p**k*(1-p)*2)\n",
    "\n",
    "print('term a', p**k*(1-p)**2*max(0,(n-k-1)))\n",
    "print('term b', p**k*(1-p)*2)\n",
    "\n",
    "print('equation', f'{p}**{k}*(1-{p})**2*{max(0, n-k-1)}+{p}**{k}*(1-{p})*2')"
   ]
  },
  {
   "cell_type": "code",
   "execution_count": null,
   "id": "78b87ddd",
   "metadata": {},
   "outputs": [],
   "source": [
    "#What is the probability of exactly k consecutive heads in n tosses?\n",
    "\n",
    "p = 99/100 #probability\n",
    "n = 3 #tosses\n",
    "k = 1 #k consecutive tosses\n",
    "\n",
    "\n",
    "print('gesamt', p**k*(1-p)**2*max(0,(n-k-1))+p**k*(1-p)*max(0,n-k)*2+p**k*max(0,k-n+1))\n",
    "print('a', p**k*(1-p)**2*max(0,(n-k-1)))\n",
    "print('b', p**k*(1-p)*max(0,k-n)*2)\n",
    "print('c', p**k*max(0,k-n+1))"
   ]
  },
  {
   "cell_type": "code",
   "execution_count": null,
   "id": "7e37e122",
   "metadata": {},
   "outputs": [],
   "source": [
    "n = 3\n",
    "k = 2\n",
    "(n-k+1)/(2**k)-(n-k)/(2**(k+1))*2"
   ]
  },
  {
   "cell_type": "code",
   "execution_count": null,
   "id": "fc1b8f7e",
   "metadata": {},
   "outputs": [],
   "source": [
    "n = 3\n",
    "k = 3\n",
    "(n-k+1)/(2**k)"
   ]
  },
  {
   "cell_type": "code",
   "execution_count": null,
   "id": "5070b60b",
   "metadata": {},
   "outputs": [],
   "source": [
    "def prob(c, p):\n",
    "    # c = consecutive blocks\n",
    "    # n = slots\n",
    "    # p = share MEV boost\n",
    "    \n",
    "    x = symbols('x', real=True)\n",
    "\n",
    "    c = c; n = 32; p = p\n",
    "\n",
    "    xx = min(i for i in solve(1-x+(1-p)*p**c*x**(c+1)) if i > 1)\n",
    "    qn = ((1 - p*xx) / ((c + 1 - c*xx)*(1-p))) * (1/(xx**(n+1)))\n",
    "    \n",
    "    return qn*100, (1-qn)*100\n",
    "\n",
    "    "
   ]
  },
  {
   "cell_type": "code",
   "execution_count": null,
   "id": "a52d41ed",
   "metadata": {},
   "outputs": [],
   "source": [
    "calc"
   ]
  },
  {
   "cell_type": "code",
   "execution_count": null,
   "id": "cee8b1b3",
   "metadata": {},
   "outputs": [],
   "source": [
    "calc[:,0:13]"
   ]
  },
  {
   "cell_type": "code",
   "execution_count": null,
   "id": "027ac2d1",
   "metadata": {},
   "outputs": [],
   "source": [
    "lst = list(df['builder_name'].unique())\n",
    "expt = calc[['builder_name', 'slots', 'share']]\n"
   ]
  },
  {
   "cell_type": "code",
   "execution_count": null,
   "id": "8d059490",
   "metadata": {},
   "outputs": [],
   "source": [
    "lst"
   ]
  },
  {
   "cell_type": "code",
   "execution_count": null,
   "id": "67736f66",
   "metadata": {},
   "outputs": [],
   "source": [
    "expt"
   ]
  },
  {
   "cell_type": "code",
   "execution_count": null,
   "id": "d2a571e7",
   "metadata": {},
   "outputs": [],
   "source": [
    "lst"
   ]
  },
  {
   "cell_type": "code",
   "execution_count": null,
   "id": "98666113",
   "metadata": {},
   "outputs": [],
   "source": [
    "\n",
    "temp_lst = [0,1,2,3,4,5,6,7,8,9]\n",
    "temp_lst.append(temp_lst)\n",
    "\n",
    "expt['e_1'] = temp_lst\n",
    "\n",
    "for c in range(2,5+1):\n",
    "    temp_lst = []\n",
    "    \n",
    "    for x in lst:\n",
    "        p = float(expt[expt['builder_name'] == x]['share'].values)\n",
    "        no_success, success = prob(c, p)\n",
    "        temp_lst.append(int(np.round(float(success)/100*total_epochs,0)))\n",
    "    \n",
    "    name = f'e_{c}'\n",
    "    expt[name] = temp_lst\n",
    "    "
   ]
  },
  {
   "cell_type": "code",
   "execution_count": null,
   "id": "dc50f59f",
   "metadata": {},
   "outputs": [],
   "source": [
    "expt"
   ]
  },
  {
   "cell_type": "code",
   "execution_count": null,
   "id": "cf86211a",
   "metadata": {},
   "outputs": [],
   "source": [
    "calc"
   ]
  },
  {
   "cell_type": "code",
   "execution_count": null,
   "id": "402ab17f",
   "metadata": {},
   "outputs": [],
   "source": [
    "p = np.round(len(df[df['builder_name'] == 'beaverbuild.org'])/1500,4)\n",
    "\n",
    "print('In a dataset of', len(df), 'blocks', int(len(df)*12/60/60), 'hours we expect ..')\n",
    "for i in [1,2,3,4,5]:\n",
    "    c = i\n",
    "    no_success, success = prob(c, p)\n",
    "    print(i, 'consecutive blocks: Probability', np.round(float(success),2), '% - Instances:', np.round(float(success)/100*47,0))\n",
    "\n",
    "print('.. proposed by the same builder')\n"
   ]
  },
  {
   "cell_type": "code",
   "execution_count": null,
   "id": "4dea4582",
   "metadata": {},
   "outputs": [],
   "source": [
    "stat = df[df['builder_name'] == 'beaverbuild.org'].groupby(['count']).size().values\n",
    "\n",
    "print('In a dataset of', len(df), 'blocks', int(len(df)*12/60/60), 'hours we find ..')\n",
    "\n",
    "for i, x in enumerate(np.sort(df[df['builder_name'] == 'beaverbuild.org']['count'].unique())):\n",
    "    stat[i] = stat[i]/x\n",
    "    \n",
    "    print(stat[i], 'instances of', i+1, 'consecutive blocks')\n",
    "    \n",
    "print('.. proposed by the same builder')"
   ]
  },
  {
   "cell_type": "code",
   "execution_count": null,
   "id": "84750791",
   "metadata": {},
   "outputs": [],
   "source": [
    "## MATRIX\n",
    "cons_blocks = np.arange(2,5+1) #cons_blocks\n",
    "prob = np.arange(.1,.9+.05,.05)"
   ]
  },
  {
   "cell_type": "code",
   "execution_count": null,
   "id": "6176ab5f",
   "metadata": {},
   "outputs": [],
   "source": [
    "lst = []\n",
    "for p in prob:\n",
    "    lst_temp = []\n",
    "    lst_temp.append(x)\n",
    "    for c in cons_blocks:\n",
    "        no_success, success = prob(c, p)\n",
    "        lst_temp.append(success)\n",
    "    \n",
    "    for z in range(0, len(lst_temp)):\n",
    "        try: \n",
    "            lst_temp[z] = np.round(float(lst_temp[z]), 2)\n",
    "        except TypeError:\n",
    "            lst_temp[z] = 100\n",
    "        \n",
    "    lst.append(lst_temp)\n",
    "        "
   ]
  },
  {
   "cell_type": "code",
   "execution_count": null,
   "id": "dacae7a3",
   "metadata": {},
   "outputs": [],
   "source": [
    "df = pd.DataFrame(lst, columns =['probability', 'k=2', 'k=3', 'k=4', 'k=5', 'k=6', 'k=7', 'k=8', 'k=9', 'k=10'])\n",
    "df = df.set_index('probability')\n",
    "df"
   ]
  },
  {
   "cell_type": "code",
   "execution_count": null,
   "id": "dc044bb6",
   "metadata": {},
   "outputs": [],
   "source": [
    "print('If the market share of MEV boost is p=0.5, then we derive', (38.96/100)*225, 'k=5 consecutive blocks a day.')\n",
    "print('If the market share of MEV boost is p=0.5, then we derive', (38.96/100)*6759, 'k=5 consecutive blocks a month.')\n"
   ]
  }
 ],
 "metadata": {
  "kernelspec": {
   "display_name": "Python 3 (ipykernel)",
   "language": "python",
   "name": "python3"
  },
  "language_info": {
   "codemirror_mode": {
    "name": "ipython",
    "version": 3
   },
   "file_extension": ".py",
   "mimetype": "text/x-python",
   "name": "python",
   "nbconvert_exporter": "python",
   "pygments_lexer": "ipython3",
   "version": "3.8.3"
  }
 },
 "nbformat": 4,
 "nbformat_minor": 5
}
