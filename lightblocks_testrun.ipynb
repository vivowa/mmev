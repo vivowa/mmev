{
 "cells": [
  {
   "cell_type": "code",
   "execution_count": 1,
   "id": "0b5d2c21",
   "metadata": {},
   "outputs": [],
   "source": [
    "import pandas as pd\n",
    "import numpy as np\n",
    "import matplotlib.pyplot as plt\n",
    "\n",
    "from sympy import *"
   ]
  },
  {
   "cell_type": "markdown",
   "id": "590c46ae",
   "metadata": {},
   "source": [
    "\n",
    "Consecutive blocks if MORE THAN CHANCE\n",
    "Consecutive blocks if PAID MORE\n",
    "\n",
    "GAS FEE VS. MEV FEE??\n"
   ]
  },
  {
   "cell_type": "markdown",
   "id": "d324c5bb",
   "metadata": {},
   "source": [
    "Questions:\n",
    "What can be done with Multi-block MEV? Taxonomy\n",
    "Q2: How likely, often?\n",
    "Q3: How cheap is a relay block?\n",
    "Q6: Profit of MEV blocks over time and count"
   ]
  },
  {
   "cell_type": "markdown",
   "id": "b522e9dd",
   "metadata": {},
   "source": [
    "ToDo: a) take a look at Relayer\n",
    "b) add block_reward for block without MEV boost"
   ]
  },
  {
   "cell_type": "markdown",
   "id": "300e9a50",
   "metadata": {},
   "source": [
    "### cleaning"
   ]
  },
  {
   "cell_type": "code",
   "execution_count": null,
   "id": "9a50039b",
   "metadata": {},
   "outputs": [],
   "source": [
    "df_b = pd.read_csv('data/BBRs_5538500_5538999.csv')\n"
   ]
  },
  {
   "cell_type": "code",
   "execution_count": 2,
   "id": "2424bbea",
   "metadata": {},
   "outputs": [
    {
     "data": {
      "text/html": [
       "<div>\n",
       "<style scoped>\n",
       "    .dataframe tbody tr th:only-of-type {\n",
       "        vertical-align: middle;\n",
       "    }\n",
       "\n",
       "    .dataframe tbody tr th {\n",
       "        vertical-align: top;\n",
       "    }\n",
       "\n",
       "    .dataframe thead th {\n",
       "        text-align: right;\n",
       "    }\n",
       "</style>\n",
       "<table border=\"1\" class=\"dataframe\">\n",
       "  <thead>\n",
       "    <tr style=\"text-align: right;\">\n",
       "      <th></th>\n",
       "      <th>slot</th>\n",
       "      <th>block_hash</th>\n",
       "      <th>block_reward</th>\n",
       "      <th>gas_used</th>\n",
       "      <th>validator_pubkey</th>\n",
       "      <th>operator_name</th>\n",
       "      <th>pool_name</th>\n",
       "      <th>buidler_pubkey</th>\n",
       "      <th>buidler_name</th>\n",
       "      <th>relay_name</th>\n",
       "      <th>relay_url</th>\n",
       "    </tr>\n",
       "  </thead>\n",
       "  <tbody>\n",
       "    <tr>\n",
       "      <th>0</th>\n",
       "      <td>4700567</td>\n",
       "      <td>0x7d57a1d26f71724737f5dc780ca2dfb778c2fc5be29b...</td>\n",
       "      <td>0.283204</td>\n",
       "      <td>27657346</td>\n",
       "      <td>0xa606aca2180226fc69e0652134eca4c7f4a428585c11...</td>\n",
       "      <td>NaN</td>\n",
       "      <td>NaN</td>\n",
       "      <td>0xa1dead01e65f0a0eee7b5170223f20c8f0cbf122eac3...</td>\n",
       "      <td>flashbots</td>\n",
       "      <td>Flashbots</td>\n",
       "      <td>https://0xac6e77dfe25ecd6110b8e780608cce0dab71...</td>\n",
       "    </tr>\n",
       "    <tr>\n",
       "      <th>1</th>\n",
       "      <td>4700575</td>\n",
       "      <td>0xc923337f63a0ed51288b1468064085679383d41ebee7...</td>\n",
       "      <td>0.845802</td>\n",
       "      <td>27535785</td>\n",
       "      <td>0x9489e9354f515580f6a949f69eed311eeb26b268b744...</td>\n",
       "      <td>NaN</td>\n",
       "      <td>NaN</td>\n",
       "      <td>0xa1dead01e65f0a0eee7b5170223f20c8f0cbf122eac3...</td>\n",
       "      <td>flashbots</td>\n",
       "      <td>Flashbots</td>\n",
       "      <td>https://0xac6e77dfe25ecd6110b8e780608cce0dab71...</td>\n",
       "    </tr>\n",
       "    <tr>\n",
       "      <th>2</th>\n",
       "      <td>4700606</td>\n",
       "      <td>0x804f376a4e15f62a75f26828b8866a0db1cfb2bf9235...</td>\n",
       "      <td>0.213524</td>\n",
       "      <td>24830670</td>\n",
       "      <td>0x82d5ebc6c3ef5eda41dcbb1cbdfd5863ab6e4d16b137...</td>\n",
       "      <td>NaN</td>\n",
       "      <td>NaN</td>\n",
       "      <td>0x81beef03aafd3dd33ffd7deb337407142c80fea2690e...</td>\n",
       "      <td>flashbots</td>\n",
       "      <td>Flashbots</td>\n",
       "      <td>https://0xac6e77dfe25ecd6110b8e780608cce0dab71...</td>\n",
       "    </tr>\n",
       "    <tr>\n",
       "      <th>3</th>\n",
       "      <td>4700694</td>\n",
       "      <td>0x4ac8e0a2c04382ed4cdafd44e8f45b77a071a5974d78...</td>\n",
       "      <td>0.113136</td>\n",
       "      <td>23574818</td>\n",
       "      <td>0x8e7d5eed0f72cd56e547e2fabea19a65668577fd2d64...</td>\n",
       "      <td>NaN</td>\n",
       "      <td>NaN</td>\n",
       "      <td>0xa1dead01e65f0a0eee7b5170223f20c8f0cbf122eac3...</td>\n",
       "      <td>flashbots</td>\n",
       "      <td>Flashbots</td>\n",
       "      <td>https://0xac6e77dfe25ecd6110b8e780608cce0dab71...</td>\n",
       "    </tr>\n",
       "    <tr>\n",
       "      <th>4</th>\n",
       "      <td>4700724</td>\n",
       "      <td>0x43a4d4a888f1d2626a4c18f13ed0701f057606396a40...</td>\n",
       "      <td>0.637987</td>\n",
       "      <td>22578328</td>\n",
       "      <td>0xae1426c22c5c0d91d62c5a224759f44569a0a52e6cb8...</td>\n",
       "      <td>NaN</td>\n",
       "      <td>Rocketpool</td>\n",
       "      <td>0xa1dead01e65f0a0eee7b5170223f20c8f0cbf122eac3...</td>\n",
       "      <td>flashbots</td>\n",
       "      <td>Flashbots</td>\n",
       "      <td>https://0xac6e77dfe25ecd6110b8e780608cce0dab71...</td>\n",
       "    </tr>\n",
       "    <tr>\n",
       "      <th>...</th>\n",
       "      <td>...</td>\n",
       "      <td>...</td>\n",
       "      <td>...</td>\n",
       "      <td>...</td>\n",
       "      <td>...</td>\n",
       "      <td>...</td>\n",
       "      <td>...</td>\n",
       "      <td>...</td>\n",
       "      <td>...</td>\n",
       "      <td>...</td>\n",
       "      <td>...</td>\n",
       "    </tr>\n",
       "    <tr>\n",
       "      <th>659653</th>\n",
       "      <td>5586752</td>\n",
       "      <td>0xad1be4394d52d6f848baa216ccfac0b250cd51f5a4a2...</td>\n",
       "      <td>0.045863</td>\n",
       "      <td>25229702</td>\n",
       "      <td>0xa7b4840468fbd50602db4cf35a56af9ea11fffac41b5...</td>\n",
       "      <td>Kiln</td>\n",
       "      <td>Lido</td>\n",
       "      <td>0x9000009807ed12c1f08bf4e81c6da3ba8e3fc3d95389...</td>\n",
       "      <td>blocknative</td>\n",
       "      <td>Blocknative</td>\n",
       "      <td>https://0x9000009807ed12c1f08bf4e81c6da3ba8e3f...</td>\n",
       "    </tr>\n",
       "    <tr>\n",
       "      <th>659654</th>\n",
       "      <td>5586753</td>\n",
       "      <td>0xff6dbe03e2510fa1430e12a2f2746f4ffc440ea8f1d2...</td>\n",
       "      <td>0.015468</td>\n",
       "      <td>13140362</td>\n",
       "      <td>0x89fd95e3bb0da3d02ca91285c334a1b57f2e22547fef...</td>\n",
       "      <td>Kiln</td>\n",
       "      <td>Lido</td>\n",
       "      <td>0xa971c4ee4ac5d47e0fb9e16be05981bfe51458f14c06...</td>\n",
       "      <td>builder0x69</td>\n",
       "      <td>Flashbots</td>\n",
       "      <td>https://0xac6e77dfe25ecd6110b8e780608cce0dab71...</td>\n",
       "    </tr>\n",
       "    <tr>\n",
       "      <th>659655</th>\n",
       "      <td>5586755</td>\n",
       "      <td>0xadd1f3c9daf25e57a49f34ce8aa9acd51816395cc194...</td>\n",
       "      <td>0.024059</td>\n",
       "      <td>10850676</td>\n",
       "      <td>0xad529b90e01cb5de1dfb8d169d4cfc2d8c9b8e46a63c...</td>\n",
       "      <td>NaN</td>\n",
       "      <td>NaN</td>\n",
       "      <td>0x96a59d355b1f65e270b29981dd113625732539e955a1...</td>\n",
       "      <td>beaverbuild.org</td>\n",
       "      <td>Flashbots</td>\n",
       "      <td>https://0xac6e77dfe25ecd6110b8e780608cce0dab71...</td>\n",
       "    </tr>\n",
       "    <tr>\n",
       "      <th>659656</th>\n",
       "      <td>5586756</td>\n",
       "      <td>0xc40a53538433179f7ca5f3f884784ed3df677ce90d15...</td>\n",
       "      <td>0.037238</td>\n",
       "      <td>29994005</td>\n",
       "      <td>0xa3c5cc8aedb1d6d50e370ebae6e61ff15552ab9633f1...</td>\n",
       "      <td>Staked.us</td>\n",
       "      <td>NaN</td>\n",
       "      <td>0x84b02bdb674a28dea0467d3dded2b4aad11c0c5dba79...</td>\n",
       "      <td>Unknown</td>\n",
       "      <td>Ultra Sound Relay</td>\n",
       "      <td>https://0xa1559ace749633b997cb3fdacffb890aeebd...</td>\n",
       "    </tr>\n",
       "    <tr>\n",
       "      <th>659657</th>\n",
       "      <td>5586756</td>\n",
       "      <td>0xc40a53538433179f7ca5f3f884784ed3df677ce90d15...</td>\n",
       "      <td>0.037238</td>\n",
       "      <td>29994005</td>\n",
       "      <td>0xa3c5cc8aedb1d6d50e370ebae6e61ff15552ab9633f1...</td>\n",
       "      <td>Staked.us</td>\n",
       "      <td>NaN</td>\n",
       "      <td>0x84b02bdb674a28dea0467d3dded2b4aad11c0c5dba79...</td>\n",
       "      <td>Unknown</td>\n",
       "      <td>Agnostic Boost Relay</td>\n",
       "      <td>https://0xa7ab7a996c8584251c8f925da3170bdfd6eb...</td>\n",
       "    </tr>\n",
       "  </tbody>\n",
       "</table>\n",
       "<p>659658 rows × 11 columns</p>\n",
       "</div>"
      ],
      "text/plain": [
       "           slot                                         block_hash  \\\n",
       "0       4700567  0x7d57a1d26f71724737f5dc780ca2dfb778c2fc5be29b...   \n",
       "1       4700575  0xc923337f63a0ed51288b1468064085679383d41ebee7...   \n",
       "2       4700606  0x804f376a4e15f62a75f26828b8866a0db1cfb2bf9235...   \n",
       "3       4700694  0x4ac8e0a2c04382ed4cdafd44e8f45b77a071a5974d78...   \n",
       "4       4700724  0x43a4d4a888f1d2626a4c18f13ed0701f057606396a40...   \n",
       "...         ...                                                ...   \n",
       "659653  5586752  0xad1be4394d52d6f848baa216ccfac0b250cd51f5a4a2...   \n",
       "659654  5586753  0xff6dbe03e2510fa1430e12a2f2746f4ffc440ea8f1d2...   \n",
       "659655  5586755  0xadd1f3c9daf25e57a49f34ce8aa9acd51816395cc194...   \n",
       "659656  5586756  0xc40a53538433179f7ca5f3f884784ed3df677ce90d15...   \n",
       "659657  5586756  0xc40a53538433179f7ca5f3f884784ed3df677ce90d15...   \n",
       "\n",
       "        block_reward  gas_used  \\\n",
       "0           0.283204  27657346   \n",
       "1           0.845802  27535785   \n",
       "2           0.213524  24830670   \n",
       "3           0.113136  23574818   \n",
       "4           0.637987  22578328   \n",
       "...              ...       ...   \n",
       "659653      0.045863  25229702   \n",
       "659654      0.015468  13140362   \n",
       "659655      0.024059  10850676   \n",
       "659656      0.037238  29994005   \n",
       "659657      0.037238  29994005   \n",
       "\n",
       "                                         validator_pubkey operator_name  \\\n",
       "0       0xa606aca2180226fc69e0652134eca4c7f4a428585c11...           NaN   \n",
       "1       0x9489e9354f515580f6a949f69eed311eeb26b268b744...           NaN   \n",
       "2       0x82d5ebc6c3ef5eda41dcbb1cbdfd5863ab6e4d16b137...           NaN   \n",
       "3       0x8e7d5eed0f72cd56e547e2fabea19a65668577fd2d64...           NaN   \n",
       "4       0xae1426c22c5c0d91d62c5a224759f44569a0a52e6cb8...           NaN   \n",
       "...                                                   ...           ...   \n",
       "659653  0xa7b4840468fbd50602db4cf35a56af9ea11fffac41b5...          Kiln   \n",
       "659654  0x89fd95e3bb0da3d02ca91285c334a1b57f2e22547fef...          Kiln   \n",
       "659655  0xad529b90e01cb5de1dfb8d169d4cfc2d8c9b8e46a63c...           NaN   \n",
       "659656  0xa3c5cc8aedb1d6d50e370ebae6e61ff15552ab9633f1...     Staked.us   \n",
       "659657  0xa3c5cc8aedb1d6d50e370ebae6e61ff15552ab9633f1...     Staked.us   \n",
       "\n",
       "         pool_name                                     buidler_pubkey  \\\n",
       "0              NaN  0xa1dead01e65f0a0eee7b5170223f20c8f0cbf122eac3...   \n",
       "1              NaN  0xa1dead01e65f0a0eee7b5170223f20c8f0cbf122eac3...   \n",
       "2              NaN  0x81beef03aafd3dd33ffd7deb337407142c80fea2690e...   \n",
       "3              NaN  0xa1dead01e65f0a0eee7b5170223f20c8f0cbf122eac3...   \n",
       "4       Rocketpool  0xa1dead01e65f0a0eee7b5170223f20c8f0cbf122eac3...   \n",
       "...            ...                                                ...   \n",
       "659653        Lido  0x9000009807ed12c1f08bf4e81c6da3ba8e3fc3d95389...   \n",
       "659654        Lido  0xa971c4ee4ac5d47e0fb9e16be05981bfe51458f14c06...   \n",
       "659655         NaN  0x96a59d355b1f65e270b29981dd113625732539e955a1...   \n",
       "659656         NaN  0x84b02bdb674a28dea0467d3dded2b4aad11c0c5dba79...   \n",
       "659657         NaN  0x84b02bdb674a28dea0467d3dded2b4aad11c0c5dba79...   \n",
       "\n",
       "           buidler_name            relay_name  \\\n",
       "0             flashbots             Flashbots   \n",
       "1             flashbots             Flashbots   \n",
       "2             flashbots             Flashbots   \n",
       "3             flashbots             Flashbots   \n",
       "4             flashbots             Flashbots   \n",
       "...                 ...                   ...   \n",
       "659653      blocknative           Blocknative   \n",
       "659654      builder0x69             Flashbots   \n",
       "659655  beaverbuild.org             Flashbots   \n",
       "659656          Unknown     Ultra Sound Relay   \n",
       "659657          Unknown  Agnostic Boost Relay   \n",
       "\n",
       "                                                relay_url  \n",
       "0       https://0xac6e77dfe25ecd6110b8e780608cce0dab71...  \n",
       "1       https://0xac6e77dfe25ecd6110b8e780608cce0dab71...  \n",
       "2       https://0xac6e77dfe25ecd6110b8e780608cce0dab71...  \n",
       "3       https://0xac6e77dfe25ecd6110b8e780608cce0dab71...  \n",
       "4       https://0xac6e77dfe25ecd6110b8e780608cce0dab71...  \n",
       "...                                                   ...  \n",
       "659653  https://0x9000009807ed12c1f08bf4e81c6da3ba8e3f...  \n",
       "659654  https://0xac6e77dfe25ecd6110b8e780608cce0dab71...  \n",
       "659655  https://0xac6e77dfe25ecd6110b8e780608cce0dab71...  \n",
       "659656  https://0xa1559ace749633b997cb3fdacffb890aeebd...  \n",
       "659657  https://0xa7ab7a996c8584251c8f925da3170bdfd6eb...  \n",
       "\n",
       "[659658 rows x 11 columns]"
      ]
     },
     "execution_count": 2,
     "metadata": {},
     "output_type": "execute_result"
    }
   ],
   "source": [
    "df_p = pd.read_csv('data/custom_ppds_output.csv')\n",
    "df_p"
   ]
  },
  {
   "cell_type": "code",
   "execution_count": 3,
   "id": "18f5f6a5",
   "metadata": {},
   "outputs": [],
   "source": [
    "df_p.sort_values(by='slot', ascending=True, inplace=True)"
   ]
  },
  {
   "cell_type": "code",
   "execution_count": 4,
   "id": "82a43702",
   "metadata": {},
   "outputs": [],
   "source": [
    "df_p.drop_duplicates(subset=['slot'], keep='first', inplace=True)"
   ]
  },
  {
   "cell_type": "code",
   "execution_count": 5,
   "id": "613efcc1",
   "metadata": {},
   "outputs": [],
   "source": [
    "df_p.reset_index(drop=True, inplace=True)"
   ]
  },
  {
   "cell_type": "code",
   "execution_count": 6,
   "id": "8407c055",
   "metadata": {},
   "outputs": [],
   "source": [
    "df_p.rename(columns={'buidler_pubkey': 'builder_pubkey'}, inplace=True)\n",
    "df_p.rename(columns={'buidler_name': 'builder_name'}, inplace=True)\n"
   ]
  },
  {
   "cell_type": "code",
   "execution_count": 7,
   "id": "c4e1ba03",
   "metadata": {},
   "outputs": [
    {
     "name": "stdout",
     "output_type": "stream",
     "text": [
      "<class 'pandas.core.frame.DataFrame'>\n",
      "RangeIndex: 650577 entries, 0 to 650576\n",
      "Data columns (total 11 columns):\n",
      " #   Column            Non-Null Count   Dtype  \n",
      "---  ------            --------------   -----  \n",
      " 0   slot              650577 non-null  int64  \n",
      " 1   block_hash        650577 non-null  object \n",
      " 2   block_reward      650577 non-null  float64\n",
      " 3   gas_used          650577 non-null  int64  \n",
      " 4   validator_pubkey  650577 non-null  object \n",
      " 5   operator_name     258638 non-null  object \n",
      " 6   pool_name         373918 non-null  object \n",
      " 7   builder_pubkey    650577 non-null  object \n",
      " 8   builder_name      650577 non-null  object \n",
      " 9   relay_name        650577 non-null  object \n",
      " 10  relay_url         650577 non-null  object \n",
      "dtypes: float64(1), int64(2), object(8)\n",
      "memory usage: 54.6+ MB\n"
     ]
    }
   ],
   "source": [
    "df_p.info()"
   ]
  },
  {
   "cell_type": "code",
   "execution_count": 8,
   "id": "85694c73",
   "metadata": {},
   "outputs": [
    {
     "name": "stdout",
     "output_type": "stream",
     "text": [
      "['flashbots' 'eden' 'bloxroute' 'Unknown' 'blocknative' 'manifold'\n",
      " 'builder0x69' 'Ø\\x83\\x01\\x0b\\x84geth\\x88go1.19.1\\x85linux'\n",
      " 'https://eth-builder.com' 'beaverbuild.org']\n"
     ]
    }
   ],
   "source": [
    "print(df_p['builder_name'].unique())\n",
    "df_p = df_p[['slot', 'block_hash', 'block_reward', 'gas_used', 'validator_pubkey', 'builder_pubkey', 'builder_name', 'relay_name']]\n"
   ]
  },
  {
   "cell_type": "code",
   "execution_count": 9,
   "id": "acae263c",
   "metadata": {},
   "outputs": [
    {
     "name": "stderr",
     "output_type": "stream",
     "text": [
      "/var/folders/1l/dlmzk3fn30g9wwk6y58j36c00000gn/T/ipykernel_8194/3279590111.py:1: SettingWithCopyWarning: \n",
      "A value is trying to be set on a copy of a slice from a DataFrame.\n",
      "Try using .loc[row_indexer,col_indexer] = value instead\n",
      "\n",
      "See the caveats in the documentation: https://pandas.pydata.org/pandas-docs/stable/user_guide/indexing.html#returning-a-view-versus-a-copy\n",
      "  df_p['boosted'] = True\n"
     ]
    }
   ],
   "source": [
    "df_p['boosted'] = True"
   ]
  },
  {
   "cell_type": "code",
   "execution_count": 10,
   "id": "c5457055",
   "metadata": {},
   "outputs": [],
   "source": [
    "slot = np.arange(df_p['slot'].min(), df_p['slot'].max())\n",
    "df = pd.DataFrame(slot, columns = ['slot'])\n"
   ]
  },
  {
   "cell_type": "code",
   "execution_count": 11,
   "id": "4d6d8a71",
   "metadata": {},
   "outputs": [],
   "source": [
    "df = df.merge(df_p, how='left', on='slot')\n",
    "df['builder_name'].fillna('No builder', inplace=True)\n",
    "df['builder_name'].replace('Ø\\x83\\x01\\x0b\\x84geth\\x88go1.19.1\\x85linux', 'coda_geth_linux', inplace=True)\n"
   ]
  },
  {
   "cell_type": "markdown",
   "id": "c9ff51f3",
   "metadata": {},
   "source": [
    "### descriptive statistics"
   ]
  },
  {
   "cell_type": "code",
   "execution_count": 12,
   "id": "ccda7a98",
   "metadata": {},
   "outputs": [],
   "source": [
    "slots_per_hour = 5*60\n",
    "slots_per_day = 5*60*24\n",
    "\n",
    "total_slots = len(df)\n",
    "total_epochs = int(len(df)/32)\n",
    "total_days = total_slots / slots_per_day"
   ]
  },
  {
   "cell_type": "code",
   "execution_count": null,
   "id": "697907b8",
   "metadata": {},
   "outputs": [],
   "source": []
  },
  {
   "cell_type": "code",
   "execution_count": 13,
   "id": "dc2a7221",
   "metadata": {},
   "outputs": [
    {
     "name": "stderr",
     "output_type": "stream",
     "text": [
      "/var/folders/1l/dlmzk3fn30g9wwk6y58j36c00000gn/T/ipykernel_8194/3369397790.py:21: SettingWithCopyWarning: \n",
      "A value is trying to be set on a copy of a slice from a DataFrame\n",
      "\n",
      "See the caveats in the documentation: https://pandas.pydata.org/pandas-docs/stable/user_guide/indexing.html#returning-a-view-versus-a-copy\n",
      "  df['count'].iloc[i-j] = count\n",
      "/var/folders/1l/dlmzk3fn30g9wwk6y58j36c00000gn/T/ipykernel_8194/3369397790.py:22: SettingWithCopyWarning: \n",
      "A value is trying to be set on a copy of a slice from a DataFrame\n",
      "\n",
      "See the caveats in the documentation: https://pandas.pydata.org/pandas-docs/stable/user_guide/indexing.html#returning-a-view-versus-a-copy\n",
      "  df['position'].iloc[i-j] = count+1-j\n"
     ]
    }
   ],
   "source": [
    "#fltr = 'builder_name'\n",
    "fltr = 'builder_pubkey'\n",
    "\n",
    "df['count'] = 1\n",
    "df['position'] = 1\n",
    "count = 0\n",
    "for i in range(0, len(df)):\n",
    "    check = (df[fltr].iloc[i] == df[fltr].iloc[i-1]) & (df[fltr].iloc[i] != 'Unknown') & (df[fltr].iloc[i] != 'No builder')\n",
    "    \n",
    "    if check == True:\n",
    "        if count == 0:\n",
    "            count = 2\n",
    "        else:\n",
    "            count += 1\n",
    "\n",
    "    elif (check == False) & (count == 0):\n",
    "            continue\n",
    "\n",
    "    elif (check == False) & (count != 0):\n",
    "        for j in range(1, count+1):\n",
    "            df['count'].iloc[i-j] = count\n",
    "            df['position'].iloc[i-j] = count+1-j\n",
    "\n",
    "        count = 0\n",
    "\n",
    "\n"
   ]
  },
  {
   "cell_type": "code",
   "execution_count": 14,
   "id": "f3825056",
   "metadata": {
    "scrolled": true
   },
   "outputs": [],
   "source": [
    "#df['block_reward'].fillna((df[df['count'] == 1]['block_reward'].mean()), inplace=True)\n",
    "\n",
    "\n",
    "df_backup_pubkey = df"
   ]
  },
  {
   "cell_type": "code",
   "execution_count": 16,
   "id": "04d9680c",
   "metadata": {},
   "outputs": [],
   "source": [
    "df.to_csv('all_data.csv')"
   ]
  },
  {
   "cell_type": "code",
   "execution_count": null,
   "id": "ad5fa4cd",
   "metadata": {},
   "outputs": [],
   "source": [
    "df_backup = df"
   ]
  },
  {
   "cell_type": "code",
   "execution_count": null,
   "id": "afdb0b59",
   "metadata": {},
   "outputs": [],
   "source": [
    "df = df_backup\n",
    "df"
   ]
  },
  {
   "cell_type": "code",
   "execution_count": null,
   "id": "0a2fee58",
   "metadata": {},
   "outputs": [],
   "source": [
    "df.groupby(df['count']).size()"
   ]
  },
  {
   "cell_type": "code",
   "execution_count": null,
   "id": "61621f0b",
   "metadata": {},
   "outputs": [],
   "source": [
    "stat = df.groupby(df['count']).size().values\n",
    "\n",
    "temp = df['count'].unique()\n",
    "temp.sort()\n",
    "\n",
    "print('In a dataset of', len(df), 'blocks', int(len(df)*12/60/60/24), 'days we find:')\n",
    "\n",
    "for i, x in enumerate(temp):\n",
    "    stat[i] = stat[i]/x\n",
    "    \n",
    "    print(stat[i], 'instances of', x, 'consecutive blocks')\n",
    "\n",
    "print('proposed by the same builder')"
   ]
  },
  {
   "cell_type": "code",
   "execution_count": null,
   "id": "8d7199a0",
   "metadata": {
    "scrolled": true
   },
   "outputs": [],
   "source": [
    "print(df['builder_name'].unique())\n",
    "print(df.groupby(df['builder_name']).size().sort_values(ascending=False))"
   ]
  },
  {
   "cell_type": "code",
   "execution_count": null,
   "id": "3efc3f5a",
   "metadata": {},
   "outputs": [],
   "source": [
    "lst = list(df['builder_name'].unique())\n",
    "calc = pd.DataFrame(lst, columns = ['builder_name'])\n",
    "\n",
    "temp_lst = []\n",
    "for x in lst:\n",
    "    temp_lst.append(len(df[df['builder_name'] == x]))\n",
    "\n",
    "calc['slots'] = temp_lst\n",
    "\n",
    "calc['share'] = np.round(calc['slots']/len(df),4)\n",
    "\n",
    "for i in range(1,20+1):\n",
    "    temp_lst = []\n",
    "    \n",
    "    for x in lst:\n",
    "        temp_lst.append(int(len(df[(df['builder_name'] == x) & (df['count'] == i)])/i))\n",
    "    \n",
    "    name = f'k_{i}'\n",
    "    calc[name] = temp_lst\n",
    "\n",
    "calc"
   ]
  },
  {
   "cell_type": "code",
   "execution_count": null,
   "id": "72acfc9c",
   "metadata": {},
   "outputs": [],
   "source": [
    "calc.iloc[:,0:13]"
   ]
  },
  {
   "cell_type": "markdown",
   "id": "6592410e",
   "metadata": {},
   "source": [
    "### plotting descriptive"
   ]
  },
  {
   "cell_type": "code",
   "execution_count": null,
   "id": "da60d2fa",
   "metadata": {},
   "outputs": [],
   "source": []
  },
  {
   "cell_type": "code",
   "execution_count": null,
   "id": "93d736e7",
   "metadata": {},
   "outputs": [],
   "source": [
    "print(len(df[df['boosted'] != True]), 'blocks without PBS') \n",
    "print(len(df[df['boosted'] == True]), 'blocks with PBS')\n",
    "print(len(df[df['boosted'] == True])/len(df)*100, '%')\n"
   ]
  },
  {
   "cell_type": "code",
   "execution_count": null,
   "id": "6b37b740",
   "metadata": {},
   "outputs": [],
   "source": [
    "fig, ax = plt.subplots(figsize =(10, 6))\n",
    "\n",
    "ax.plot(df['slot'], df['boosted'].rolling(slots_per_day, min_periods=1).sum()/slots_per_day)\n",
    "\n",
    "ax.ticklabel_format(style='plain')\n",
    "\n",
    "vals = ax.get_yticks()\n",
    "ax.set_yticklabels(['{:,.0%}'.format(x) for x in vals])\n",
    "\n",
    "plt.show()"
   ]
  },
  {
   "cell_type": "code",
   "execution_count": null,
   "id": "cd1f661a",
   "metadata": {},
   "outputs": [],
   "source": [
    "bins = np.arange(df['slot'].min(), df['slot'].max(), slots_per_day)\n",
    "data = []\n",
    "for i in range(0, len(bins)-1):\n",
    "        data.append(df[(df['slot'] >= bins[i]) & (df['slot'] < bins[i+1])]['block_reward'].mean())"
   ]
  },
  {
   "cell_type": "code",
   "execution_count": null,
   "id": "0ca4c789",
   "metadata": {},
   "outputs": [],
   "source": [
    "fig, ax = plt.subplots(figsize =(12, 6))\n",
    "\n",
    "ax.bar(np.arange(1,len(data)+1), data, width = 0.5)\n",
    "ax.grid(axis='y', linestyle='--', linewidth=.5)\n",
    "\n",
    "left, right = plt.xlim()\n",
    "ax.set_xlim(left+5, right-5)\n",
    "\n",
    "ax.set_ylabel('Builder payment')\n",
    "ax.set_xlabel('Day')\n",
    "\n",
    "vals = ax.get_yticks()\n",
    "ax.set_yticklabels(['{:,.2f}'.format(x)+' ETH' for x in vals])\n",
    "\n",
    "# show plot\n",
    "plt.show()"
   ]
  },
  {
   "cell_type": "code",
   "execution_count": null,
   "id": "94736867",
   "metadata": {},
   "outputs": [],
   "source": []
  },
  {
   "cell_type": "markdown",
   "id": "6f0cc1ca",
   "metadata": {},
   "source": [
    "### plotting analysis"
   ]
  },
  {
   "cell_type": "code",
   "execution_count": null,
   "id": "ef1a52b9",
   "metadata": {},
   "outputs": [],
   "source": [
    "df.dropna(subset=['block_reward'], inplace=True)\n",
    "\n",
    "temp = df['count'].unique()\n",
    "temp.sort()\n",
    "\n",
    "data = []\n",
    "for x in temp:\n",
    "    data.append(list(df[df['count']==x]['block_reward']))\n",
    "\n",
    "fig, ax = plt.subplots(figsize =(8, 8))\n",
    "\n",
    "ax.boxplot(data, showfliers=False)\n",
    "ax.grid(axis='y', linestyle='--', linewidth=.5)\n",
    "\n",
    "ax.set_ylabel('Builder payment')\n",
    "ax.set_xlabel('Consecutive blocks')\n",
    "\n",
    "vals = ax.get_yticks()\n",
    "ax.set_yticklabels(['{:,.2f}'.format(x)+' ETH' for x in vals])\n",
    "\n",
    "plt.xticks(temp)\n",
    "\n",
    "plt.savefig(f'figures/payment_pubkey.png')\n",
    "plt.show()\n"
   ]
  },
  {
   "cell_type": "code",
   "execution_count": null,
   "id": "50ad172a",
   "metadata": {},
   "outputs": [],
   "source": [
    "def q25(x):\n",
    "    return x.quantile(0.25)\n",
    "\n",
    "def q75(x):\n",
    "    return x.quantile(0.75)"
   ]
  },
  {
   "cell_type": "code",
   "execution_count": null,
   "id": "4f72bc61",
   "metadata": {},
   "outputs": [],
   "source": []
  },
  {
   "cell_type": "code",
   "execution_count": null,
   "id": "66b3ae22",
   "metadata": {},
   "outputs": [],
   "source": [
    "#exclude without significant data\n",
    "lst = df[df['count'] >= 9].index\n",
    "\n",
    "df.drop(lst, inplace=True)"
   ]
  },
  {
   "cell_type": "code",
   "execution_count": null,
   "id": "3406c942",
   "metadata": {},
   "outputs": [],
   "source": [
    "#how much do builder pay on average for consecutive blocks\n",
    "\n",
    "#add cumulative payment\n",
    "\n",
    "\n",
    "fig, ax = plt.subplots(figsize =(8, 8))\n",
    "\n",
    "x = list(df['position'].unique())\n",
    "\n",
    "ax.plot(x, df['block_reward'].groupby(df['position']).median())\n",
    "ax.grid(axis='y', linestyle='--', linewidth=.5)\n",
    "\n",
    "\n",
    "y1 = df.groupby(['position']).agg({'block_reward': [q25]})\n",
    "y2 = df.groupby(['position']).agg({'block_reward': [q75]})\n",
    "ax.plot(x, y1, x, y2, color='grey', linewidth=.5)\n",
    "\n",
    "ax.fill_between(x, list(y1.iloc[:, 0]), list(y2.iloc[:, 0]), facecolor='lightgrey', alpha=.75)\n",
    "\n",
    "\n",
    "data = df[df['count'] >= 2]\n",
    "ax.scatter(data['position'], data['block_reward'], s = .05, alpha = .75)\n",
    "\n",
    "ax.set_ylabel('Builder payment')\n",
    "ax.set_xlabel('n position in consecutive blocks')\n",
    "\n",
    "plt.ylim(0, .35)\n",
    "\n",
    "vals = ax.get_yticks()\n",
    "ax.set_yticklabels(['{:,.2f}'.format(x)+' ETH' for x in vals])\n",
    "\n",
    "plt.xticks(list(df['position'].unique()))\n",
    "\n",
    "plt.savefig(f'figures/payment_position_pubkey.png')\n",
    "\n",
    "plt.show()\n"
   ]
  },
  {
   "cell_type": "code",
   "execution_count": null,
   "id": "3b46b125",
   "metadata": {},
   "outputs": [],
   "source": [
    "\n"
   ]
  },
  {
   "cell_type": "code",
   "execution_count": null,
   "id": "3d7df8f8",
   "metadata": {},
   "outputs": [],
   "source": [
    "# Is there a pattern, to propose low gas blocks?\n",
    "# \"VALIDATOR for slot k+1 is buying the slot in order to submit an empty block just before the slot they are elected for\"\n",
    "# > Validators could be \"unknown\"\n",
    "\n",
    "n, bins, patches = plt.hist(df[df['boosted']==True]['gas_used'], 50, density=True, facecolor='g', alpha=0.75)\n",
    "\n",
    "temp = df[(df['boosted']==True) & (df['gas_used'] < 0.75e7)]"
   ]
  },
  {
   "cell_type": "code",
   "execution_count": null,
   "id": "e59fe94c",
   "metadata": {},
   "outputs": [],
   "source": [
    "temp"
   ]
  },
  {
   "cell_type": "code",
   "execution_count": null,
   "id": "a2441f4a",
   "metadata": {},
   "outputs": [],
   "source": [
    "print(temp.groupby(['builder_name']).size())"
   ]
  },
  {
   "cell_type": "code",
   "execution_count": null,
   "id": "53e3079b",
   "metadata": {},
   "outputs": [],
   "source": [
    "pd.set_option(\"display.max_rows\", None)\n",
    "temp.groupby(['builder_name', 'count', 'position']).size().to_frame(name='vals')"
   ]
  },
  {
   "cell_type": "markdown",
   "id": "6ea2e520",
   "metadata": {},
   "source": [
    "### math"
   ]
  },
  {
   "cell_type": "code",
   "execution_count": 53,
   "id": "28cbeacf",
   "metadata": {},
   "outputs": [
    {
     "data": {
      "text/plain": [
       "1.0"
      ]
     },
     "execution_count": 53,
     "metadata": {},
     "output_type": "execute_result"
    }
   ],
   "source": [
    "n = 3\n",
    "k = 1\n",
    "p = .5\n",
    "2*(n-(k+1)+1)*(p**(k+1))"
   ]
  },
  {
   "cell_type": "code",
   "execution_count": 60,
   "id": "4c0ee11f",
   "metadata": {},
   "outputs": [
    {
     "data": {
      "text/plain": [
       "0.625"
      ]
     },
     "execution_count": 60,
     "metadata": {},
     "output_type": "execute_result"
    }
   ],
   "source": [
    "n = 3\n",
    "k = 1\n",
    "p = .5\n",
    "1*(n-k+1)*(p**k)-2*((n-(k+1)+1)*(p**(k+1))-2*(n-(k+2)+1)*(p**(k+2)))-3*(n-(k+2)+1)*(p**(k+2))"
   ]
  },
  {
   "cell_type": "code",
   "execution_count": 40,
   "id": "a770332e",
   "metadata": {},
   "outputs": [
    {
     "data": {
      "text/plain": [
       "0.25"
      ]
     },
     "execution_count": 40,
     "metadata": {},
     "output_type": "execute_result"
    }
   ],
   "source": [
    "n = 3\n",
    "k = 2\n",
    "p = .5\n",
    "(n-k+1)*(p**k)-2*(n-(k+1)+1)*(p**(k+1))"
   ]
  },
  {
   "cell_type": "code",
   "execution_count": 36,
   "id": "02a6dfde",
   "metadata": {},
   "outputs": [
    {
     "data": {
      "text/plain": [
       "1"
      ]
     },
     "execution_count": 36,
     "metadata": {},
     "output_type": "execute_result"
    }
   ],
   "source": [
    "-2*(n-(k+1)+1)*(p**(k+1))-2*(n-(k+2)+1)*(p**(k+2))"
   ]
  },
  {
   "cell_type": "code",
   "execution_count": 31,
   "id": "c6386d3b",
   "metadata": {},
   "outputs": [
    {
     "data": {
      "text/plain": [
       "0.125"
      ]
     },
     "execution_count": 31,
     "metadata": {},
     "output_type": "execute_result"
    }
   ],
   "source": [
    "n = 3\n",
    "k = 3\n",
    "p = .5\n",
    "(n-k+1)*(p**k)"
   ]
  },
  {
   "cell_type": "code",
   "execution_count": null,
   "id": "0afc80ce",
   "metadata": {},
   "outputs": [],
   "source": [
    "#What is the probability of exactly k consecutive heads in n tosses?\n",
    "\n",
    "p = 99/100 #probability\n",
    "n = 2 #tosses\n",
    "k = 2 #k consecutive tosses\n",
    "\n",
    "\n",
    "print('gesamt', p**k*(1-p)**2*max(0,(n-k-1))+p**k*(1-p)*2)\n",
    "\n",
    "print('term a', p**k*(1-p)**2*max(0,(n-k-1)))\n",
    "print('term b', p**k*(1-p)*2)\n",
    "\n",
    "print('equation', f'{p}**{k}*(1-{p})**2*{max(0, n-k-1)}+{p}**{k}*(1-{p})*2')"
   ]
  },
  {
   "cell_type": "code",
   "execution_count": null,
   "id": "78b87ddd",
   "metadata": {},
   "outputs": [],
   "source": [
    "#What is the probability of exactly k consecutive heads in n tosses?\n",
    "\n",
    "p = 99/100 #probability\n",
    "n = 3 #tosses\n",
    "k = 1 #k consecutive tosses\n",
    "\n",
    "\n",
    "print('gesamt', p**k*(1-p)**2*max(0,(n-k-1))+p**k*(1-p)*max(0,n-k)*2+p**k*max(0,k-n+1))\n",
    "print('a', p**k*(1-p)**2*max(0,(n-k-1)))\n",
    "print('b', p**k*(1-p)*max(0,k-n)*2)\n",
    "print('c', p**k*max(0,k-n+1))"
   ]
  },
  {
   "cell_type": "code",
   "execution_count": null,
   "id": "7e37e122",
   "metadata": {},
   "outputs": [],
   "source": [
    "n = 3\n",
    "k = 2\n",
    "(n-k+1)/(2**k)-(n-k)/(2**(k+1))*2"
   ]
  },
  {
   "cell_type": "code",
   "execution_count": null,
   "id": "fc1b8f7e",
   "metadata": {},
   "outputs": [],
   "source": [
    "n = 3\n",
    "k = 3\n",
    "(n-k+1)/(2**k)"
   ]
  },
  {
   "cell_type": "code",
   "execution_count": null,
   "id": "5070b60b",
   "metadata": {},
   "outputs": [],
   "source": [
    "def prob(c, p):\n",
    "    # c = consecutive blocks\n",
    "    # n = slots\n",
    "    # p = share MEV boost\n",
    "    \n",
    "    x = symbols('x', real=True)\n",
    "\n",
    "    c = c; n = 32; p = p\n",
    "\n",
    "    xx = min(i for i in solve(1-x+(1-p)*p**c*x**(c+1)) if i > 1)\n",
    "    qn = ((1 - p*xx) / ((c + 1 - c*xx)*(1-p))) * (1/(xx**(n+1)))\n",
    "    \n",
    "    return qn*100, (1-qn)*100\n",
    "\n",
    "    "
   ]
  },
  {
   "cell_type": "code",
   "execution_count": null,
   "id": "a52d41ed",
   "metadata": {},
   "outputs": [],
   "source": [
    "calc"
   ]
  },
  {
   "cell_type": "code",
   "execution_count": null,
   "id": "cee8b1b3",
   "metadata": {},
   "outputs": [],
   "source": [
    "calc[:,0:13]"
   ]
  },
  {
   "cell_type": "code",
   "execution_count": null,
   "id": "027ac2d1",
   "metadata": {},
   "outputs": [],
   "source": [
    "lst = list(df['builder_name'].unique())\n",
    "expt = calc[['builder_name', 'slots', 'share']]\n"
   ]
  },
  {
   "cell_type": "code",
   "execution_count": null,
   "id": "8d059490",
   "metadata": {},
   "outputs": [],
   "source": [
    "lst"
   ]
  },
  {
   "cell_type": "code",
   "execution_count": null,
   "id": "67736f66",
   "metadata": {},
   "outputs": [],
   "source": [
    "expt"
   ]
  },
  {
   "cell_type": "code",
   "execution_count": null,
   "id": "d2a571e7",
   "metadata": {},
   "outputs": [],
   "source": [
    "lst"
   ]
  },
  {
   "cell_type": "code",
   "execution_count": null,
   "id": "98666113",
   "metadata": {},
   "outputs": [],
   "source": [
    "\n",
    "temp_lst = [0,1,2,3,4,5,6,7,8,9]\n",
    "temp_lst.append(temp_lst)\n",
    "\n",
    "expt['e_1'] = temp_lst\n",
    "\n",
    "for c in range(2,5+1):\n",
    "    temp_lst = []\n",
    "    \n",
    "    for x in lst:\n",
    "        p = float(expt[expt['builder_name'] == x]['share'].values)\n",
    "        no_success, success = prob(c, p)\n",
    "        temp_lst.append(int(np.round(float(success)/100*total_epochs,0)))\n",
    "    \n",
    "    name = f'e_{c}'\n",
    "    expt[name] = temp_lst\n",
    "    "
   ]
  },
  {
   "cell_type": "code",
   "execution_count": null,
   "id": "dc50f59f",
   "metadata": {},
   "outputs": [],
   "source": [
    "expt"
   ]
  },
  {
   "cell_type": "code",
   "execution_count": null,
   "id": "cf86211a",
   "metadata": {},
   "outputs": [],
   "source": [
    "calc"
   ]
  },
  {
   "cell_type": "code",
   "execution_count": null,
   "id": "402ab17f",
   "metadata": {},
   "outputs": [],
   "source": [
    "p = np.round(len(df[df['builder_name'] == 'beaverbuild.org'])/1500,4)\n",
    "\n",
    "print('In a dataset of', len(df), 'blocks', int(len(df)*12/60/60), 'hours we expect ..')\n",
    "for i in [1,2,3,4,5]:\n",
    "    c = i\n",
    "    no_success, success = prob(c, p)\n",
    "    print(i, 'consecutive blocks: Probability', np.round(float(success),2), '% - Instances:', np.round(float(success)/100*47,0))\n",
    "\n",
    "print('.. proposed by the same builder')\n"
   ]
  },
  {
   "cell_type": "code",
   "execution_count": null,
   "id": "4dea4582",
   "metadata": {},
   "outputs": [],
   "source": [
    "stat = df[df['builder_name'] == 'beaverbuild.org'].groupby(['count']).size().values\n",
    "\n",
    "print('In a dataset of', len(df), 'blocks', int(len(df)*12/60/60), 'hours we find ..')\n",
    "\n",
    "for i, x in enumerate(np.sort(df[df['builder_name'] == 'beaverbuild.org']['count'].unique())):\n",
    "    stat[i] = stat[i]/x\n",
    "    \n",
    "    print(stat[i], 'instances of', i+1, 'consecutive blocks')\n",
    "    \n",
    "print('.. proposed by the same builder')"
   ]
  },
  {
   "cell_type": "code",
   "execution_count": null,
   "id": "84750791",
   "metadata": {},
   "outputs": [],
   "source": [
    "## MATRIX\n",
    "cons_blocks = np.arange(2,5+1) #cons_blocks\n",
    "prob = np.arange(.1,.9+.05,.05)"
   ]
  },
  {
   "cell_type": "code",
   "execution_count": null,
   "id": "6176ab5f",
   "metadata": {},
   "outputs": [],
   "source": [
    "lst = []\n",
    "for p in prob:\n",
    "    lst_temp = []\n",
    "    lst_temp.append(x)\n",
    "    for c in cons_blocks:\n",
    "        no_success, success = prob(c, p)\n",
    "        lst_temp.append(success)\n",
    "    \n",
    "    for z in range(0, len(lst_temp)):\n",
    "        try: \n",
    "            lst_temp[z] = np.round(float(lst_temp[z]), 2)\n",
    "        except TypeError:\n",
    "            lst_temp[z] = 100\n",
    "        \n",
    "    lst.append(lst_temp)\n",
    "        "
   ]
  },
  {
   "cell_type": "code",
   "execution_count": null,
   "id": "dacae7a3",
   "metadata": {},
   "outputs": [],
   "source": [
    "df = pd.DataFrame(lst, columns =['probability', 'k=2', 'k=3', 'k=4', 'k=5', 'k=6', 'k=7', 'k=8', 'k=9', 'k=10'])\n",
    "df = df.set_index('probability')\n",
    "df"
   ]
  },
  {
   "cell_type": "code",
   "execution_count": null,
   "id": "dc044bb6",
   "metadata": {},
   "outputs": [],
   "source": [
    "print('If the market share of MEV boost is p=0.5, then we derive', (38.96/100)*225, 'k=5 consecutive blocks a day.')\n",
    "print('If the market share of MEV boost is p=0.5, then we derive', (38.96/100)*6759, 'k=5 consecutive blocks a month.')\n"
   ]
  }
 ],
 "metadata": {
  "kernelspec": {
   "display_name": "Python 3 (ipykernel)",
   "language": "python",
   "name": "python3"
  },
  "language_info": {
   "codemirror_mode": {
    "name": "ipython",
    "version": 3
   },
   "file_extension": ".py",
   "mimetype": "text/x-python",
   "name": "python",
   "nbconvert_exporter": "python",
   "pygments_lexer": "ipython3",
   "version": "3.8.3"
  }
 },
 "nbformat": 4,
 "nbformat_minor": 5
}
