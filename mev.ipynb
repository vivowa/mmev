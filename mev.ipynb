{
 "cells": [
  {
   "cell_type": "code",
   "execution_count": 1,
   "metadata": {},
   "outputs": [],
   "source": [
    "import requests\n",
    "import pandas as pd\n",
    "import numpy as np\n",
    "import uuid\n",
    "\n",
    "pd.options.mode.chained_assignment = None"
   ]
  },
  {
   "cell_type": "code",
   "execution_count": 7,
   "metadata": {},
   "outputs": [],
   "source": [
    "df_raw = pd.read_csv('blocks.csv')\n",
    "df_raw.drop(columns=['transactions'], inplace=True)\n",
    "df_raw.sort_values(by='block_number', ascending=True, inplace=True)\n",
    "df_raw.reset_index(drop=True, inplace=True)\n",
    "df_raw.to_csv('blocks.csv', index=False)"
   ]
  },
  {
   "cell_type": "code",
   "execution_count": null,
   "metadata": {},
   "outputs": [],
   "source": [
    "url = f'https://blocks.flashbots.net/v1/blocks?limit=5000'\n",
    "\n",
    "response = requests.get(url)\n",
    "\n",
    "raw = response.json()\n",
    "raw = raw['blocks']\n",
    "\n",
    "df_raw = pd.DataFrame.from_dict(raw)\n",
    "df_raw.sort_values(by='block_number', ascending=True, inplace=True)\n",
    "df_raw.reset_index(drop=True, inplace=True)\n",
    "\n",
    "\n",
    "def create_transactions(raw):\n",
    "    txn = []\n",
    "    for i in range(0, len(raw)):\n",
    "        txn.append(raw[i]['transactions'])\n",
    "    \n",
    "    txn = [item for sublist in txn for item in sublist]\n",
    "    return txn\n",
    "\n",
    "txn = create_transactions(raw)\n",
    "df_txn = pd.DataFrame.from_dict(txn)\n",
    "\n",
    "df_txn.to_csv('txn.csv', mode='a', index=False)\n",
    "\n",
    "df_raw.drop(columns=['transactions'])\n",
    "df_raw.to_csv('blocks.csv', mode='a', index=False)\n",
    "\n",
    "\n",
    "\n"
   ]
  },
  {
   "cell_type": "code",
   "execution_count": null,
   "metadata": {},
   "outputs": [],
   "source": [
    "temp = pd.read_csv('txn.csv')\n",
    "temp.drop_duplicates(keep='first', inplace=True)\n",
    "temp.sort_values(by='block_number', ascending=True, inplace=True)\n",
    "temp.reset_index(drop=True, inplace=True)\n"
   ]
  },
  {
   "cell_type": "code",
   "execution_count": null,
   "metadata": {},
   "outputs": [],
   "source": []
  },
  {
   "cell_type": "code",
   "execution_count": null,
   "metadata": {},
   "outputs": [],
   "source": [
    "def create_bundles(df_txn):\n",
    "    blocks = np.unique(df_txn['block_number'])\n",
    "    bdl = []\n",
    "    for i in range(0, len(blocks)):\n",
    "        bundles = np.unique(df_txn[df_txn['block_number'] == blocks[i]]['bundle_index'])\n",
    "        for j in range(0, len(bundles)):\n",
    "            temp = df_txn[(df_txn['block_number'] == blocks[i]) & (df_txn['bundle_index'] == bundles[j])]\n",
    "            temp['id'] = uuid.uuid4()\n",
    "            temp.reset_index(drop=True, inplace=True)\n",
    "            bdl.append(temp.to_dict())\n",
    "\n",
    "    return bdl\n",
    "\n",
    "bdl = create_bundles(df_txn)\n",
    "bdl_df = pd.DataFrame.from_dict(bdl)"
   ]
  }
 ],
 "metadata": {
  "kernelspec": {
   "display_name": "Python 3 (ipykernel)",
   "language": "python",
   "name": "python3"
  },
  "language_info": {
   "codemirror_mode": {
    "name": "ipython",
    "version": 3
   },
   "file_extension": ".py",
   "mimetype": "text/x-python",
   "name": "python",
   "nbconvert_exporter": "python",
   "pygments_lexer": "ipython3",
   "version": "3.8.3"
  }
 },
 "nbformat": 4,
 "nbformat_minor": 4
}
