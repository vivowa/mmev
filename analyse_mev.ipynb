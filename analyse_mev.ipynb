{
 "cells": [
  {
   "cell_type": "code",
   "execution_count": null,
   "metadata": {},
   "outputs": [],
   "source": [
    "import requests\n",
    "import json\n",
    "import pandas as pd\n",
    "import numpy as np\n",
    "import matplotlib.pyplot as plt\n",
    "\n",
    "pd.options.mode.chained_assignment = None"
   ]
  },
  {
   "cell_type": "code",
   "execution_count": null,
   "metadata": {},
   "outputs": [],
   "source": [
    "FOLDER = './'\n",
    "df_raw = pd.read_csv(FOLDER + 'blocks.csv')\n",
    "df_raw.info()\n",
    "df_raw[df_raw.duplicated(['block_number'], keep=False)]"
   ]
  },
  {
   "cell_type": "code",
   "execution_count": null,
   "metadata": {},
   "outputs": [],
   "source": [
    "df_raw.drop_duplicates(['block_number'], keep='last', inplace=True)\n",
    "df_raw.sort_values(by='block_number', ascending=True, inplace=True)\n",
    "df_raw.reset_index(drop=True, inplace=True)\n",
    "\n",
    "df_raw.info()"
   ]
  },
  {
   "cell_type": "code",
   "execution_count": null,
   "metadata": {},
   "outputs": [],
   "source": [
    "#takes a list and allocates each value to a bin\n",
    "lst = np.array(df_raw['block_number'])\n",
    "\n",
    "start = np.round(df_raw['block_number'].min(), -2)\n",
    "end = np.round(df_raw['block_number'].max(), -2)\n",
    "\n",
    "#creates bins for each 32nd block (slot)\n",
    "bins = np.arange(np.round(df_raw['block_number'].min(), -2), np.round(df_raw['block_number'].max(), -2), 32)\n",
    "\n",
    "temp = []\n",
    "for i in range(1,len(bins)+1):\n",
    "    temp.append(lst[np.digitize(lst,bins)==i])\n"
   ]
  },
  {
   "cell_type": "code",
   "execution_count": null,
   "metadata": {},
   "outputs": [],
   "source": [
    "#connects slot and blocks within slots\n",
    "data = list(zip(bins, temp))\n",
    "data"
   ]
  },
  {
   "cell_type": "code",
   "execution_count": null,
   "metadata": {},
   "outputs": [],
   "source": [
    "fig, ax = plt.subplots(figsize =(20,4))\n",
    "\n",
    "x = [ele[0] for ele in data]\n",
    "y = [len(ele[1]) for ele in data]\n",
    "\n",
    "ax.scatter(x, y, s=20, alpha=.6)\n",
    "\n",
    "ax.set_ylabel('amount of flashbots blocks')\n",
    "\n",
    "plt.yticks(range(0,20+1,4))\n",
    "\n",
    "txt = 'The figure displays the number of flashbots blocks within each slot.'\n",
    "fig.text(.5, -.1, txt, ha='center', fontstyle='italic')\n",
    "\n",
    "ax.set(xlim = (start-400, end+400))\n",
    "\n",
    "xlabels = ['{:,.3f}'.format(x/1e6) + 'mn' for x in ax.get_xticks()]\n",
    "ax.set_xticklabels(xlabels)\n",
    "\n",
    "\n",
    "#plt.savefig('t.png')\n",
    "plt.show()"
   ]
  },
  {
   "cell_type": "code",
   "execution_count": null,
   "metadata": {},
   "outputs": [],
   "source": [
    "#calculates consecutive blocks\n",
    "\n",
    "temp = df_raw['block_number'].values\n",
    "\n",
    "from itertools import groupby\n",
    "from operator import itemgetter\n",
    "\n",
    "#enummerate creates tuple(element index, element value); (0,24),(1,25)\n",
    "#lambda substracts: element index - element value; (-24)(-24)\n",
    "#groupby groups the results with equal value\n",
    "#map(fct, lst) applies a function to every item of the list; equal to apply for dataframes\n",
    "\n",
    "con_blocks = []\n",
    "\n",
    "for k,g in groupby(enumerate(temp), lambda x:x[0]-x[1]):\n",
    "    group = map(itemgetter(1),g)\n",
    "    con_blocks.append(list(map(int,group)))\n",
    "\n",
    "con_blocks"
   ]
  },
  {
   "cell_type": "code",
   "execution_count": null,
   "metadata": {},
   "outputs": [],
   "source": [
    "#takes the lowest blocknumber of each consecutive block and calculates the length\n",
    "temp = []\n",
    "for i in range(0, len(con_blocks)):\n",
    "    temp.append((con_blocks[i][0], len(con_blocks[i])))\n",
    "\n",
    "temp"
   ]
  },
  {
   "cell_type": "code",
   "execution_count": null,
   "metadata": {},
   "outputs": [],
   "source": [
    "#takes the list (first blocknumber of consec. blocks) and allocates it to the bin\n",
    "lst = np.array([ele[0] for ele in temp])\n",
    "bins = bins\n",
    "#however it attaches the lengths of the consec. blocks\n",
    "cons_block = np.array([ele[1] for ele in temp])\n",
    "\n",
    "temp = []\n",
    "for i in range(1,len(bins)+1):\n",
    "    temp.append(cons_block[np.digitize(lst,bins)==i])\n",
    "\n",
    "temp"
   ]
  },
  {
   "cell_type": "code",
   "execution_count": null,
   "metadata": {},
   "outputs": [],
   "source": [
    "#unzip the list\n",
    "bins, cons_blocks = zip(*data)"
   ]
  },
  {
   "cell_type": "code",
   "execution_count": null,
   "metadata": {},
   "outputs": [],
   "source": [
    "data = list(zip(bins, cons_blocks, temp))\n",
    "data"
   ]
  },
  {
   "cell_type": "code",
   "execution_count": null,
   "metadata": {},
   "outputs": [],
   "source": [
    "fig, ax = plt.subplots(figsize =(20,8))\n",
    "\n",
    "#scatters multiple times; takes the first and third argument in data\n",
    "for u,_,t in data:\n",
    "    #scale x to number of consec. blocks\n",
    "    x = [u] * len(t)\n",
    "    y = t\n",
    "    y_jittered = y + np.random.uniform(-.3,.3)\n",
    "    plt.scatter(x, y_jittered, s=20, alpha=.4, c='b')\n",
    "\n",
    "ax.set_ylabel('amount of flashbots blocks')\n",
    "\n",
    "plt.yticks(range(0,8+1,1))\n",
    "\n",
    "ax.set(xlim = (start-400, end+400))\n",
    "\n",
    "txt = 'The figure displays the number of flashbots blocks within each slot.'\n",
    "fig.text(.5, -.1, txt, ha='center', fontstyle='italic')\n",
    "\n",
    "xlabels = ['{:,.3f}'.format(x/1e6) + 'mn' for x in ax.get_xticks()]\n",
    "ax.set_xticklabels(xlabels)\n",
    "\n",
    "#plt.savefig('t.png')\n",
    "plt.show()\n",
    "\n",
    "\n"
   ]
  },
  {
   "cell_type": "code",
   "execution_count": null,
   "metadata": {},
   "outputs": [],
   "source": []
  }
 ],
 "metadata": {
  "kernelspec": {
   "display_name": "Python 3 (ipykernel)",
   "language": "python",
   "name": "python3"
  },
  "language_info": {
   "codemirror_mode": {
    "name": "ipython",
    "version": 3
   },
   "file_extension": ".py",
   "mimetype": "text/x-python",
   "name": "python",
   "nbconvert_exporter": "python",
   "pygments_lexer": "ipython3",
   "version": "3.8.3"
  }
 },
 "nbformat": 4,
 "nbformat_minor": 4
}
